{
 "cells": [
  {
   "cell_type": "code",
   "execution_count": 56,
   "id": "4d856899",
   "metadata": {},
   "outputs": [],
   "source": [
    "import pandas as pd\n",
    "import numpy as np\n",
    "import plotly.express as px\n",
    "import plotly.graph_objects as go\n",
    "import matplotlib.pyplot as plt"
   ]
  },
  {
   "cell_type": "code",
   "execution_count": 57,
   "id": "eb8c55a5",
   "metadata": {},
   "outputs": [],
   "source": [
    "#read the person data from data frolder person_id.xlsx\n",
    "person_data = pd.read_excel(\"person_id.xlsx\")"
   ]
  },
  {
   "cell_type": "code",
   "execution_count": 63,
   "id": "0f23e6dd",
   "metadata": {},
   "outputs": [],
   "source": [
    "\n",
    "#read release data\n",
    "release = pd.read_excel(\"releases.xlsx\") "
   ]
  },
  {
   "cell_type": "code",
   "execution_count": 59,
   "id": "e7b9dbe7",
   "metadata": {},
   "outputs": [],
   "source": [
    "# read demographic data\n",
    "demo = pd.read_excel(\"demographics.xlsx\")"
   ]
  },
  {
   "cell_type": "code",
   "execution_count": 60,
   "id": "9cdf5de3",
   "metadata": {},
   "outputs": [],
   "source": [
    "#read tthe data from the personal data file\n",
    "person_data = pd.read_excel(\"person_id.xlsx\")\n"
   ]
  },
  {
   "cell_type": "code",
   "execution_count": 97,
   "id": "c78fa5c5",
   "metadata": {},
   "outputs": [],
   "source": [
    "# read the data from the institutional work\n",
    "institutional = pd.read_excel(\"institutional_work.xlsx\")"
   ]
  },
  {
   "cell_type": "code",
   "execution_count": 62,
   "id": "2ebe96c6",
   "metadata": {},
   "outputs": [],
   "source": [
    "# read violations data\n",
    "violation = pd.read_excel(\"violations.xlsx\") "
   ]
  },
  {
   "cell_type": "code",
   "execution_count": null,
   "id": "1fc2575b",
   "metadata": {},
   "outputs": [],
   "source": [
    "## read classes data\n",
    "cla= pd.read_excel(\"classes.xlsx\")"
   ]
  },
  {
   "cell_type": "code",
   "execution_count": 95,
   "id": "09dda47b",
   "metadata": {},
   "outputs": [],
   "source": [
    "# read supervision data\n",
    "supervision = pd.read_excel(\"community_supervision.xlsx\")"
   ]
  },
  {
   "cell_type": "markdown",
   "id": "ece5aa2f",
   "metadata": {},
   "source": [
    "## Question 1 What are the characteristics of the population?"
   ]
  },
  {
   "cell_type": "code",
   "execution_count": 8,
   "id": "86a3dd44",
   "metadata": {},
   "outputs": [
    {
     "data": {
      "text/html": [
       "<div>\n",
       "<style scoped>\n",
       "    .dataframe tbody tr th:only-of-type {\n",
       "        vertical-align: middle;\n",
       "    }\n",
       "\n",
       "    .dataframe tbody tr th {\n",
       "        vertical-align: top;\n",
       "    }\n",
       "\n",
       "    .dataframe thead th {\n",
       "        text-align: right;\n",
       "    }\n",
       "</style>\n",
       "<table border=\"1\" class=\"dataframe\">\n",
       "  <thead>\n",
       "    <tr style=\"text-align: right;\">\n",
       "      <th></th>\n",
       "      <th>PERSON_ID</th>\n",
       "      <th>CYCLE</th>\n",
       "      <th>ADMISSION_DATE</th>\n",
       "      <th>RELEASE_DATE</th>\n",
       "      <th>AGE_AT_ADMISSION</th>\n",
       "      <th>AGE_AT_EXIT</th>\n",
       "      <th>COUNTY</th>\n",
       "      <th>MOCODE_DESC</th>\n",
       "      <th>OFFENSE_GROUP</th>\n",
       "      <th>SENTENCE_YEARS</th>\n",
       "      <th>ADMISSION_STATUS</th>\n",
       "      <th>ADMISSION_TYPE</th>\n",
       "      <th>RELEASE_TYPE</th>\n",
       "      <th>LAST_CUSTODY_LEVEL</th>\n",
       "      <th>LAST_MH_CODE</th>\n",
       "      <th>LAST_M_CODE</th>\n",
       "      <th>LAST_E_CODE</th>\n",
       "      <th>LAST_V_CODE</th>\n",
       "      <th>LAST_I_CODE</th>\n",
       "      <th>DEATH_DATE</th>\n",
       "    </tr>\n",
       "  </thead>\n",
       "  <tbody>\n",
       "    <tr>\n",
       "      <th>0</th>\n",
       "      <td>97737218.0</td>\n",
       "      <td>2.0</td>\n",
       "      <td>2011-04-20</td>\n",
       "      <td>2012-11-02</td>\n",
       "      <td>47</td>\n",
       "      <td>48</td>\n",
       "      <td>DEKALB</td>\n",
       "      <td>23013 TAMPER WITH MOTOR VEH-1S</td>\n",
       "      <td>NONVIOLENT</td>\n",
       "      <td>5</td>\n",
       "      <td>PB</td>\n",
       "      <td>S</td>\n",
       "      <td>PPR</td>\n",
       "      <td>C-1</td>\n",
       "      <td>1</td>\n",
       "      <td>1</td>\n",
       "      <td>3</td>\n",
       "      <td>2</td>\n",
       "      <td>1</td>\n",
       "      <td>NaN</td>\n",
       "    </tr>\n",
       "    <tr>\n",
       "      <th>1</th>\n",
       "      <td>80832089.0</td>\n",
       "      <td>3.0</td>\n",
       "      <td>2016-05-11</td>\n",
       "      <td>2016-09-08</td>\n",
       "      <td>57</td>\n",
       "      <td>57</td>\n",
       "      <td>ST. FRANCOIS</td>\n",
       "      <td>13029 DOMESTIC ASSAULT-2ND DEG</td>\n",
       "      <td>VIOLENT</td>\n",
       "      <td>7</td>\n",
       "      <td>PB</td>\n",
       "      <td>I</td>\n",
       "      <td>PRB</td>\n",
       "      <td></td>\n",
       "      <td>0</td>\n",
       "      <td>0</td>\n",
       "      <td>0</td>\n",
       "      <td>0</td>\n",
       "      <td>0</td>\n",
       "      <td>NaN</td>\n",
       "    </tr>\n",
       "    <tr>\n",
       "      <th>2</th>\n",
       "      <td>88054449.0</td>\n",
       "      <td>2.0</td>\n",
       "      <td>2013-06-05</td>\n",
       "      <td>2014-01-21</td>\n",
       "      <td>52</td>\n",
       "      <td>52</td>\n",
       "      <td></td>\n",
       "      <td>22352 PR OFNDR RESIDE-1000 FT-</td>\n",
       "      <td>SEXCHLABUS</td>\n",
       "      <td>3</td>\n",
       "      <td>PB</td>\n",
       "      <td>S</td>\n",
       "      <td>PPR</td>\n",
       "      <td>C-1</td>\n",
       "      <td>2</td>\n",
       "      <td>1</td>\n",
       "      <td>1</td>\n",
       "      <td>5</td>\n",
       "      <td>1</td>\n",
       "      <td>NaN</td>\n",
       "    </tr>\n",
       "    <tr>\n",
       "      <th>3</th>\n",
       "      <td>68129888.0</td>\n",
       "      <td>2.0</td>\n",
       "      <td>2007-10-17</td>\n",
       "      <td>2009-04-03</td>\n",
       "      <td>42</td>\n",
       "      <td>43</td>\n",
       "      <td></td>\n",
       "      <td>32450 POSS CONTROLLED SUBSTANC</td>\n",
       "      <td>DRUG</td>\n",
       "      <td>7</td>\n",
       "      <td>PB</td>\n",
       "      <td>S</td>\n",
       "      <td>PPR</td>\n",
       "      <td>C-1</td>\n",
       "      <td>3</td>\n",
       "      <td>2</td>\n",
       "      <td>1</td>\n",
       "      <td>2</td>\n",
       "      <td>1</td>\n",
       "      <td>NaN</td>\n",
       "    </tr>\n",
       "    <tr>\n",
       "      <th>4</th>\n",
       "      <td>78516984.0</td>\n",
       "      <td>2.0</td>\n",
       "      <td>2011-09-09</td>\n",
       "      <td>2015-06-12</td>\n",
       "      <td>53</td>\n",
       "      <td>56</td>\n",
       "      <td>ST. LOUIS COUNTY</td>\n",
       "      <td>13029 DOMESTIC ASSAULT-2ND DEG</td>\n",
       "      <td>VIOLENT</td>\n",
       "      <td>7</td>\n",
       "      <td>PB</td>\n",
       "      <td>S</td>\n",
       "      <td>PPR</td>\n",
       "      <td>C-1</td>\n",
       "      <td>1</td>\n",
       "      <td>2</td>\n",
       "      <td>1</td>\n",
       "      <td>2</td>\n",
       "      <td>1</td>\n",
       "      <td>NaN</td>\n",
       "    </tr>\n",
       "  </tbody>\n",
       "</table>\n",
       "</div>"
      ],
      "text/plain": [
       "    PERSON_ID  CYCLE ADMISSION_DATE RELEASE_DATE  AGE_AT_ADMISSION  \\\n",
       "0  97737218.0    2.0     2011-04-20   2012-11-02                47   \n",
       "1  80832089.0    3.0     2016-05-11   2016-09-08                57   \n",
       "2  88054449.0    2.0     2013-06-05   2014-01-21                52   \n",
       "3  68129888.0    2.0     2007-10-17   2009-04-03                42   \n",
       "4  78516984.0    2.0     2011-09-09   2015-06-12                53   \n",
       "\n",
       "   AGE_AT_EXIT            COUNTY                     MOCODE_DESC  \\\n",
       "0           48            DEKALB  23013 TAMPER WITH MOTOR VEH-1S   \n",
       "1           57      ST. FRANCOIS  13029 DOMESTIC ASSAULT-2ND DEG   \n",
       "2           52                    22352 PR OFNDR RESIDE-1000 FT-   \n",
       "3           43                    32450 POSS CONTROLLED SUBSTANC   \n",
       "4           56  ST. LOUIS COUNTY  13029 DOMESTIC ASSAULT-2ND DEG   \n",
       "\n",
       "  OFFENSE_GROUP  SENTENCE_YEARS ADMISSION_STATUS ADMISSION_TYPE RELEASE_TYPE  \\\n",
       "0    NONVIOLENT               5               PB              S          PPR   \n",
       "1    VIOLENT                  7               PB              I          PRB   \n",
       "2    SEXCHLABUS               3               PB              S          PPR   \n",
       "3    DRUG                     7               PB              S          PPR   \n",
       "4    VIOLENT                  7               PB              S          PPR   \n",
       "\n",
       "  LAST_CUSTODY_LEVEL  LAST_MH_CODE  LAST_M_CODE  LAST_E_CODE  LAST_V_CODE  \\\n",
       "0                C-1             1            1            3            2   \n",
       "1                                0            0            0            0   \n",
       "2                C-1             2            1            1            5   \n",
       "3                C-1             3            2            1            2   \n",
       "4                C-1             1            2            1            2   \n",
       "\n",
       "   LAST_I_CODE DEATH_DATE  \n",
       "0            1        NaN  \n",
       "1            0        NaN  \n",
       "2            1        NaN  \n",
       "3            1        NaN  \n",
       "4            1        NaN  "
      ]
     },
     "execution_count": 8,
     "metadata": {},
     "output_type": "execute_result"
    }
   ],
   "source": [
    "release.head()"
   ]
  },
  {
   "cell_type": "code",
   "execution_count": 54,
   "id": "3a1525d9",
   "metadata": {},
   "outputs": [
    {
     "data": {
      "text/html": [
       "<div>\n",
       "<style scoped>\n",
       "    .dataframe tbody tr th:only-of-type {\n",
       "        vertical-align: middle;\n",
       "    }\n",
       "\n",
       "    .dataframe tbody tr th {\n",
       "        vertical-align: top;\n",
       "    }\n",
       "\n",
       "    .dataframe thead th {\n",
       "        text-align: right;\n",
       "    }\n",
       "</style>\n",
       "<table border=\"1\" class=\"dataframe\">\n",
       "  <thead>\n",
       "    <tr style=\"text-align: right;\">\n",
       "      <th></th>\n",
       "      <th>YEAR</th>\n",
       "      <th>UNIQUE_PERSON_COUNT_ON_DEC_1</th>\n",
       "    </tr>\n",
       "  </thead>\n",
       "  <tbody>\n",
       "    <tr>\n",
       "      <th>0</th>\n",
       "      <td>2009</td>\n",
       "      <td>9472</td>\n",
       "    </tr>\n",
       "    <tr>\n",
       "      <th>1</th>\n",
       "      <td>2010</td>\n",
       "      <td>9194</td>\n",
       "    </tr>\n",
       "    <tr>\n",
       "      <th>2</th>\n",
       "      <td>2011</td>\n",
       "      <td>9415</td>\n",
       "    </tr>\n",
       "    <tr>\n",
       "      <th>3</th>\n",
       "      <td>2012</td>\n",
       "      <td>9773</td>\n",
       "    </tr>\n",
       "    <tr>\n",
       "      <th>4</th>\n",
       "      <td>2013</td>\n",
       "      <td>9792</td>\n",
       "    </tr>\n",
       "    <tr>\n",
       "      <th>5</th>\n",
       "      <td>2014</td>\n",
       "      <td>9902</td>\n",
       "    </tr>\n",
       "    <tr>\n",
       "      <th>6</th>\n",
       "      <td>2015</td>\n",
       "      <td>9825</td>\n",
       "    </tr>\n",
       "    <tr>\n",
       "      <th>7</th>\n",
       "      <td>2016</td>\n",
       "      <td>9967</td>\n",
       "    </tr>\n",
       "    <tr>\n",
       "      <th>8</th>\n",
       "      <td>2017</td>\n",
       "      <td>10186</td>\n",
       "    </tr>\n",
       "    <tr>\n",
       "      <th>9</th>\n",
       "      <td>2018</td>\n",
       "      <td>9354</td>\n",
       "    </tr>\n",
       "    <tr>\n",
       "      <th>10</th>\n",
       "      <td>2019</td>\n",
       "      <td>7131</td>\n",
       "    </tr>\n",
       "    <tr>\n",
       "      <th>11</th>\n",
       "      <td>2020</td>\n",
       "      <td>5355</td>\n",
       "    </tr>\n",
       "    <tr>\n",
       "      <th>12</th>\n",
       "      <td>2021</td>\n",
       "      <td>4705</td>\n",
       "    </tr>\n",
       "    <tr>\n",
       "      <th>13</th>\n",
       "      <td>2022</td>\n",
       "      <td>3532</td>\n",
       "    </tr>\n",
       "    <tr>\n",
       "      <th>14</th>\n",
       "      <td>2023</td>\n",
       "      <td>399</td>\n",
       "    </tr>\n",
       "  </tbody>\n",
       "</table>\n",
       "</div>"
      ],
      "text/plain": [
       "    YEAR  UNIQUE_PERSON_COUNT_ON_DEC_1\n",
       "0   2009                          9472\n",
       "1   2010                          9194\n",
       "2   2011                          9415\n",
       "3   2012                          9773\n",
       "4   2013                          9792\n",
       "5   2014                          9902\n",
       "6   2015                          9825\n",
       "7   2016                          9967\n",
       "8   2017                         10186\n",
       "9   2018                          9354\n",
       "10  2019                          7131\n",
       "11  2020                          5355\n",
       "12  2021                          4705\n",
       "13  2022                          3532\n",
       "14  2023                           399"
      ]
     },
     "execution_count": 54,
     "metadata": {},
     "output_type": "execute_result"
    }
   ],
   "source": [
    "# Ensure RELEASE_DATE and ADMISSION_DATE are datetime\n",
    "release['RELEASE_DATE'] = pd.to_datetime(release['RELEASE_DATE'])\n",
    "release['ADMISSION_DATE'] = pd.to_datetime(release['ADMISSION_DATE'])\n",
    "\n",
    "# Get the range of years in the data\n",
    "years = release['RELEASE_DATE'].dt.year.unique()\n",
    "years = sorted(years)\n",
    "\n",
    "results = []\n",
    "\n",
    "for year in years:\n",
    "    dec_1 = pd.Timestamp(year=year, month=12, day=1)\n",
    "    # Count unique PERSON_IDs incarcerated on December 1st of that year\n",
    "    mask = (release['ADMISSION_DATE'] <= dec_1) & (release['RELEASE_DATE'] > dec_1)\n",
    "    count = release[mask]['PERSON_ID'].nunique()\n",
    "    results.append({'YEAR': year, 'UNIQUE_PERSON_COUNT_ON_DEC_1': count})\n",
    "\n",
    "unique_persons_dec1 = pd.DataFrame(results)\n",
    "unique_persons_dec1"
   ]
  },
  {
   "cell_type": "code",
   "execution_count": 55,
   "id": "4d80e28f",
   "metadata": {},
   "outputs": [
    {
     "data": {
      "application/vnd.plotly.v1+json": {
       "config": {
        "plotlyServerURL": "https://plot.ly"
       },
       "data": [
        {
         "hovertemplate": "YEAR=%{x}<br>UNIQUE_PERSON_COUNT_ON_DEC_1=%{y}<extra></extra>",
         "legendgroup": "",
         "marker": {
          "color": "#636efa",
          "pattern": {
           "shape": ""
          }
         },
         "name": "",
         "orientation": "v",
         "showlegend": false,
         "textposition": "auto",
         "type": "bar",
         "x": {
          "bdata": "2QcAANoHAADbBwAA3AcAAN0HAADeBwAA3wcAAOAHAADhBwAA4gcAAOMHAADkBwAA5QcAAOYHAADnBwAA",
          "dtype": "i4"
         },
         "xaxis": "x",
         "y": {
          "bdata": "ACXqI8ckLSZAJq4mYSbvJsoniiTbG+sUYRLMDY8B",
          "dtype": "i2"
         },
         "yaxis": "y"
        }
       ],
       "layout": {
        "barmode": "relative",
        "legend": {
         "tracegroupgap": 0
        },
        "margin": {
         "t": 60
        },
        "template": {
         "data": {
          "bar": [
           {
            "error_x": {
             "color": "#2a3f5f"
            },
            "error_y": {
             "color": "#2a3f5f"
            },
            "marker": {
             "line": {
              "color": "#E5ECF6",
              "width": 0.5
             },
             "pattern": {
              "fillmode": "overlay",
              "size": 10,
              "solidity": 0.2
             }
            },
            "type": "bar"
           }
          ],
          "barpolar": [
           {
            "marker": {
             "line": {
              "color": "#E5ECF6",
              "width": 0.5
             },
             "pattern": {
              "fillmode": "overlay",
              "size": 10,
              "solidity": 0.2
             }
            },
            "type": "barpolar"
           }
          ],
          "carpet": [
           {
            "aaxis": {
             "endlinecolor": "#2a3f5f",
             "gridcolor": "white",
             "linecolor": "white",
             "minorgridcolor": "white",
             "startlinecolor": "#2a3f5f"
            },
            "baxis": {
             "endlinecolor": "#2a3f5f",
             "gridcolor": "white",
             "linecolor": "white",
             "minorgridcolor": "white",
             "startlinecolor": "#2a3f5f"
            },
            "type": "carpet"
           }
          ],
          "choropleth": [
           {
            "colorbar": {
             "outlinewidth": 0,
             "ticks": ""
            },
            "type": "choropleth"
           }
          ],
          "contour": [
           {
            "colorbar": {
             "outlinewidth": 0,
             "ticks": ""
            },
            "colorscale": [
             [
              0,
              "#0d0887"
             ],
             [
              0.1111111111111111,
              "#46039f"
             ],
             [
              0.2222222222222222,
              "#7201a8"
             ],
             [
              0.3333333333333333,
              "#9c179e"
             ],
             [
              0.4444444444444444,
              "#bd3786"
             ],
             [
              0.5555555555555556,
              "#d8576b"
             ],
             [
              0.6666666666666666,
              "#ed7953"
             ],
             [
              0.7777777777777778,
              "#fb9f3a"
             ],
             [
              0.8888888888888888,
              "#fdca26"
             ],
             [
              1,
              "#f0f921"
             ]
            ],
            "type": "contour"
           }
          ],
          "contourcarpet": [
           {
            "colorbar": {
             "outlinewidth": 0,
             "ticks": ""
            },
            "type": "contourcarpet"
           }
          ],
          "heatmap": [
           {
            "colorbar": {
             "outlinewidth": 0,
             "ticks": ""
            },
            "colorscale": [
             [
              0,
              "#0d0887"
             ],
             [
              0.1111111111111111,
              "#46039f"
             ],
             [
              0.2222222222222222,
              "#7201a8"
             ],
             [
              0.3333333333333333,
              "#9c179e"
             ],
             [
              0.4444444444444444,
              "#bd3786"
             ],
             [
              0.5555555555555556,
              "#d8576b"
             ],
             [
              0.6666666666666666,
              "#ed7953"
             ],
             [
              0.7777777777777778,
              "#fb9f3a"
             ],
             [
              0.8888888888888888,
              "#fdca26"
             ],
             [
              1,
              "#f0f921"
             ]
            ],
            "type": "heatmap"
           }
          ],
          "histogram": [
           {
            "marker": {
             "pattern": {
              "fillmode": "overlay",
              "size": 10,
              "solidity": 0.2
             }
            },
            "type": "histogram"
           }
          ],
          "histogram2d": [
           {
            "colorbar": {
             "outlinewidth": 0,
             "ticks": ""
            },
            "colorscale": [
             [
              0,
              "#0d0887"
             ],
             [
              0.1111111111111111,
              "#46039f"
             ],
             [
              0.2222222222222222,
              "#7201a8"
             ],
             [
              0.3333333333333333,
              "#9c179e"
             ],
             [
              0.4444444444444444,
              "#bd3786"
             ],
             [
              0.5555555555555556,
              "#d8576b"
             ],
             [
              0.6666666666666666,
              "#ed7953"
             ],
             [
              0.7777777777777778,
              "#fb9f3a"
             ],
             [
              0.8888888888888888,
              "#fdca26"
             ],
             [
              1,
              "#f0f921"
             ]
            ],
            "type": "histogram2d"
           }
          ],
          "histogram2dcontour": [
           {
            "colorbar": {
             "outlinewidth": 0,
             "ticks": ""
            },
            "colorscale": [
             [
              0,
              "#0d0887"
             ],
             [
              0.1111111111111111,
              "#46039f"
             ],
             [
              0.2222222222222222,
              "#7201a8"
             ],
             [
              0.3333333333333333,
              "#9c179e"
             ],
             [
              0.4444444444444444,
              "#bd3786"
             ],
             [
              0.5555555555555556,
              "#d8576b"
             ],
             [
              0.6666666666666666,
              "#ed7953"
             ],
             [
              0.7777777777777778,
              "#fb9f3a"
             ],
             [
              0.8888888888888888,
              "#fdca26"
             ],
             [
              1,
              "#f0f921"
             ]
            ],
            "type": "histogram2dcontour"
           }
          ],
          "mesh3d": [
           {
            "colorbar": {
             "outlinewidth": 0,
             "ticks": ""
            },
            "type": "mesh3d"
           }
          ],
          "parcoords": [
           {
            "line": {
             "colorbar": {
              "outlinewidth": 0,
              "ticks": ""
             }
            },
            "type": "parcoords"
           }
          ],
          "pie": [
           {
            "automargin": true,
            "type": "pie"
           }
          ],
          "scatter": [
           {
            "fillpattern": {
             "fillmode": "overlay",
             "size": 10,
             "solidity": 0.2
            },
            "type": "scatter"
           }
          ],
          "scatter3d": [
           {
            "line": {
             "colorbar": {
              "outlinewidth": 0,
              "ticks": ""
             }
            },
            "marker": {
             "colorbar": {
              "outlinewidth": 0,
              "ticks": ""
             }
            },
            "type": "scatter3d"
           }
          ],
          "scattercarpet": [
           {
            "marker": {
             "colorbar": {
              "outlinewidth": 0,
              "ticks": ""
             }
            },
            "type": "scattercarpet"
           }
          ],
          "scattergeo": [
           {
            "marker": {
             "colorbar": {
              "outlinewidth": 0,
              "ticks": ""
             }
            },
            "type": "scattergeo"
           }
          ],
          "scattergl": [
           {
            "marker": {
             "colorbar": {
              "outlinewidth": 0,
              "ticks": ""
             }
            },
            "type": "scattergl"
           }
          ],
          "scattermap": [
           {
            "marker": {
             "colorbar": {
              "outlinewidth": 0,
              "ticks": ""
             }
            },
            "type": "scattermap"
           }
          ],
          "scattermapbox": [
           {
            "marker": {
             "colorbar": {
              "outlinewidth": 0,
              "ticks": ""
             }
            },
            "type": "scattermapbox"
           }
          ],
          "scatterpolar": [
           {
            "marker": {
             "colorbar": {
              "outlinewidth": 0,
              "ticks": ""
             }
            },
            "type": "scatterpolar"
           }
          ],
          "scatterpolargl": [
           {
            "marker": {
             "colorbar": {
              "outlinewidth": 0,
              "ticks": ""
             }
            },
            "type": "scatterpolargl"
           }
          ],
          "scatterternary": [
           {
            "marker": {
             "colorbar": {
              "outlinewidth": 0,
              "ticks": ""
             }
            },
            "type": "scatterternary"
           }
          ],
          "surface": [
           {
            "colorbar": {
             "outlinewidth": 0,
             "ticks": ""
            },
            "colorscale": [
             [
              0,
              "#0d0887"
             ],
             [
              0.1111111111111111,
              "#46039f"
             ],
             [
              0.2222222222222222,
              "#7201a8"
             ],
             [
              0.3333333333333333,
              "#9c179e"
             ],
             [
              0.4444444444444444,
              "#bd3786"
             ],
             [
              0.5555555555555556,
              "#d8576b"
             ],
             [
              0.6666666666666666,
              "#ed7953"
             ],
             [
              0.7777777777777778,
              "#fb9f3a"
             ],
             [
              0.8888888888888888,
              "#fdca26"
             ],
             [
              1,
              "#f0f921"
             ]
            ],
            "type": "surface"
           }
          ],
          "table": [
           {
            "cells": {
             "fill": {
              "color": "#EBF0F8"
             },
             "line": {
              "color": "white"
             }
            },
            "header": {
             "fill": {
              "color": "#C8D4E3"
             },
             "line": {
              "color": "white"
             }
            },
            "type": "table"
           }
          ]
         },
         "layout": {
          "annotationdefaults": {
           "arrowcolor": "#2a3f5f",
           "arrowhead": 0,
           "arrowwidth": 1
          },
          "autotypenumbers": "strict",
          "coloraxis": {
           "colorbar": {
            "outlinewidth": 0,
            "ticks": ""
           }
          },
          "colorscale": {
           "diverging": [
            [
             0,
             "#8e0152"
            ],
            [
             0.1,
             "#c51b7d"
            ],
            [
             0.2,
             "#de77ae"
            ],
            [
             0.3,
             "#f1b6da"
            ],
            [
             0.4,
             "#fde0ef"
            ],
            [
             0.5,
             "#f7f7f7"
            ],
            [
             0.6,
             "#e6f5d0"
            ],
            [
             0.7,
             "#b8e186"
            ],
            [
             0.8,
             "#7fbc41"
            ],
            [
             0.9,
             "#4d9221"
            ],
            [
             1,
             "#276419"
            ]
           ],
           "sequential": [
            [
             0,
             "#0d0887"
            ],
            [
             0.1111111111111111,
             "#46039f"
            ],
            [
             0.2222222222222222,
             "#7201a8"
            ],
            [
             0.3333333333333333,
             "#9c179e"
            ],
            [
             0.4444444444444444,
             "#bd3786"
            ],
            [
             0.5555555555555556,
             "#d8576b"
            ],
            [
             0.6666666666666666,
             "#ed7953"
            ],
            [
             0.7777777777777778,
             "#fb9f3a"
            ],
            [
             0.8888888888888888,
             "#fdca26"
            ],
            [
             1,
             "#f0f921"
            ]
           ],
           "sequentialminus": [
            [
             0,
             "#0d0887"
            ],
            [
             0.1111111111111111,
             "#46039f"
            ],
            [
             0.2222222222222222,
             "#7201a8"
            ],
            [
             0.3333333333333333,
             "#9c179e"
            ],
            [
             0.4444444444444444,
             "#bd3786"
            ],
            [
             0.5555555555555556,
             "#d8576b"
            ],
            [
             0.6666666666666666,
             "#ed7953"
            ],
            [
             0.7777777777777778,
             "#fb9f3a"
            ],
            [
             0.8888888888888888,
             "#fdca26"
            ],
            [
             1,
             "#f0f921"
            ]
           ]
          },
          "colorway": [
           "#636efa",
           "#EF553B",
           "#00cc96",
           "#ab63fa",
           "#FFA15A",
           "#19d3f3",
           "#FF6692",
           "#B6E880",
           "#FF97FF",
           "#FECB52"
          ],
          "font": {
           "color": "#2a3f5f"
          },
          "geo": {
           "bgcolor": "white",
           "lakecolor": "white",
           "landcolor": "#E5ECF6",
           "showlakes": true,
           "showland": true,
           "subunitcolor": "white"
          },
          "hoverlabel": {
           "align": "left"
          },
          "hovermode": "closest",
          "mapbox": {
           "style": "light"
          },
          "paper_bgcolor": "white",
          "plot_bgcolor": "#E5ECF6",
          "polar": {
           "angularaxis": {
            "gridcolor": "white",
            "linecolor": "white",
            "ticks": ""
           },
           "bgcolor": "#E5ECF6",
           "radialaxis": {
            "gridcolor": "white",
            "linecolor": "white",
            "ticks": ""
           }
          },
          "scene": {
           "xaxis": {
            "backgroundcolor": "#E5ECF6",
            "gridcolor": "white",
            "gridwidth": 2,
            "linecolor": "white",
            "showbackground": true,
            "ticks": "",
            "zerolinecolor": "white"
           },
           "yaxis": {
            "backgroundcolor": "#E5ECF6",
            "gridcolor": "white",
            "gridwidth": 2,
            "linecolor": "white",
            "showbackground": true,
            "ticks": "",
            "zerolinecolor": "white"
           },
           "zaxis": {
            "backgroundcolor": "#E5ECF6",
            "gridcolor": "white",
            "gridwidth": 2,
            "linecolor": "white",
            "showbackground": true,
            "ticks": "",
            "zerolinecolor": "white"
           }
          },
          "shapedefaults": {
           "line": {
            "color": "#2a3f5f"
           }
          },
          "ternary": {
           "aaxis": {
            "gridcolor": "white",
            "linecolor": "white",
            "ticks": ""
           },
           "baxis": {
            "gridcolor": "white",
            "linecolor": "white",
            "ticks": ""
           },
           "bgcolor": "#E5ECF6",
           "caxis": {
            "gridcolor": "white",
            "linecolor": "white",
            "ticks": ""
           }
          },
          "title": {
           "x": 0.05
          },
          "xaxis": {
           "automargin": true,
           "gridcolor": "white",
           "linecolor": "white",
           "ticks": "",
           "title": {
            "standoff": 15
           },
           "zerolinecolor": "white",
           "zerolinewidth": 2
          },
          "yaxis": {
           "automargin": true,
           "gridcolor": "white",
           "linecolor": "white",
           "ticks": "",
           "title": {
            "standoff": 15
           },
           "zerolinecolor": "white",
           "zerolinewidth": 2
          }
         }
        },
        "xaxis": {
         "anchor": "y",
         "domain": [
          0,
          1
         ],
         "title": {
          "text": "YEAR"
         }
        },
        "yaxis": {
         "anchor": "x",
         "domain": [
          0,
          1
         ],
         "title": {
          "text": "UNIQUE_PERSON_COUNT_ON_DEC_1"
         }
        }
       }
      }
     },
     "metadata": {},
     "output_type": "display_data"
    }
   ],
   "source": [
    "#distribution of Male and Female population per year - final_grouped_df\n",
    "fig = px.bar(unique_persons_dec1, x='YEAR', y='UNIQUE_PERSON_COUNT_ON_DEC_1')\n",
    "fig.show() "
   ]
  },
  {
   "cell_type": "code",
   "execution_count": 27,
   "id": "b4587125",
   "metadata": {},
   "outputs": [
    {
     "name": "stdout",
     "output_type": "stream",
     "text": [
      "    YEAR  UNIQUE_PERSON_COUNT_ON_DEC_31\n",
      "0   2009                           9424\n",
      "1   2010                           9267\n",
      "2   2011                           9445\n",
      "3   2012                           9637\n",
      "4   2013                           9722\n",
      "5   2014                           9898\n",
      "6   2015                           9806\n",
      "7   2016                           9923\n",
      "8   2017                          10104\n",
      "9   2018                           9207\n",
      "10  2019                           6925\n",
      "11  2020                           5265\n",
      "12  2021                           4646\n",
      "13  2022                           3344\n",
      "14  2023                              0\n"
     ]
    }
   ],
   "source": [
    "# Ensure RELEASE_DATE and ADMISSION_DATE are datetime\n",
    "release['RELEASE_DATE'] = pd.to_datetime(release['RELEASE_DATE'])\n",
    "release['ADMISSION_DATE'] = pd.to_datetime(release['ADMISSION_DATE'])\n",
    "\n",
    "# Get the range of years in the data\n",
    "years = release['RELEASE_DATE'].dt.year.unique()\n",
    "years = sorted(years)\n",
    "\n",
    "results = []\n",
    "\n",
    "for year in years:\n",
    "    dec_31 = pd.Timestamp(year=year, month=12, day=31)\n",
    "    # Count unique PERSON_IDs incarcerated on December 31st of that year\n",
    "    mask = (release['ADMISSION_DATE'] <= dec_31) & (release['RELEASE_DATE'] > dec_31)\n",
    "    count = release[mask]['PERSON_ID'].nunique()\n",
    "    results.append({'YEAR': year, 'UNIQUE_PERSON_COUNT_ON_DEC_31': count})\n",
    "\n",
    "unique_persons_dec31 = pd.DataFrame(results)\n",
    "print(unique_persons_dec31)"
   ]
  },
  {
   "cell_type": "code",
   "execution_count": 29,
   "id": "cf18957a",
   "metadata": {},
   "outputs": [
    {
     "data": {
      "text/plain": [
       "Timestamp('2023-12-08 00:00:00')"
      ]
     },
     "execution_count": 29,
     "metadata": {},
     "output_type": "execute_result"
    }
   ],
   "source": [
    "max(release['ADMISSION_DATE'])"
   ]
  },
  {
   "cell_type": "code",
   "execution_count": 28,
   "id": "0b4d8838",
   "metadata": {},
   "outputs": [
    {
     "data": {
      "text/plain": [
       "Timestamp('2023-12-30 00:00:00')"
      ]
     },
     "execution_count": 28,
     "metadata": {},
     "output_type": "execute_result"
    }
   ],
   "source": [
    "max(release['RELEASE_DATE'])"
   ]
  },
  {
   "cell_type": "code",
   "execution_count": 26,
   "id": "c4c3e376",
   "metadata": {},
   "outputs": [
    {
     "data": {
      "text/html": [
       "<div>\n",
       "<style scoped>\n",
       "    .dataframe tbody tr th:only-of-type {\n",
       "        vertical-align: middle;\n",
       "    }\n",
       "\n",
       "    .dataframe tbody tr th {\n",
       "        vertical-align: top;\n",
       "    }\n",
       "\n",
       "    .dataframe thead th {\n",
       "        text-align: right;\n",
       "    }\n",
       "</style>\n",
       "<table border=\"1\" class=\"dataframe\">\n",
       "  <thead>\n",
       "    <tr style=\"text-align: right;\">\n",
       "      <th></th>\n",
       "      <th>PERSON_ID</th>\n",
       "      <th>CYCLE</th>\n",
       "      <th>ADMISSION_DATE</th>\n",
       "      <th>RELEASE_DATE</th>\n",
       "      <th>AGE_AT_ADMISSION</th>\n",
       "      <th>AGE_AT_EXIT</th>\n",
       "      <th>COUNTY</th>\n",
       "      <th>MOCODE_DESC</th>\n",
       "      <th>OFFENSE_GROUP</th>\n",
       "      <th>SENTENCE_YEARS</th>\n",
       "      <th>...</th>\n",
       "      <th>ADMISSION_TYPE</th>\n",
       "      <th>RELEASE_TYPE</th>\n",
       "      <th>LAST_CUSTODY_LEVEL</th>\n",
       "      <th>LAST_MH_CODE</th>\n",
       "      <th>LAST_M_CODE</th>\n",
       "      <th>LAST_E_CODE</th>\n",
       "      <th>LAST_V_CODE</th>\n",
       "      <th>LAST_I_CODE</th>\n",
       "      <th>DEATH_DATE</th>\n",
       "      <th>YEAR</th>\n",
       "    </tr>\n",
       "  </thead>\n",
       "  <tbody>\n",
       "    <tr>\n",
       "      <th>84463</th>\n",
       "      <td>30880632.0</td>\n",
       "      <td>2.0</td>\n",
       "      <td>2023-12-08</td>\n",
       "      <td>2023-12-29</td>\n",
       "      <td>33</td>\n",
       "      <td>33</td>\n",
       "      <td>DEKALB</td>\n",
       "      <td>52ADA DELIVER OR POSSESS WEAPO</td>\n",
       "      <td>VIOLENT</td>\n",
       "      <td>3</td>\n",
       "      <td>...</td>\n",
       "      <td>S</td>\n",
       "      <td>CDR</td>\n",
       "      <td>C-2</td>\n",
       "      <td>1</td>\n",
       "      <td>2</td>\n",
       "      <td>1</td>\n",
       "      <td>3</td>\n",
       "      <td>2</td>\n",
       "      <td>NaN</td>\n",
       "      <td>2023</td>\n",
       "    </tr>\n",
       "    <tr>\n",
       "      <th>108338</th>\n",
       "      <td>26030575.0</td>\n",
       "      <td>1.0</td>\n",
       "      <td>2023-11-16</td>\n",
       "      <td>2023-12-21</td>\n",
       "      <td>24</td>\n",
       "      <td>24</td>\n",
       "      <td>ST. LOUIS COUNTY</td>\n",
       "      <td>22AAA BURGLARY - 2ND DEGREE</td>\n",
       "      <td>NONVIOLENT</td>\n",
       "      <td>6</td>\n",
       "      <td>...</td>\n",
       "      <td>S</td>\n",
       "      <td>CDR</td>\n",
       "      <td>C-5</td>\n",
       "      <td>3</td>\n",
       "      <td>2</td>\n",
       "      <td>4</td>\n",
       "      <td>4</td>\n",
       "      <td>5</td>\n",
       "      <td>NaN</td>\n",
       "      <td>2023</td>\n",
       "    </tr>\n",
       "    <tr>\n",
       "      <th>109449</th>\n",
       "      <td>56721424.0</td>\n",
       "      <td>1.0</td>\n",
       "      <td>2023-11-15</td>\n",
       "      <td>2023-11-29</td>\n",
       "      <td>21</td>\n",
       "      <td>21</td>\n",
       "      <td>BOONE</td>\n",
       "      <td>13AAC ASSAULT - 3RD DEGREE</td>\n",
       "      <td>VIOLENT</td>\n",
       "      <td>4</td>\n",
       "      <td>...</td>\n",
       "      <td>O</td>\n",
       "      <td>PRB</td>\n",
       "      <td></td>\n",
       "      <td>0</td>\n",
       "      <td>0</td>\n",
       "      <td>0</td>\n",
       "      <td>0</td>\n",
       "      <td>0</td>\n",
       "      <td>NaN</td>\n",
       "      <td>2023</td>\n",
       "    </tr>\n",
       "    <tr>\n",
       "      <th>93984</th>\n",
       "      <td>52943776.0</td>\n",
       "      <td>1.0</td>\n",
       "      <td>2023-10-24</td>\n",
       "      <td>2023-12-02</td>\n",
       "      <td>32</td>\n",
       "      <td>32</td>\n",
       "      <td>TANEY</td>\n",
       "      <td>32450 POSS CONTROLLED SUBSTANC</td>\n",
       "      <td>DRUG</td>\n",
       "      <td>4</td>\n",
       "      <td>...</td>\n",
       "      <td>S</td>\n",
       "      <td>MXR</td>\n",
       "      <td>C-1</td>\n",
       "      <td>1</td>\n",
       "      <td>1</td>\n",
       "      <td>4</td>\n",
       "      <td>2</td>\n",
       "      <td>1</td>\n",
       "      <td>NaN</td>\n",
       "      <td>2023</td>\n",
       "    </tr>\n",
       "    <tr>\n",
       "      <th>54866</th>\n",
       "      <td>23634761.0</td>\n",
       "      <td>2.0</td>\n",
       "      <td>2023-10-24</td>\n",
       "      <td>2023-11-29</td>\n",
       "      <td>37</td>\n",
       "      <td>37</td>\n",
       "      <td>BARTON</td>\n",
       "      <td>22AAA BURGLARY - 2ND DEGREE</td>\n",
       "      <td>NONVIOLENT</td>\n",
       "      <td>7</td>\n",
       "      <td>...</td>\n",
       "      <td>L</td>\n",
       "      <td>PRB</td>\n",
       "      <td></td>\n",
       "      <td>0</td>\n",
       "      <td>0</td>\n",
       "      <td>0</td>\n",
       "      <td>0</td>\n",
       "      <td>0</td>\n",
       "      <td>NaN</td>\n",
       "      <td>2023</td>\n",
       "    </tr>\n",
       "    <tr>\n",
       "      <th>...</th>\n",
       "      <td>...</td>\n",
       "      <td>...</td>\n",
       "      <td>...</td>\n",
       "      <td>...</td>\n",
       "      <td>...</td>\n",
       "      <td>...</td>\n",
       "      <td>...</td>\n",
       "      <td>...</td>\n",
       "      <td>...</td>\n",
       "      <td>...</td>\n",
       "      <td>...</td>\n",
       "      <td>...</td>\n",
       "      <td>...</td>\n",
       "      <td>...</td>\n",
       "      <td>...</td>\n",
       "      <td>...</td>\n",
       "      <td>...</td>\n",
       "      <td>...</td>\n",
       "      <td>...</td>\n",
       "      <td>...</td>\n",
       "      <td>...</td>\n",
       "    </tr>\n",
       "    <tr>\n",
       "      <th>110209</th>\n",
       "      <td>38595121.0</td>\n",
       "      <td>1.0</td>\n",
       "      <td>2023-01-03</td>\n",
       "      <td>2023-05-03</td>\n",
       "      <td>35</td>\n",
       "      <td>35</td>\n",
       "      <td></td>\n",
       "      <td>35ACP POSSESS CONTROL SUBSTANC</td>\n",
       "      <td>DRUG</td>\n",
       "      <td>7</td>\n",
       "      <td>...</td>\n",
       "      <td>O</td>\n",
       "      <td>PRB</td>\n",
       "      <td></td>\n",
       "      <td>0</td>\n",
       "      <td>0</td>\n",
       "      <td>0</td>\n",
       "      <td>0</td>\n",
       "      <td>0</td>\n",
       "      <td>NaN</td>\n",
       "      <td>2023</td>\n",
       "    </tr>\n",
       "    <tr>\n",
       "      <th>109257</th>\n",
       "      <td>37594306.0</td>\n",
       "      <td>1.0</td>\n",
       "      <td>2023-01-03</td>\n",
       "      <td>2023-05-03</td>\n",
       "      <td>22</td>\n",
       "      <td>22</td>\n",
       "      <td></td>\n",
       "      <td>12AAB ROBBERY - 2ND DEGREE</td>\n",
       "      <td>VIOLENT</td>\n",
       "      <td>10</td>\n",
       "      <td>...</td>\n",
       "      <td>O</td>\n",
       "      <td>PRB</td>\n",
       "      <td></td>\n",
       "      <td>0</td>\n",
       "      <td>0</td>\n",
       "      <td>0</td>\n",
       "      <td>0</td>\n",
       "      <td>0</td>\n",
       "      <td>NaN</td>\n",
       "      <td>2023</td>\n",
       "    </tr>\n",
       "    <tr>\n",
       "      <th>110314</th>\n",
       "      <td>87761031.0</td>\n",
       "      <td>1.0</td>\n",
       "      <td>2023-01-03</td>\n",
       "      <td>2023-05-03</td>\n",
       "      <td>31</td>\n",
       "      <td>32</td>\n",
       "      <td>SCHUYLER</td>\n",
       "      <td>28AAR RECEIVING STOLEN PROPERT</td>\n",
       "      <td>NONVIOLENT</td>\n",
       "      <td>7</td>\n",
       "      <td>...</td>\n",
       "      <td>O</td>\n",
       "      <td>PRB</td>\n",
       "      <td></td>\n",
       "      <td>0</td>\n",
       "      <td>0</td>\n",
       "      <td>0</td>\n",
       "      <td>0</td>\n",
       "      <td>0</td>\n",
       "      <td>NaN</td>\n",
       "      <td>2023</td>\n",
       "    </tr>\n",
       "    <tr>\n",
       "      <th>110358</th>\n",
       "      <td>97061229.0</td>\n",
       "      <td>1.0</td>\n",
       "      <td>2023-01-03</td>\n",
       "      <td>2023-05-03</td>\n",
       "      <td>27</td>\n",
       "      <td>28</td>\n",
       "      <td>PLATTE</td>\n",
       "      <td>13ABL DOMESTIC ASSAULT - 2ND D</td>\n",
       "      <td>VIOLENT</td>\n",
       "      <td>4</td>\n",
       "      <td>...</td>\n",
       "      <td>O</td>\n",
       "      <td>PRB</td>\n",
       "      <td></td>\n",
       "      <td>0</td>\n",
       "      <td>0</td>\n",
       "      <td>0</td>\n",
       "      <td>0</td>\n",
       "      <td>0</td>\n",
       "      <td>NaN</td>\n",
       "      <td>2023</td>\n",
       "    </tr>\n",
       "    <tr>\n",
       "      <th>21326</th>\n",
       "      <td>41566085.0</td>\n",
       "      <td>2.0</td>\n",
       "      <td>2023-01-03</td>\n",
       "      <td>2023-05-03</td>\n",
       "      <td>42</td>\n",
       "      <td>42</td>\n",
       "      <td>ADAIR</td>\n",
       "      <td>29AAJ TAMPERING WITH MOTOR VEH</td>\n",
       "      <td>NONVIOLENT</td>\n",
       "      <td>5</td>\n",
       "      <td>...</td>\n",
       "      <td>I</td>\n",
       "      <td>PRB</td>\n",
       "      <td></td>\n",
       "      <td>0</td>\n",
       "      <td>0</td>\n",
       "      <td>0</td>\n",
       "      <td>0</td>\n",
       "      <td>0</td>\n",
       "      <td>NaN</td>\n",
       "      <td>2023</td>\n",
       "    </tr>\n",
       "  </tbody>\n",
       "</table>\n",
       "<p>1580 rows × 21 columns</p>\n",
       "</div>"
      ],
      "text/plain": [
       "         PERSON_ID  CYCLE ADMISSION_DATE RELEASE_DATE  AGE_AT_ADMISSION  \\\n",
       "84463   30880632.0    2.0     2023-12-08   2023-12-29                33   \n",
       "108338  26030575.0    1.0     2023-11-16   2023-12-21                24   \n",
       "109449  56721424.0    1.0     2023-11-15   2023-11-29                21   \n",
       "93984   52943776.0    1.0     2023-10-24   2023-12-02                32   \n",
       "54866   23634761.0    2.0     2023-10-24   2023-11-29                37   \n",
       "...            ...    ...            ...          ...               ...   \n",
       "110209  38595121.0    1.0     2023-01-03   2023-05-03                35   \n",
       "109257  37594306.0    1.0     2023-01-03   2023-05-03                22   \n",
       "110314  87761031.0    1.0     2023-01-03   2023-05-03                31   \n",
       "110358  97061229.0    1.0     2023-01-03   2023-05-03                27   \n",
       "21326   41566085.0    2.0     2023-01-03   2023-05-03                42   \n",
       "\n",
       "        AGE_AT_EXIT            COUNTY                     MOCODE_DESC  \\\n",
       "84463            33            DEKALB  52ADA DELIVER OR POSSESS WEAPO   \n",
       "108338           24  ST. LOUIS COUNTY  22AAA BURGLARY - 2ND DEGREE      \n",
       "109449           21             BOONE  13AAC ASSAULT - 3RD DEGREE       \n",
       "93984            32             TANEY  32450 POSS CONTROLLED SUBSTANC   \n",
       "54866            37            BARTON  22AAA BURGLARY - 2ND DEGREE      \n",
       "...             ...               ...                             ...   \n",
       "110209           35                    35ACP POSSESS CONTROL SUBSTANC   \n",
       "109257           22                    12AAB ROBBERY - 2ND DEGREE       \n",
       "110314           32          SCHUYLER  28AAR RECEIVING STOLEN PROPERT   \n",
       "110358           28            PLATTE  13ABL DOMESTIC ASSAULT - 2ND D   \n",
       "21326            42             ADAIR  29AAJ TAMPERING WITH MOTOR VEH   \n",
       "\n",
       "       OFFENSE_GROUP  SENTENCE_YEARS  ... ADMISSION_TYPE RELEASE_TYPE  \\\n",
       "84463     VIOLENT                  3  ...              S          CDR   \n",
       "108338    NONVIOLENT               6  ...              S          CDR   \n",
       "109449    VIOLENT                  4  ...              O          PRB   \n",
       "93984     DRUG                     4  ...              S          MXR   \n",
       "54866     NONVIOLENT               7  ...              L          PRB   \n",
       "...              ...             ...  ...            ...          ...   \n",
       "110209    DRUG                     7  ...              O          PRB   \n",
       "109257    VIOLENT                 10  ...              O          PRB   \n",
       "110314    NONVIOLENT               7  ...              O          PRB   \n",
       "110358    VIOLENT                  4  ...              O          PRB   \n",
       "21326     NONVIOLENT               5  ...              I          PRB   \n",
       "\n",
       "       LAST_CUSTODY_LEVEL LAST_MH_CODE  LAST_M_CODE  LAST_E_CODE  LAST_V_CODE  \\\n",
       "84463                 C-2            1            2            1            3   \n",
       "108338                C-5            3            2            4            4   \n",
       "109449                               0            0            0            0   \n",
       "93984                 C-1            1            1            4            2   \n",
       "54866                                0            0            0            0   \n",
       "...                   ...          ...          ...          ...          ...   \n",
       "110209                               0            0            0            0   \n",
       "109257                               0            0            0            0   \n",
       "110314                               0            0            0            0   \n",
       "110358                               0            0            0            0   \n",
       "21326                                0            0            0            0   \n",
       "\n",
       "        LAST_I_CODE  DEATH_DATE  YEAR  \n",
       "84463             2         NaN  2023  \n",
       "108338            5         NaN  2023  \n",
       "109449            0         NaN  2023  \n",
       "93984             1         NaN  2023  \n",
       "54866             0         NaN  2023  \n",
       "...             ...         ...   ...  \n",
       "110209            0         NaN  2023  \n",
       "109257            0         NaN  2023  \n",
       "110314            0         NaN  2023  \n",
       "110358            0         NaN  2023  \n",
       "21326             0         NaN  2023  \n",
       "\n",
       "[1580 rows x 21 columns]"
      ]
     },
     "execution_count": 26,
     "metadata": {},
     "output_type": "execute_result"
    }
   ],
   "source": [
    "# filter rows with release year 2024 in descending order of relaease date\n",
    "release_filtered = release[release['ADMISSION_DATE'].dt.year == 2023].sort_values(by='ADMISSION_DATE', ascending=False)\n",
    "release_filtered\n"
   ]
  },
  {
   "cell_type": "code",
   "execution_count": 30,
   "id": "a76644d1",
   "metadata": {},
   "outputs": [],
   "source": [
    "merged = pd.merge(release, demo, on=\"PERSON_ID\", how=\"left\")\n",
    "\n",
    "final_df = merged[[\"PERSON_ID\", \"SEX\", \"RACE\", \"ETHNICITY\",\"ADMISSION_DATE\", \"RELEASE_DATE\", \"RELEASE_TYPE\",\"COUNTY\",\"OFFENSE_GROUP\"]]"
   ]
  },
  {
   "cell_type": "code",
   "execution_count": 49,
   "id": "314aba98",
   "metadata": {},
   "outputs": [
    {
     "data": {
      "text/html": [
       "<div>\n",
       "<style scoped>\n",
       "    .dataframe tbody tr th:only-of-type {\n",
       "        vertical-align: middle;\n",
       "    }\n",
       "\n",
       "    .dataframe tbody tr th {\n",
       "        vertical-align: top;\n",
       "    }\n",
       "\n",
       "    .dataframe thead th {\n",
       "        text-align: right;\n",
       "    }\n",
       "</style>\n",
       "<table border=\"1\" class=\"dataframe\">\n",
       "  <thead>\n",
       "    <tr style=\"text-align: right;\">\n",
       "      <th></th>\n",
       "      <th>SEX</th>\n",
       "      <th>UNIQUE_PERSON_COUNT</th>\n",
       "      <th>YEAR</th>\n",
       "    </tr>\n",
       "  </thead>\n",
       "  <tbody>\n",
       "    <tr>\n",
       "      <th>0</th>\n",
       "      <td>F</td>\n",
       "      <td>1074</td>\n",
       "      <td>2009</td>\n",
       "    </tr>\n",
       "    <tr>\n",
       "      <th>1</th>\n",
       "      <td>M</td>\n",
       "      <td>8398</td>\n",
       "      <td>2009</td>\n",
       "    </tr>\n",
       "    <tr>\n",
       "      <th>2</th>\n",
       "      <td>F</td>\n",
       "      <td>1059</td>\n",
       "      <td>2010</td>\n",
       "    </tr>\n",
       "    <tr>\n",
       "      <th>3</th>\n",
       "      <td>M</td>\n",
       "      <td>8135</td>\n",
       "      <td>2010</td>\n",
       "    </tr>\n",
       "    <tr>\n",
       "      <th>4</th>\n",
       "      <td>F</td>\n",
       "      <td>1138</td>\n",
       "      <td>2011</td>\n",
       "    </tr>\n",
       "    <tr>\n",
       "      <th>5</th>\n",
       "      <td>M</td>\n",
       "      <td>8277</td>\n",
       "      <td>2011</td>\n",
       "    </tr>\n",
       "    <tr>\n",
       "      <th>6</th>\n",
       "      <td>F</td>\n",
       "      <td>1212</td>\n",
       "      <td>2012</td>\n",
       "    </tr>\n",
       "    <tr>\n",
       "      <th>7</th>\n",
       "      <td>M</td>\n",
       "      <td>8561</td>\n",
       "      <td>2012</td>\n",
       "    </tr>\n",
       "    <tr>\n",
       "      <th>8</th>\n",
       "      <td>F</td>\n",
       "      <td>1243</td>\n",
       "      <td>2013</td>\n",
       "    </tr>\n",
       "    <tr>\n",
       "      <th>9</th>\n",
       "      <td>M</td>\n",
       "      <td>8549</td>\n",
       "      <td>2013</td>\n",
       "    </tr>\n",
       "    <tr>\n",
       "      <th>10</th>\n",
       "      <td>F</td>\n",
       "      <td>1457</td>\n",
       "      <td>2014</td>\n",
       "    </tr>\n",
       "    <tr>\n",
       "      <th>11</th>\n",
       "      <td>M</td>\n",
       "      <td>8445</td>\n",
       "      <td>2014</td>\n",
       "    </tr>\n",
       "    <tr>\n",
       "      <th>12</th>\n",
       "      <td>F</td>\n",
       "      <td>1476</td>\n",
       "      <td>2015</td>\n",
       "    </tr>\n",
       "    <tr>\n",
       "      <th>13</th>\n",
       "      <td>M</td>\n",
       "      <td>8349</td>\n",
       "      <td>2015</td>\n",
       "    </tr>\n",
       "    <tr>\n",
       "      <th>14</th>\n",
       "      <td>F</td>\n",
       "      <td>1561</td>\n",
       "      <td>2016</td>\n",
       "    </tr>\n",
       "    <tr>\n",
       "      <th>15</th>\n",
       "      <td>M</td>\n",
       "      <td>8406</td>\n",
       "      <td>2016</td>\n",
       "    </tr>\n",
       "    <tr>\n",
       "      <th>16</th>\n",
       "      <td>F</td>\n",
       "      <td>1681</td>\n",
       "      <td>2017</td>\n",
       "    </tr>\n",
       "    <tr>\n",
       "      <th>17</th>\n",
       "      <td>M</td>\n",
       "      <td>8505</td>\n",
       "      <td>2017</td>\n",
       "    </tr>\n",
       "    <tr>\n",
       "      <th>18</th>\n",
       "      <td>F</td>\n",
       "      <td>1586</td>\n",
       "      <td>2018</td>\n",
       "    </tr>\n",
       "    <tr>\n",
       "      <th>19</th>\n",
       "      <td>M</td>\n",
       "      <td>7768</td>\n",
       "      <td>2018</td>\n",
       "    </tr>\n",
       "    <tr>\n",
       "      <th>20</th>\n",
       "      <td>F</td>\n",
       "      <td>1195</td>\n",
       "      <td>2019</td>\n",
       "    </tr>\n",
       "    <tr>\n",
       "      <th>21</th>\n",
       "      <td>M</td>\n",
       "      <td>5936</td>\n",
       "      <td>2019</td>\n",
       "    </tr>\n",
       "    <tr>\n",
       "      <th>22</th>\n",
       "      <td>F</td>\n",
       "      <td>838</td>\n",
       "      <td>2020</td>\n",
       "    </tr>\n",
       "    <tr>\n",
       "      <th>23</th>\n",
       "      <td>M</td>\n",
       "      <td>4517</td>\n",
       "      <td>2020</td>\n",
       "    </tr>\n",
       "    <tr>\n",
       "      <th>24</th>\n",
       "      <td>F</td>\n",
       "      <td>878</td>\n",
       "      <td>2021</td>\n",
       "    </tr>\n",
       "    <tr>\n",
       "      <th>25</th>\n",
       "      <td>M</td>\n",
       "      <td>3827</td>\n",
       "      <td>2021</td>\n",
       "    </tr>\n",
       "    <tr>\n",
       "      <th>26</th>\n",
       "      <td>F</td>\n",
       "      <td>762</td>\n",
       "      <td>2022</td>\n",
       "    </tr>\n",
       "    <tr>\n",
       "      <th>27</th>\n",
       "      <td>M</td>\n",
       "      <td>2770</td>\n",
       "      <td>2022</td>\n",
       "    </tr>\n",
       "    <tr>\n",
       "      <th>28</th>\n",
       "      <td>F</td>\n",
       "      <td>101</td>\n",
       "      <td>2023</td>\n",
       "    </tr>\n",
       "    <tr>\n",
       "      <th>29</th>\n",
       "      <td>M</td>\n",
       "      <td>298</td>\n",
       "      <td>2023</td>\n",
       "    </tr>\n",
       "  </tbody>\n",
       "</table>\n",
       "</div>"
      ],
      "text/plain": [
       "   SEX  UNIQUE_PERSON_COUNT  YEAR\n",
       "0    F                 1074  2009\n",
       "1    M                 8398  2009\n",
       "2    F                 1059  2010\n",
       "3    M                 8135  2010\n",
       "4    F                 1138  2011\n",
       "5    M                 8277  2011\n",
       "6    F                 1212  2012\n",
       "7    M                 8561  2012\n",
       "8    F                 1243  2013\n",
       "9    M                 8549  2013\n",
       "10   F                 1457  2014\n",
       "11   M                 8445  2014\n",
       "12   F                 1476  2015\n",
       "13   M                 8349  2015\n",
       "14   F                 1561  2016\n",
       "15   M                 8406  2016\n",
       "16   F                 1681  2017\n",
       "17   M                 8505  2017\n",
       "18   F                 1586  2018\n",
       "19   M                 7768  2018\n",
       "20   F                 1195  2019\n",
       "21   M                 5936  2019\n",
       "22   F                  838  2020\n",
       "23   M                 4517  2020\n",
       "24   F                  878  2021\n",
       "25   M                 3827  2021\n",
       "26   F                  762  2022\n",
       "27   M                 2770  2022\n",
       "28   F                  101  2023\n",
       "29   M                  298  2023"
      ]
     },
     "execution_count": 49,
     "metadata": {},
     "output_type": "execute_result"
    }
   ],
   "source": [
    "\n",
    "# Drop rows with missing admission or release dates\n",
    "final_df = final_df.dropna(subset=[\"ADMISSION_DATE\", \"RELEASE_DATE\"])\n",
    "\n",
    "# Get the list of unique years from the release dates\n",
    "years = sorted(final_df[\"RELEASE_DATE\"].dt.year.dropna().unique())\n",
    "\n",
    "# Store results in a list\n",
    "all_results = []\n",
    "\n",
    "for year in years:\n",
    "    dec_1 = pd.Timestamp(year=year, month=12, day=1)\n",
    "\n",
    "    # Filter incarcerated individuals on Dec 1 of that year\n",
    "    mask = (final_df[\"ADMISSION_DATE\"] <= dec_1) & (final_df[\"RELEASE_DATE\"] > dec_1)\n",
    "    active_on_dec1 = final_df[mask]\n",
    "\n",
    "    # Group by SEX, RACE, COUNTY, OFFENSE_GROUP and count unique PERSON_IDs\n",
    "    grouped = (\n",
    "        active_on_dec1.groupby([\"SEX\"])\n",
    "        .agg(UNIQUE_PERSON_COUNT=(\"PERSON_ID\", \"nunique\"))\n",
    "        .reset_index()\n",
    "    )\n",
    "\n",
    "    grouped[\"YEAR\"] = year  # Add the year to the grouped DataFrame\n",
    "    all_results.append(grouped)\n",
    "\n",
    "# Combine all years into one DataFrame\n",
    "final_grouped_df = pd.concat(all_results, ignore_index=True)\n",
    "\n",
    "# Show sample of final grouped output\n",
    "final_grouped_df\n"
   ]
  },
  {
   "cell_type": "code",
   "execution_count": 50,
   "id": "822aa390",
   "metadata": {},
   "outputs": [
    {
     "data": {
      "application/vnd.plotly.v1+json": {
       "config": {
        "plotlyServerURL": "https://plot.ly"
       },
       "data": [
        {
         "hovertemplate": "SEX=F<br>YEAR=%{x}<br>UNIQUE_PERSON_COUNT=%{y}<extra></extra>",
         "legendgroup": "F",
         "marker": {
          "color": "#636efa",
          "pattern": {
           "shape": ""
          }
         },
         "name": "F",
         "orientation": "v",
         "showlegend": true,
         "textposition": "auto",
         "type": "bar",
         "x": {
          "bdata": "2QcAANoHAADbBwAA3AcAAN0HAADeBwAA3wcAAOAHAADhBwAA4gcAAOMHAADkBwAA5QcAAOYHAADnBwAA",
          "dtype": "i4"
         },
         "xaxis": "x",
         "y": {
          "bdata": "MgQjBHIEvATbBLEFxAUZBpEGMgarBEYDbgP6AmUA",
          "dtype": "i2"
         },
         "yaxis": "y"
        },
        {
         "hovertemplate": "SEX=M<br>YEAR=%{x}<br>UNIQUE_PERSON_COUNT=%{y}<extra></extra>",
         "legendgroup": "M",
         "marker": {
          "color": "#EF553B",
          "pattern": {
           "shape": ""
          }
         },
         "name": "M",
         "orientation": "v",
         "showlegend": true,
         "textposition": "auto",
         "type": "bar",
         "x": {
          "bdata": "2QcAANoHAADbBwAA3AcAAN0HAADeBwAA3wcAAOAHAADhBwAA4gcAAOMHAADkBwAA5QcAAOYHAADnBwAA",
          "dtype": "i4"
         },
         "xaxis": "x",
         "y": {
          "bdata": "ziDHH1UgcSFlIf0gnSDWIDkhWB4wF6UR8w7SCioB",
          "dtype": "i2"
         },
         "yaxis": "y"
        }
       ],
       "layout": {
        "barmode": "relative",
        "legend": {
         "title": {
          "text": "SEX"
         },
         "tracegroupgap": 0
        },
        "margin": {
         "t": 60
        },
        "template": {
         "data": {
          "bar": [
           {
            "error_x": {
             "color": "#2a3f5f"
            },
            "error_y": {
             "color": "#2a3f5f"
            },
            "marker": {
             "line": {
              "color": "#E5ECF6",
              "width": 0.5
             },
             "pattern": {
              "fillmode": "overlay",
              "size": 10,
              "solidity": 0.2
             }
            },
            "type": "bar"
           }
          ],
          "barpolar": [
           {
            "marker": {
             "line": {
              "color": "#E5ECF6",
              "width": 0.5
             },
             "pattern": {
              "fillmode": "overlay",
              "size": 10,
              "solidity": 0.2
             }
            },
            "type": "barpolar"
           }
          ],
          "carpet": [
           {
            "aaxis": {
             "endlinecolor": "#2a3f5f",
             "gridcolor": "white",
             "linecolor": "white",
             "minorgridcolor": "white",
             "startlinecolor": "#2a3f5f"
            },
            "baxis": {
             "endlinecolor": "#2a3f5f",
             "gridcolor": "white",
             "linecolor": "white",
             "minorgridcolor": "white",
             "startlinecolor": "#2a3f5f"
            },
            "type": "carpet"
           }
          ],
          "choropleth": [
           {
            "colorbar": {
             "outlinewidth": 0,
             "ticks": ""
            },
            "type": "choropleth"
           }
          ],
          "contour": [
           {
            "colorbar": {
             "outlinewidth": 0,
             "ticks": ""
            },
            "colorscale": [
             [
              0,
              "#0d0887"
             ],
             [
              0.1111111111111111,
              "#46039f"
             ],
             [
              0.2222222222222222,
              "#7201a8"
             ],
             [
              0.3333333333333333,
              "#9c179e"
             ],
             [
              0.4444444444444444,
              "#bd3786"
             ],
             [
              0.5555555555555556,
              "#d8576b"
             ],
             [
              0.6666666666666666,
              "#ed7953"
             ],
             [
              0.7777777777777778,
              "#fb9f3a"
             ],
             [
              0.8888888888888888,
              "#fdca26"
             ],
             [
              1,
              "#f0f921"
             ]
            ],
            "type": "contour"
           }
          ],
          "contourcarpet": [
           {
            "colorbar": {
             "outlinewidth": 0,
             "ticks": ""
            },
            "type": "contourcarpet"
           }
          ],
          "heatmap": [
           {
            "colorbar": {
             "outlinewidth": 0,
             "ticks": ""
            },
            "colorscale": [
             [
              0,
              "#0d0887"
             ],
             [
              0.1111111111111111,
              "#46039f"
             ],
             [
              0.2222222222222222,
              "#7201a8"
             ],
             [
              0.3333333333333333,
              "#9c179e"
             ],
             [
              0.4444444444444444,
              "#bd3786"
             ],
             [
              0.5555555555555556,
              "#d8576b"
             ],
             [
              0.6666666666666666,
              "#ed7953"
             ],
             [
              0.7777777777777778,
              "#fb9f3a"
             ],
             [
              0.8888888888888888,
              "#fdca26"
             ],
             [
              1,
              "#f0f921"
             ]
            ],
            "type": "heatmap"
           }
          ],
          "histogram": [
           {
            "marker": {
             "pattern": {
              "fillmode": "overlay",
              "size": 10,
              "solidity": 0.2
             }
            },
            "type": "histogram"
           }
          ],
          "histogram2d": [
           {
            "colorbar": {
             "outlinewidth": 0,
             "ticks": ""
            },
            "colorscale": [
             [
              0,
              "#0d0887"
             ],
             [
              0.1111111111111111,
              "#46039f"
             ],
             [
              0.2222222222222222,
              "#7201a8"
             ],
             [
              0.3333333333333333,
              "#9c179e"
             ],
             [
              0.4444444444444444,
              "#bd3786"
             ],
             [
              0.5555555555555556,
              "#d8576b"
             ],
             [
              0.6666666666666666,
              "#ed7953"
             ],
             [
              0.7777777777777778,
              "#fb9f3a"
             ],
             [
              0.8888888888888888,
              "#fdca26"
             ],
             [
              1,
              "#f0f921"
             ]
            ],
            "type": "histogram2d"
           }
          ],
          "histogram2dcontour": [
           {
            "colorbar": {
             "outlinewidth": 0,
             "ticks": ""
            },
            "colorscale": [
             [
              0,
              "#0d0887"
             ],
             [
              0.1111111111111111,
              "#46039f"
             ],
             [
              0.2222222222222222,
              "#7201a8"
             ],
             [
              0.3333333333333333,
              "#9c179e"
             ],
             [
              0.4444444444444444,
              "#bd3786"
             ],
             [
              0.5555555555555556,
              "#d8576b"
             ],
             [
              0.6666666666666666,
              "#ed7953"
             ],
             [
              0.7777777777777778,
              "#fb9f3a"
             ],
             [
              0.8888888888888888,
              "#fdca26"
             ],
             [
              1,
              "#f0f921"
             ]
            ],
            "type": "histogram2dcontour"
           }
          ],
          "mesh3d": [
           {
            "colorbar": {
             "outlinewidth": 0,
             "ticks": ""
            },
            "type": "mesh3d"
           }
          ],
          "parcoords": [
           {
            "line": {
             "colorbar": {
              "outlinewidth": 0,
              "ticks": ""
             }
            },
            "type": "parcoords"
           }
          ],
          "pie": [
           {
            "automargin": true,
            "type": "pie"
           }
          ],
          "scatter": [
           {
            "fillpattern": {
             "fillmode": "overlay",
             "size": 10,
             "solidity": 0.2
            },
            "type": "scatter"
           }
          ],
          "scatter3d": [
           {
            "line": {
             "colorbar": {
              "outlinewidth": 0,
              "ticks": ""
             }
            },
            "marker": {
             "colorbar": {
              "outlinewidth": 0,
              "ticks": ""
             }
            },
            "type": "scatter3d"
           }
          ],
          "scattercarpet": [
           {
            "marker": {
             "colorbar": {
              "outlinewidth": 0,
              "ticks": ""
             }
            },
            "type": "scattercarpet"
           }
          ],
          "scattergeo": [
           {
            "marker": {
             "colorbar": {
              "outlinewidth": 0,
              "ticks": ""
             }
            },
            "type": "scattergeo"
           }
          ],
          "scattergl": [
           {
            "marker": {
             "colorbar": {
              "outlinewidth": 0,
              "ticks": ""
             }
            },
            "type": "scattergl"
           }
          ],
          "scattermap": [
           {
            "marker": {
             "colorbar": {
              "outlinewidth": 0,
              "ticks": ""
             }
            },
            "type": "scattermap"
           }
          ],
          "scattermapbox": [
           {
            "marker": {
             "colorbar": {
              "outlinewidth": 0,
              "ticks": ""
             }
            },
            "type": "scattermapbox"
           }
          ],
          "scatterpolar": [
           {
            "marker": {
             "colorbar": {
              "outlinewidth": 0,
              "ticks": ""
             }
            },
            "type": "scatterpolar"
           }
          ],
          "scatterpolargl": [
           {
            "marker": {
             "colorbar": {
              "outlinewidth": 0,
              "ticks": ""
             }
            },
            "type": "scatterpolargl"
           }
          ],
          "scatterternary": [
           {
            "marker": {
             "colorbar": {
              "outlinewidth": 0,
              "ticks": ""
             }
            },
            "type": "scatterternary"
           }
          ],
          "surface": [
           {
            "colorbar": {
             "outlinewidth": 0,
             "ticks": ""
            },
            "colorscale": [
             [
              0,
              "#0d0887"
             ],
             [
              0.1111111111111111,
              "#46039f"
             ],
             [
              0.2222222222222222,
              "#7201a8"
             ],
             [
              0.3333333333333333,
              "#9c179e"
             ],
             [
              0.4444444444444444,
              "#bd3786"
             ],
             [
              0.5555555555555556,
              "#d8576b"
             ],
             [
              0.6666666666666666,
              "#ed7953"
             ],
             [
              0.7777777777777778,
              "#fb9f3a"
             ],
             [
              0.8888888888888888,
              "#fdca26"
             ],
             [
              1,
              "#f0f921"
             ]
            ],
            "type": "surface"
           }
          ],
          "table": [
           {
            "cells": {
             "fill": {
              "color": "#EBF0F8"
             },
             "line": {
              "color": "white"
             }
            },
            "header": {
             "fill": {
              "color": "#C8D4E3"
             },
             "line": {
              "color": "white"
             }
            },
            "type": "table"
           }
          ]
         },
         "layout": {
          "annotationdefaults": {
           "arrowcolor": "#2a3f5f",
           "arrowhead": 0,
           "arrowwidth": 1
          },
          "autotypenumbers": "strict",
          "coloraxis": {
           "colorbar": {
            "outlinewidth": 0,
            "ticks": ""
           }
          },
          "colorscale": {
           "diverging": [
            [
             0,
             "#8e0152"
            ],
            [
             0.1,
             "#c51b7d"
            ],
            [
             0.2,
             "#de77ae"
            ],
            [
             0.3,
             "#f1b6da"
            ],
            [
             0.4,
             "#fde0ef"
            ],
            [
             0.5,
             "#f7f7f7"
            ],
            [
             0.6,
             "#e6f5d0"
            ],
            [
             0.7,
             "#b8e186"
            ],
            [
             0.8,
             "#7fbc41"
            ],
            [
             0.9,
             "#4d9221"
            ],
            [
             1,
             "#276419"
            ]
           ],
           "sequential": [
            [
             0,
             "#0d0887"
            ],
            [
             0.1111111111111111,
             "#46039f"
            ],
            [
             0.2222222222222222,
             "#7201a8"
            ],
            [
             0.3333333333333333,
             "#9c179e"
            ],
            [
             0.4444444444444444,
             "#bd3786"
            ],
            [
             0.5555555555555556,
             "#d8576b"
            ],
            [
             0.6666666666666666,
             "#ed7953"
            ],
            [
             0.7777777777777778,
             "#fb9f3a"
            ],
            [
             0.8888888888888888,
             "#fdca26"
            ],
            [
             1,
             "#f0f921"
            ]
           ],
           "sequentialminus": [
            [
             0,
             "#0d0887"
            ],
            [
             0.1111111111111111,
             "#46039f"
            ],
            [
             0.2222222222222222,
             "#7201a8"
            ],
            [
             0.3333333333333333,
             "#9c179e"
            ],
            [
             0.4444444444444444,
             "#bd3786"
            ],
            [
             0.5555555555555556,
             "#d8576b"
            ],
            [
             0.6666666666666666,
             "#ed7953"
            ],
            [
             0.7777777777777778,
             "#fb9f3a"
            ],
            [
             0.8888888888888888,
             "#fdca26"
            ],
            [
             1,
             "#f0f921"
            ]
           ]
          },
          "colorway": [
           "#636efa",
           "#EF553B",
           "#00cc96",
           "#ab63fa",
           "#FFA15A",
           "#19d3f3",
           "#FF6692",
           "#B6E880",
           "#FF97FF",
           "#FECB52"
          ],
          "font": {
           "color": "#2a3f5f"
          },
          "geo": {
           "bgcolor": "white",
           "lakecolor": "white",
           "landcolor": "#E5ECF6",
           "showlakes": true,
           "showland": true,
           "subunitcolor": "white"
          },
          "hoverlabel": {
           "align": "left"
          },
          "hovermode": "closest",
          "mapbox": {
           "style": "light"
          },
          "paper_bgcolor": "white",
          "plot_bgcolor": "#E5ECF6",
          "polar": {
           "angularaxis": {
            "gridcolor": "white",
            "linecolor": "white",
            "ticks": ""
           },
           "bgcolor": "#E5ECF6",
           "radialaxis": {
            "gridcolor": "white",
            "linecolor": "white",
            "ticks": ""
           }
          },
          "scene": {
           "xaxis": {
            "backgroundcolor": "#E5ECF6",
            "gridcolor": "white",
            "gridwidth": 2,
            "linecolor": "white",
            "showbackground": true,
            "ticks": "",
            "zerolinecolor": "white"
           },
           "yaxis": {
            "backgroundcolor": "#E5ECF6",
            "gridcolor": "white",
            "gridwidth": 2,
            "linecolor": "white",
            "showbackground": true,
            "ticks": "",
            "zerolinecolor": "white"
           },
           "zaxis": {
            "backgroundcolor": "#E5ECF6",
            "gridcolor": "white",
            "gridwidth": 2,
            "linecolor": "white",
            "showbackground": true,
            "ticks": "",
            "zerolinecolor": "white"
           }
          },
          "shapedefaults": {
           "line": {
            "color": "#2a3f5f"
           }
          },
          "ternary": {
           "aaxis": {
            "gridcolor": "white",
            "linecolor": "white",
            "ticks": ""
           },
           "baxis": {
            "gridcolor": "white",
            "linecolor": "white",
            "ticks": ""
           },
           "bgcolor": "#E5ECF6",
           "caxis": {
            "gridcolor": "white",
            "linecolor": "white",
            "ticks": ""
           }
          },
          "title": {
           "x": 0.05
          },
          "xaxis": {
           "automargin": true,
           "gridcolor": "white",
           "linecolor": "white",
           "ticks": "",
           "title": {
            "standoff": 15
           },
           "zerolinecolor": "white",
           "zerolinewidth": 2
          },
          "yaxis": {
           "automargin": true,
           "gridcolor": "white",
           "linecolor": "white",
           "ticks": "",
           "title": {
            "standoff": 15
           },
           "zerolinecolor": "white",
           "zerolinewidth": 2
          }
         }
        },
        "xaxis": {
         "anchor": "y",
         "domain": [
          0,
          1
         ],
         "title": {
          "text": "YEAR"
         }
        },
        "yaxis": {
         "anchor": "x",
         "domain": [
          0,
          1
         ],
         "title": {
          "text": "UNIQUE_PERSON_COUNT"
         }
        }
       }
      }
     },
     "metadata": {},
     "output_type": "display_data"
    }
   ],
   "source": [
    "#distribution of Male and Female population per year - final_grouped_df\n",
    "fig = px.bar(final_grouped_df, x='YEAR', y='UNIQUE_PERSON_COUNT', color='SEX')\n",
    "fig.show()  \n"
   ]
  },
  {
   "cell_type": "code",
   "execution_count": 41,
   "id": "468a2755",
   "metadata": {},
   "outputs": [
    {
     "data": {
      "text/html": [
       "<div>\n",
       "<style scoped>\n",
       "    .dataframe tbody tr th:only-of-type {\n",
       "        vertical-align: middle;\n",
       "    }\n",
       "\n",
       "    .dataframe tbody tr th {\n",
       "        vertical-align: top;\n",
       "    }\n",
       "\n",
       "    .dataframe thead th {\n",
       "        text-align: right;\n",
       "    }\n",
       "</style>\n",
       "<table border=\"1\" class=\"dataframe\">\n",
       "  <thead>\n",
       "    <tr style=\"text-align: right;\">\n",
       "      <th></th>\n",
       "      <th>OFFENSE_GROUP</th>\n",
       "      <th>UNIQUE_PERSON_COUNT</th>\n",
       "      <th>YEAR</th>\n",
       "    </tr>\n",
       "  </thead>\n",
       "  <tbody>\n",
       "    <tr>\n",
       "      <th>0</th>\n",
       "      <td></td>\n",
       "      <td>5</td>\n",
       "      <td>2009</td>\n",
       "    </tr>\n",
       "    <tr>\n",
       "      <th>1</th>\n",
       "      <td>DRUG</td>\n",
       "      <td>2060</td>\n",
       "      <td>2009</td>\n",
       "    </tr>\n",
       "    <tr>\n",
       "      <th>2</th>\n",
       "      <td>DWI</td>\n",
       "      <td>382</td>\n",
       "      <td>2009</td>\n",
       "    </tr>\n",
       "    <tr>\n",
       "      <th>3</th>\n",
       "      <td>NONVIOLENT</td>\n",
       "      <td>3427</td>\n",
       "      <td>2009</td>\n",
       "    </tr>\n",
       "    <tr>\n",
       "      <th>4</th>\n",
       "      <td>SEXCHLABUS</td>\n",
       "      <td>859</td>\n",
       "      <td>2009</td>\n",
       "    </tr>\n",
       "    <tr>\n",
       "      <th>...</th>\n",
       "      <td>...</td>\n",
       "      <td>...</td>\n",
       "      <td>...</td>\n",
       "    </tr>\n",
       "    <tr>\n",
       "      <th>78</th>\n",
       "      <td>DRUG</td>\n",
       "      <td>136</td>\n",
       "      <td>2023</td>\n",
       "    </tr>\n",
       "    <tr>\n",
       "      <th>79</th>\n",
       "      <td>DWI</td>\n",
       "      <td>5</td>\n",
       "      <td>2023</td>\n",
       "    </tr>\n",
       "    <tr>\n",
       "      <th>80</th>\n",
       "      <td>NONVIOLENT</td>\n",
       "      <td>144</td>\n",
       "      <td>2023</td>\n",
       "    </tr>\n",
       "    <tr>\n",
       "      <th>81</th>\n",
       "      <td>SEXCHLABUS</td>\n",
       "      <td>17</td>\n",
       "      <td>2023</td>\n",
       "    </tr>\n",
       "    <tr>\n",
       "      <th>82</th>\n",
       "      <td>VIOLENT</td>\n",
       "      <td>97</td>\n",
       "      <td>2023</td>\n",
       "    </tr>\n",
       "  </tbody>\n",
       "</table>\n",
       "<p>83 rows × 3 columns</p>\n",
       "</div>"
      ],
      "text/plain": [
       "   OFFENSE_GROUP  UNIQUE_PERSON_COUNT  YEAR\n",
       "0                                   5  2009\n",
       "1     DRUG                       2060  2009\n",
       "2     DWI                         382  2009\n",
       "3     NONVIOLENT                 3427  2009\n",
       "4     SEXCHLABUS                  859  2009\n",
       "..           ...                  ...   ...\n",
       "78    DRUG                        136  2023\n",
       "79    DWI                           5  2023\n",
       "80    NONVIOLENT                  144  2023\n",
       "81    SEXCHLABUS                   17  2023\n",
       "82    VIOLENT                      97  2023\n",
       "\n",
       "[83 rows x 3 columns]"
      ]
     },
     "execution_count": 41,
     "metadata": {},
     "output_type": "execute_result"
    }
   ],
   "source": [
    "\n",
    "# Drop rows with missing admission or release dates\n",
    "final_df = final_df.dropna(subset=[\"ADMISSION_DATE\", \"RELEASE_DATE\"])\n",
    "\n",
    "# Get the list of unique years from the release dates\n",
    "years = sorted(final_df[\"RELEASE_DATE\"].dt.year.dropna().unique())\n",
    "\n",
    "# Store results in a list\n",
    "all_results = []\n",
    "\n",
    "for year in years:\n",
    "    dec_1 = pd.Timestamp(year=year, month=12, day=1)\n",
    "\n",
    "    # Filter incarcerated individuals on Dec 1 of that year\n",
    "    mask = (final_df[\"ADMISSION_DATE\"] <= dec_1) & (final_df[\"RELEASE_DATE\"] > dec_1)\n",
    "    active_on_dec1 = final_df[mask]\n",
    "\n",
    "    # Group by SEX, RACE, COUNTY, OFFENSE_GROUP and count unique PERSON_IDs\n",
    "    grouped = (\n",
    "        active_on_dec1.groupby([\"OFFENSE_GROUP\"])\n",
    "        .agg(UNIQUE_PERSON_COUNT=(\"PERSON_ID\", \"nunique\"))\n",
    "        .reset_index()\n",
    "    )\n",
    "\n",
    "    grouped[\"YEAR\"] = year  # Add the year to the grouped DataFrame\n",
    "    all_results.append(grouped)\n",
    "\n",
    "# Combine all years into one DataFrame\n",
    "final_grouped_df = pd.concat(all_results, ignore_index=True)\n",
    "\n",
    "# Show sample of final grouped output\n",
    "final_grouped_df\n"
   ]
  },
  {
   "cell_type": "code",
   "execution_count": null,
   "id": "6eb45990",
   "metadata": {},
   "outputs": [
    {
     "data": {
      "application/vnd.plotly.v1+json": {
       "config": {
        "plotlyServerURL": "https://plot.ly"
       },
       "data": [
        {
         "mode": "lines+markers",
         "name": "          ",
         "type": "scatter",
         "visible": true,
         "x": {
          "bdata": "2QcAANoHAADbBwAA3AcAAN0HAADeBwAA3wcAAOAHAAA=",
          "dtype": "i4"
         },
         "y": {
          "bdata": "BQQEAwICAQE=",
          "dtype": "i1"
         }
        },
        {
         "mode": "lines+markers",
         "name": "DRUG      ",
         "type": "scatter",
         "visible": false,
         "x": {
          "bdata": "2QcAANoHAADbBwAA3AcAAN0HAADeBwAA3wcAAOAHAADhBwAA4gcAAOMHAADkBwAA5QcAAOYHAADnBwAA",
          "dtype": "i4"
         },
         "y": {
          "bdata": "DAiFB3wHwwfGB0AIhghTCSsKQQnuBlkFMQU9BIgA",
          "dtype": "i2"
         }
        },
        {
         "mode": "lines+markers",
         "name": "DWI       ",
         "type": "scatter",
         "visible": false,
         "x": {
          "bdata": "2QcAANoHAADbBwAA3AcAAN0HAADeBwAA3wcAAOAHAADhBwAA4gcAAOMHAADkBwAA5QcAAOYHAADnBwAA",
          "dtype": "i4"
         },
         "y": {
          "bdata": "fgGCAaYBqwGUAacBlgGAAYUBTgHRAJEAfQBWAAUA",
          "dtype": "i2"
         }
        },
        {
         "mode": "lines+markers",
         "name": "NONVIOLENT",
         "type": "scatter",
         "visible": false,
         "x": {
          "bdata": "2QcAANoHAADbBwAA3AcAAN0HAADeBwAA3wcAAOAHAADhBwAA4gcAAOMHAADkBwAA5QcAAOYHAADnBwAA",
          "dtype": "i4"
         },
         "y": {
          "bdata": "Yw0LDagN5w5DD+4PtQ+zDxYQpA7GCosHCQePBZAA",
          "dtype": "i2"
         }
        },
        {
         "mode": "lines+markers",
         "name": "SEXCHLABUS",
         "type": "scatter",
         "visible": false,
         "x": {
          "bdata": "2QcAANoHAADbBwAA3AcAAN0HAADeBwAA3wcAAOAHAADhBwAA4gcAAOMHAADkBwAA5QcAAOYHAADnBwAA",
          "dtype": "i4"
         },
         "y": {
          "bdata": "WwNRA0YDAQPuAqgCkgJ6AjUC+gG7AVAB/QCRABEA",
          "dtype": "i2"
         }
        },
        {
         "mode": "lines+markers",
         "name": "VIOLENT   ",
         "type": "scatter",
         "visible": false,
         "x": {
          "bdata": "2QcAANoHAADbBwAA3AcAAN0HAADeBwAA3wcAAOAHAADhBwAA4gcAAOMHAADkBwAA5QcAAOYHAADnBwAA",
          "dtype": "i4"
         },
         "y": {
          "bdata": "swqDCrMK1AqzCi8K/QnuCc8JXQmbByYGrQQZA2EA",
          "dtype": "i2"
         }
        }
       ],
       "layout": {
        "height": 500,
        "template": {
         "data": {
          "bar": [
           {
            "error_x": {
             "color": "#2a3f5f"
            },
            "error_y": {
             "color": "#2a3f5f"
            },
            "marker": {
             "line": {
              "color": "#E5ECF6",
              "width": 0.5
             },
             "pattern": {
              "fillmode": "overlay",
              "size": 10,
              "solidity": 0.2
             }
            },
            "type": "bar"
           }
          ],
          "barpolar": [
           {
            "marker": {
             "line": {
              "color": "#E5ECF6",
              "width": 0.5
             },
             "pattern": {
              "fillmode": "overlay",
              "size": 10,
              "solidity": 0.2
             }
            },
            "type": "barpolar"
           }
          ],
          "carpet": [
           {
            "aaxis": {
             "endlinecolor": "#2a3f5f",
             "gridcolor": "white",
             "linecolor": "white",
             "minorgridcolor": "white",
             "startlinecolor": "#2a3f5f"
            },
            "baxis": {
             "endlinecolor": "#2a3f5f",
             "gridcolor": "white",
             "linecolor": "white",
             "minorgridcolor": "white",
             "startlinecolor": "#2a3f5f"
            },
            "type": "carpet"
           }
          ],
          "choropleth": [
           {
            "colorbar": {
             "outlinewidth": 0,
             "ticks": ""
            },
            "type": "choropleth"
           }
          ],
          "contour": [
           {
            "colorbar": {
             "outlinewidth": 0,
             "ticks": ""
            },
            "colorscale": [
             [
              0,
              "#0d0887"
             ],
             [
              0.1111111111111111,
              "#46039f"
             ],
             [
              0.2222222222222222,
              "#7201a8"
             ],
             [
              0.3333333333333333,
              "#9c179e"
             ],
             [
              0.4444444444444444,
              "#bd3786"
             ],
             [
              0.5555555555555556,
              "#d8576b"
             ],
             [
              0.6666666666666666,
              "#ed7953"
             ],
             [
              0.7777777777777778,
              "#fb9f3a"
             ],
             [
              0.8888888888888888,
              "#fdca26"
             ],
             [
              1,
              "#f0f921"
             ]
            ],
            "type": "contour"
           }
          ],
          "contourcarpet": [
           {
            "colorbar": {
             "outlinewidth": 0,
             "ticks": ""
            },
            "type": "contourcarpet"
           }
          ],
          "heatmap": [
           {
            "colorbar": {
             "outlinewidth": 0,
             "ticks": ""
            },
            "colorscale": [
             [
              0,
              "#0d0887"
             ],
             [
              0.1111111111111111,
              "#46039f"
             ],
             [
              0.2222222222222222,
              "#7201a8"
             ],
             [
              0.3333333333333333,
              "#9c179e"
             ],
             [
              0.4444444444444444,
              "#bd3786"
             ],
             [
              0.5555555555555556,
              "#d8576b"
             ],
             [
              0.6666666666666666,
              "#ed7953"
             ],
             [
              0.7777777777777778,
              "#fb9f3a"
             ],
             [
              0.8888888888888888,
              "#fdca26"
             ],
             [
              1,
              "#f0f921"
             ]
            ],
            "type": "heatmap"
           }
          ],
          "histogram": [
           {
            "marker": {
             "pattern": {
              "fillmode": "overlay",
              "size": 10,
              "solidity": 0.2
             }
            },
            "type": "histogram"
           }
          ],
          "histogram2d": [
           {
            "colorbar": {
             "outlinewidth": 0,
             "ticks": ""
            },
            "colorscale": [
             [
              0,
              "#0d0887"
             ],
             [
              0.1111111111111111,
              "#46039f"
             ],
             [
              0.2222222222222222,
              "#7201a8"
             ],
             [
              0.3333333333333333,
              "#9c179e"
             ],
             [
              0.4444444444444444,
              "#bd3786"
             ],
             [
              0.5555555555555556,
              "#d8576b"
             ],
             [
              0.6666666666666666,
              "#ed7953"
             ],
             [
              0.7777777777777778,
              "#fb9f3a"
             ],
             [
              0.8888888888888888,
              "#fdca26"
             ],
             [
              1,
              "#f0f921"
             ]
            ],
            "type": "histogram2d"
           }
          ],
          "histogram2dcontour": [
           {
            "colorbar": {
             "outlinewidth": 0,
             "ticks": ""
            },
            "colorscale": [
             [
              0,
              "#0d0887"
             ],
             [
              0.1111111111111111,
              "#46039f"
             ],
             [
              0.2222222222222222,
              "#7201a8"
             ],
             [
              0.3333333333333333,
              "#9c179e"
             ],
             [
              0.4444444444444444,
              "#bd3786"
             ],
             [
              0.5555555555555556,
              "#d8576b"
             ],
             [
              0.6666666666666666,
              "#ed7953"
             ],
             [
              0.7777777777777778,
              "#fb9f3a"
             ],
             [
              0.8888888888888888,
              "#fdca26"
             ],
             [
              1,
              "#f0f921"
             ]
            ],
            "type": "histogram2dcontour"
           }
          ],
          "mesh3d": [
           {
            "colorbar": {
             "outlinewidth": 0,
             "ticks": ""
            },
            "type": "mesh3d"
           }
          ],
          "parcoords": [
           {
            "line": {
             "colorbar": {
              "outlinewidth": 0,
              "ticks": ""
             }
            },
            "type": "parcoords"
           }
          ],
          "pie": [
           {
            "automargin": true,
            "type": "pie"
           }
          ],
          "scatter": [
           {
            "fillpattern": {
             "fillmode": "overlay",
             "size": 10,
             "solidity": 0.2
            },
            "type": "scatter"
           }
          ],
          "scatter3d": [
           {
            "line": {
             "colorbar": {
              "outlinewidth": 0,
              "ticks": ""
             }
            },
            "marker": {
             "colorbar": {
              "outlinewidth": 0,
              "ticks": ""
             }
            },
            "type": "scatter3d"
           }
          ],
          "scattercarpet": [
           {
            "marker": {
             "colorbar": {
              "outlinewidth": 0,
              "ticks": ""
             }
            },
            "type": "scattercarpet"
           }
          ],
          "scattergeo": [
           {
            "marker": {
             "colorbar": {
              "outlinewidth": 0,
              "ticks": ""
             }
            },
            "type": "scattergeo"
           }
          ],
          "scattergl": [
           {
            "marker": {
             "colorbar": {
              "outlinewidth": 0,
              "ticks": ""
             }
            },
            "type": "scattergl"
           }
          ],
          "scattermap": [
           {
            "marker": {
             "colorbar": {
              "outlinewidth": 0,
              "ticks": ""
             }
            },
            "type": "scattermap"
           }
          ],
          "scattermapbox": [
           {
            "marker": {
             "colorbar": {
              "outlinewidth": 0,
              "ticks": ""
             }
            },
            "type": "scattermapbox"
           }
          ],
          "scatterpolar": [
           {
            "marker": {
             "colorbar": {
              "outlinewidth": 0,
              "ticks": ""
             }
            },
            "type": "scatterpolar"
           }
          ],
          "scatterpolargl": [
           {
            "marker": {
             "colorbar": {
              "outlinewidth": 0,
              "ticks": ""
             }
            },
            "type": "scatterpolargl"
           }
          ],
          "scatterternary": [
           {
            "marker": {
             "colorbar": {
              "outlinewidth": 0,
              "ticks": ""
             }
            },
            "type": "scatterternary"
           }
          ],
          "surface": [
           {
            "colorbar": {
             "outlinewidth": 0,
             "ticks": ""
            },
            "colorscale": [
             [
              0,
              "#0d0887"
             ],
             [
              0.1111111111111111,
              "#46039f"
             ],
             [
              0.2222222222222222,
              "#7201a8"
             ],
             [
              0.3333333333333333,
              "#9c179e"
             ],
             [
              0.4444444444444444,
              "#bd3786"
             ],
             [
              0.5555555555555556,
              "#d8576b"
             ],
             [
              0.6666666666666666,
              "#ed7953"
             ],
             [
              0.7777777777777778,
              "#fb9f3a"
             ],
             [
              0.8888888888888888,
              "#fdca26"
             ],
             [
              1,
              "#f0f921"
             ]
            ],
            "type": "surface"
           }
          ],
          "table": [
           {
            "cells": {
             "fill": {
              "color": "#EBF0F8"
             },
             "line": {
              "color": "white"
             }
            },
            "header": {
             "fill": {
              "color": "#C8D4E3"
             },
             "line": {
              "color": "white"
             }
            },
            "type": "table"
           }
          ]
         },
         "layout": {
          "annotationdefaults": {
           "arrowcolor": "#2a3f5f",
           "arrowhead": 0,
           "arrowwidth": 1
          },
          "autotypenumbers": "strict",
          "coloraxis": {
           "colorbar": {
            "outlinewidth": 0,
            "ticks": ""
           }
          },
          "colorscale": {
           "diverging": [
            [
             0,
             "#8e0152"
            ],
            [
             0.1,
             "#c51b7d"
            ],
            [
             0.2,
             "#de77ae"
            ],
            [
             0.3,
             "#f1b6da"
            ],
            [
             0.4,
             "#fde0ef"
            ],
            [
             0.5,
             "#f7f7f7"
            ],
            [
             0.6,
             "#e6f5d0"
            ],
            [
             0.7,
             "#b8e186"
            ],
            [
             0.8,
             "#7fbc41"
            ],
            [
             0.9,
             "#4d9221"
            ],
            [
             1,
             "#276419"
            ]
           ],
           "sequential": [
            [
             0,
             "#0d0887"
            ],
            [
             0.1111111111111111,
             "#46039f"
            ],
            [
             0.2222222222222222,
             "#7201a8"
            ],
            [
             0.3333333333333333,
             "#9c179e"
            ],
            [
             0.4444444444444444,
             "#bd3786"
            ],
            [
             0.5555555555555556,
             "#d8576b"
            ],
            [
             0.6666666666666666,
             "#ed7953"
            ],
            [
             0.7777777777777778,
             "#fb9f3a"
            ],
            [
             0.8888888888888888,
             "#fdca26"
            ],
            [
             1,
             "#f0f921"
            ]
           ],
           "sequentialminus": [
            [
             0,
             "#0d0887"
            ],
            [
             0.1111111111111111,
             "#46039f"
            ],
            [
             0.2222222222222222,
             "#7201a8"
            ],
            [
             0.3333333333333333,
             "#9c179e"
            ],
            [
             0.4444444444444444,
             "#bd3786"
            ],
            [
             0.5555555555555556,
             "#d8576b"
            ],
            [
             0.6666666666666666,
             "#ed7953"
            ],
            [
             0.7777777777777778,
             "#fb9f3a"
            ],
            [
             0.8888888888888888,
             "#fdca26"
            ],
            [
             1,
             "#f0f921"
            ]
           ]
          },
          "colorway": [
           "#636efa",
           "#EF553B",
           "#00cc96",
           "#ab63fa",
           "#FFA15A",
           "#19d3f3",
           "#FF6692",
           "#B6E880",
           "#FF97FF",
           "#FECB52"
          ],
          "font": {
           "color": "#2a3f5f"
          },
          "geo": {
           "bgcolor": "white",
           "lakecolor": "white",
           "landcolor": "#E5ECF6",
           "showlakes": true,
           "showland": true,
           "subunitcolor": "white"
          },
          "hoverlabel": {
           "align": "left"
          },
          "hovermode": "closest",
          "mapbox": {
           "style": "light"
          },
          "paper_bgcolor": "white",
          "plot_bgcolor": "#E5ECF6",
          "polar": {
           "angularaxis": {
            "gridcolor": "white",
            "linecolor": "white",
            "ticks": ""
           },
           "bgcolor": "#E5ECF6",
           "radialaxis": {
            "gridcolor": "white",
            "linecolor": "white",
            "ticks": ""
           }
          },
          "scene": {
           "xaxis": {
            "backgroundcolor": "#E5ECF6",
            "gridcolor": "white",
            "gridwidth": 2,
            "linecolor": "white",
            "showbackground": true,
            "ticks": "",
            "zerolinecolor": "white"
           },
           "yaxis": {
            "backgroundcolor": "#E5ECF6",
            "gridcolor": "white",
            "gridwidth": 2,
            "linecolor": "white",
            "showbackground": true,
            "ticks": "",
            "zerolinecolor": "white"
           },
           "zaxis": {
            "backgroundcolor": "#E5ECF6",
            "gridcolor": "white",
            "gridwidth": 2,
            "linecolor": "white",
            "showbackground": true,
            "ticks": "",
            "zerolinecolor": "white"
           }
          },
          "shapedefaults": {
           "line": {
            "color": "#2a3f5f"
           }
          },
          "ternary": {
           "aaxis": {
            "gridcolor": "white",
            "linecolor": "white",
            "ticks": ""
           },
           "baxis": {
            "gridcolor": "white",
            "linecolor": "white",
            "ticks": ""
           },
           "bgcolor": "#E5ECF6",
           "caxis": {
            "gridcolor": "white",
            "linecolor": "white",
            "ticks": ""
           }
          },
          "title": {
           "x": 0.05
          },
          "xaxis": {
           "automargin": true,
           "gridcolor": "white",
           "linecolor": "white",
           "ticks": "",
           "title": {
            "standoff": 15
           },
           "zerolinecolor": "white",
           "zerolinewidth": 2
          },
          "yaxis": {
           "automargin": true,
           "gridcolor": "white",
           "linecolor": "white",
           "ticks": "",
           "title": {
            "standoff": 15
           },
           "zerolinecolor": "white",
           "zerolinewidth": 2
          }
         }
        },
        "title": {
         "text": "Yearly Incarceration Trend by Offense Group"
        },
        "updatemenus": [
         {
          "buttons": [
           {
            "args": [
             {
              "visible": [
               true,
               false,
               false,
               false,
               false,
               false
              ]
             },
             {
              "title": "Trend for           "
             }
            ],
            "label": "          ",
            "method": "update"
           },
           {
            "args": [
             {
              "visible": [
               false,
               true,
               false,
               false,
               false,
               false
              ]
             },
             {
              "title": "Trend for DRUG      "
             }
            ],
            "label": "DRUG      ",
            "method": "update"
           },
           {
            "args": [
             {
              "visible": [
               false,
               false,
               true,
               false,
               false,
               false
              ]
             },
             {
              "title": "Trend for DWI       "
             }
            ],
            "label": "DWI       ",
            "method": "update"
           },
           {
            "args": [
             {
              "visible": [
               false,
               false,
               false,
               true,
               false,
               false
              ]
             },
             {
              "title": "Trend for NONVIOLENT"
             }
            ],
            "label": "NONVIOLENT",
            "method": "update"
           },
           {
            "args": [
             {
              "visible": [
               false,
               false,
               false,
               false,
               true,
               false
              ]
             },
             {
              "title": "Trend for SEXCHLABUS"
             }
            ],
            "label": "SEXCHLABUS",
            "method": "update"
           },
           {
            "args": [
             {
              "visible": [
               false,
               false,
               false,
               false,
               false,
               true
              ]
             },
             {
              "title": "Trend for VIOLENT   "
             }
            ],
            "label": "VIOLENT   ",
            "method": "update"
           }
          ],
          "direction": "down",
          "showactive": true,
          "x": 1.15,
          "xanchor": "left",
          "y": 1.05,
          "yanchor": "top"
         }
        ],
        "xaxis": {
         "title": {
          "text": "Year"
         }
        },
        "yaxis": {
         "title": {
          "text": "Unique Person Count"
         }
        }
       }
      }
     },
     "metadata": {},
     "output_type": "display_data"
    }
   ],
   "source": [
    "\n",
    "# Get list of unique offense groups\n",
    "offense_groups = final_grouped_df[\"OFFENSE_GROUP\"].unique()\n",
    "\n",
    "# Create a separate trace for each offense group\n",
    "fig = go.Figure()\n",
    "\n",
    "# Add a trace per offense group\n",
    "for group in offense_groups:\n",
    "    group_df = final_grouped_df[final_grouped_df[\"OFFENSE_GROUP\"] == group]\n",
    "    fig.add_trace(go.Scatter(\n",
    "        x=group_df[\"YEAR\"],\n",
    "        y=group_df[\"UNIQUE_PERSON_COUNT\"],\n",
    "        mode=\"lines+markers\",\n",
    "        name=group,\n",
    "        visible=False\n",
    "    ))\n",
    "\n",
    "# Make the first trace visible by default\n",
    "fig.data[0].visible = True\n",
    "\n",
    "# Create dropdown menu\n",
    "dropdown_buttons = [\n",
    "    {\n",
    "        \"label\": group,\n",
    "        \"method\": \"update\",\n",
    "        \"args\": [\n",
    "            {\"visible\": [i == j for i in range(len(offense_groups))]},\n",
    "            {\"title\": f\"Trend for {group}\"}\n",
    "        ]\n",
    "    }\n",
    "    for j, group in enumerate(offense_groups)\n",
    "]\n",
    "\n",
    "# Add dropdown to layout\n",
    "fig.update_layout(\n",
    "    title=\"Yearly Incarceration Trend by Offense Group\",\n",
    "    xaxis_title=\"Year\",\n",
    "    yaxis_title=\"Unique Person Count\",\n",
    "    updatemenus=[{\n",
    "        \"buttons\": dropdown_buttons,\n",
    "        \"direction\": \"down\",\n",
    "        \"showactive\": True,\n",
    "        \"x\": 1.15,\n",
    "        \"xanchor\": \"left\",\n",
    "        \"y\": 1.05,\n",
    "        \"yanchor\": \"top\"\n",
    "    }],\n",
    "    height=500\n",
    ")\n",
    "\n",
    "fig.show()\n"
   ]
  },
  {
   "cell_type": "markdown",
   "id": "b37f6bf8",
   "metadata": {},
   "source": [
    "## Question 2 : Have there been changes in the pattern of violation behavior over time?"
   ]
  },
  {
   "cell_type": "code",
   "execution_count": 64,
   "id": "8e652553",
   "metadata": {},
   "outputs": [
    {
     "data": {
      "text/html": [
       "<div>\n",
       "<style scoped>\n",
       "    .dataframe tbody tr th:only-of-type {\n",
       "        vertical-align: middle;\n",
       "    }\n",
       "\n",
       "    .dataframe tbody tr th {\n",
       "        vertical-align: top;\n",
       "    }\n",
       "\n",
       "    .dataframe thead th {\n",
       "        text-align: right;\n",
       "    }\n",
       "</style>\n",
       "<table border=\"1\" class=\"dataframe\">\n",
       "  <thead>\n",
       "    <tr style=\"text-align: right;\">\n",
       "      <th></th>\n",
       "      <th>PERSON_ID</th>\n",
       "      <th>CYCLE</th>\n",
       "      <th>SEQUENCE_NO</th>\n",
       "      <th>VIOLATION_DATE</th>\n",
       "      <th>PRIMARY_RULE</th>\n",
       "      <th>SECONDARY_RULE</th>\n",
       "    </tr>\n",
       "  </thead>\n",
       "  <tbody>\n",
       "    <tr>\n",
       "      <th>0</th>\n",
       "      <td>78516984.0</td>\n",
       "      <td>2.0</td>\n",
       "      <td>1</td>\n",
       "      <td>2013-12-02</td>\n",
       "      <td>22.1</td>\n",
       "      <td>24.1</td>\n",
       "    </tr>\n",
       "    <tr>\n",
       "      <th>1</th>\n",
       "      <td>63649787.0</td>\n",
       "      <td>3.0</td>\n",
       "      <td>27</td>\n",
       "      <td>2011-12-08</td>\n",
       "      <td>20.1</td>\n",
       "      <td>41.1</td>\n",
       "    </tr>\n",
       "    <tr>\n",
       "      <th>2</th>\n",
       "      <td>63649787.0</td>\n",
       "      <td>3.0</td>\n",
       "      <td>28</td>\n",
       "      <td>2011-12-12</td>\n",
       "      <td>33.2</td>\n",
       "      <td>41.1</td>\n",
       "    </tr>\n",
       "    <tr>\n",
       "      <th>3</th>\n",
       "      <td>63649787.0</td>\n",
       "      <td>3.0</td>\n",
       "      <td>29</td>\n",
       "      <td>2012-03-08</td>\n",
       "      <td>19.1</td>\n",
       "      <td>21.1</td>\n",
       "    </tr>\n",
       "    <tr>\n",
       "      <th>4</th>\n",
       "      <td>63649787.0</td>\n",
       "      <td>3.0</td>\n",
       "      <td>30</td>\n",
       "      <td>2012-09-09</td>\n",
       "      <td>20.1</td>\n",
       "      <td>30.1</td>\n",
       "    </tr>\n",
       "  </tbody>\n",
       "</table>\n",
       "</div>"
      ],
      "text/plain": [
       "    PERSON_ID  CYCLE  SEQUENCE_NO VIOLATION_DATE  PRIMARY_RULE  SECONDARY_RULE\n",
       "0  78516984.0    2.0            1     2013-12-02          22.1            24.1\n",
       "1  63649787.0    3.0           27     2011-12-08          20.1            41.1\n",
       "2  63649787.0    3.0           28     2011-12-12          33.2            41.1\n",
       "3  63649787.0    3.0           29     2012-03-08          19.1            21.1\n",
       "4  63649787.0    3.0           30     2012-09-09          20.1            30.1"
      ]
     },
     "execution_count": 64,
     "metadata": {},
     "output_type": "execute_result"
    }
   ],
   "source": [
    "violation.head()"
   ]
  },
  {
   "cell_type": "code",
   "execution_count": 65,
   "id": "693a3d18",
   "metadata": {},
   "outputs": [
    {
     "name": "stdout",
     "output_type": "stream",
     "text": [
      "<class 'pandas.core.frame.DataFrame'>\n",
      "RangeIndex: 222646 entries, 0 to 222645\n",
      "Data columns (total 6 columns):\n",
      " #   Column          Non-Null Count   Dtype  \n",
      "---  ------          --------------   -----  \n",
      " 0   PERSON_ID       222605 non-null  float64\n",
      " 1   CYCLE           222605 non-null  float64\n",
      " 2   SEQUENCE_NO     222646 non-null  int64  \n",
      " 3   VIOLATION_DATE  222646 non-null  object \n",
      " 4   PRIMARY_RULE    222646 non-null  float64\n",
      " 5   SECONDARY_RULE  222646 non-null  float64\n",
      "dtypes: float64(4), int64(1), object(1)\n",
      "memory usage: 10.2+ MB\n"
     ]
    }
   ],
   "source": [
    "violation.info()"
   ]
  },
  {
   "cell_type": "code",
   "execution_count": 66,
   "id": "6f6318df",
   "metadata": {},
   "outputs": [],
   "source": [
    "#Analyze violation trends over time using the violations dataset.\n",
    "#Convert 'VIOLATION_DATE' to datetime format.\n",
    "violation['VIOLATION_DATE'] = pd.to_datetime(violation['VIOLATION_DATE'], errors='coerce')\n",
    "#Extract year from each date and create a new column called 'VIOLATION_YEAR'.\n",
    "#Group the data by 'VIOLATION_YEAR' and count the number of violations for each year.\n",
    "violation['VIOLATION_YEAR'] = violation['VIOLATION_DATE'].dt.year"
   ]
  },
  {
   "cell_type": "code",
   "execution_count": 67,
   "id": "eb5eca1b",
   "metadata": {},
   "outputs": [
    {
     "name": "stdout",
     "output_type": "stream",
     "text": [
      "<class 'pandas.core.frame.DataFrame'>\n",
      "RangeIndex: 18 entries, 0 to 17\n",
      "Data columns (total 2 columns):\n",
      " #   Column           Non-Null Count  Dtype\n",
      "---  ------           --------------  -----\n",
      " 0   VIOLATION_YEAR   18 non-null     int32\n",
      " 1   VIOLATION_COUNT  18 non-null     int64\n",
      "dtypes: int32(1), int64(1)\n",
      "memory usage: 344.0 bytes\n"
     ]
    }
   ],
   "source": [
    "# count violations trends over the years\n",
    "violation_year_trends = violation.groupby('VIOLATION_YEAR').size().reset_index(name='VIOLATION_COUNT')\n",
    "# Display the first few rows of the violation year trends.  \n",
    "violation_year_trends.head()\n",
    "violation_year_trends.info()"
   ]
  },
  {
   "cell_type": "code",
   "execution_count": null,
   "id": "a6ba418d",
   "metadata": {},
   "outputs": [
    {
     "data": {
      "image/png": "[encoded data removed]",
      "text/plain": [
       "<Figure size 1200x600 with 1 Axes>"
      ]
     },
     "metadata": {},
     "output_type": "display_data"
    }
   ],
   "source": [
    "# display the violation trends by year diagram    \n",
    "violation_year_trends.plot(x='VIOLATION_YEAR', y='VIOLATION_COUNT', kind='bar', figsize=(12, 6))\n",
    "plt.title('Violation Trends by Year')\n",
    "plt.xlabel('Year')\n",
    "plt.ylabel('Number of Violations')\n",
    "plt.xticks(rotation=45)\n",
    "plt.tight_layout()\n",
    "      \n"
   ]
  },
  {
   "cell_type": "code",
   "execution_count": 72,
   "id": "306f6cb0",
   "metadata": {},
   "outputs": [
    {
     "data": {
      "text/html": [
       "<div>\n",
       "<style scoped>\n",
       "    .dataframe tbody tr th:only-of-type {\n",
       "        vertical-align: middle;\n",
       "    }\n",
       "\n",
       "    .dataframe tbody tr th {\n",
       "        vertical-align: top;\n",
       "    }\n",
       "\n",
       "    .dataframe thead th {\n",
       "        text-align: right;\n",
       "    }\n",
       "</style>\n",
       "<table border=\"1\" class=\"dataframe\">\n",
       "  <thead>\n",
       "    <tr style=\"text-align: right;\">\n",
       "      <th></th>\n",
       "      <th>VIOLATION_YEAR</th>\n",
       "      <th>PRIMARY_RULE</th>\n",
       "      <th>VIOLATION_COUNT</th>\n",
       "    </tr>\n",
       "  </thead>\n",
       "  <tbody>\n",
       "    <tr>\n",
       "      <th>0</th>\n",
       "      <td>2006</td>\n",
       "      <td>20.1</td>\n",
       "      <td>320</td>\n",
       "    </tr>\n",
       "    <tr>\n",
       "      <th>1</th>\n",
       "      <td>2006</td>\n",
       "      <td>19.1</td>\n",
       "      <td>221</td>\n",
       "    </tr>\n",
       "    <tr>\n",
       "      <th>2</th>\n",
       "      <td>2006</td>\n",
       "      <td>19.4</td>\n",
       "      <td>154</td>\n",
       "    </tr>\n",
       "    <tr>\n",
       "      <th>3</th>\n",
       "      <td>2007</td>\n",
       "      <td>20.1</td>\n",
       "      <td>1432</td>\n",
       "    </tr>\n",
       "    <tr>\n",
       "      <th>4</th>\n",
       "      <td>2007</td>\n",
       "      <td>19.1</td>\n",
       "      <td>866</td>\n",
       "    </tr>\n",
       "  </tbody>\n",
       "</table>\n",
       "</div>"
      ],
      "text/plain": [
       "   VIOLATION_YEAR  PRIMARY_RULE  VIOLATION_COUNT\n",
       "0            2006          20.1              320\n",
       "1            2006          19.1              221\n",
       "2            2006          19.4              154\n",
       "3            2007          20.1             1432\n",
       "4            2007          19.1              866"
      ]
     },
     "execution_count": 72,
     "metadata": {},
     "output_type": "execute_result"
    }
   ],
   "source": [
    "\n",
    "# Group by YEAR and PRIMARY_RULE and count\n",
    "rule_counts = (\n",
    "    violation.groupby([\"VIOLATION_YEAR\", \"PRIMARY_RULE\"])\n",
    "    .size()\n",
    "    .reset_index(name=\"VIOLATION_COUNT\")\n",
    ")\n",
    "\n",
    "# Get top 3 violations for each year\n",
    "top3_rules_per_year = (\n",
    "    rule_counts.sort_values([\"VIOLATION_YEAR\", \"VIOLATION_COUNT\"], ascending=[True, False])\n",
    "    .groupby(\"VIOLATION_YEAR\")\n",
    "    .head(3)\n",
    "    .reset_index(drop=True)\n",
    ")\n",
    "\n",
    "# Show the result\n",
    "top3_rules_per_year.head()\n"
   ]
  },
  {
   "cell_type": "code",
   "execution_count": 74,
   "id": "0dedbab2",
   "metadata": {},
   "outputs": [],
   "source": [
    "#convert primary rule to string\n",
    "top3_rules_per_year['PRIMARY_RULE'] = top3_rules_per_year['PRIMARY_RULE'].astype(str)"
   ]
  },
  {
   "cell_type": "code",
   "execution_count": 75,
   "id": "61d2cce6",
   "metadata": {},
   "outputs": [
    {
     "data": {
      "application/vnd.plotly.v1+json": {
       "config": {
        "plotlyServerURL": "https://plot.ly"
       },
       "data": [
        {
         "hovertemplate": "PRIMARY_RULE=20.1<br>VIOLATION_YEAR=%{x}<br>VIOLATION_COUNT=%{y}<extra></extra>",
         "legendgroup": "20.1",
         "marker": {
          "color": "#636efa",
          "pattern": {
           "shape": ""
          }
         },
         "name": "20.1",
         "orientation": "v",
         "showlegend": true,
         "textposition": "auto",
         "type": "bar",
         "x": {
          "bdata": "1gcAANcHAADYBwAA2QcAANoHAADbBwAA3AcAAN0HAADeBwAA3wcAAOAHAADhBwAA4gcAAOMHAADkBwAA5QcAAOYHAADnBwAA",
          "dtype": "i4"
         },
         "xaxis": "x",
         "y": {
          "bdata": "QAGYBc0JVhCcEfYQLBSiE/wS+hFgEJ8QExCuDHwKyggQBpYD",
          "dtype": "i2"
         },
         "yaxis": "y"
        },
        {
         "hovertemplate": "PRIMARY_RULE=19.1<br>VIOLATION_YEAR=%{x}<br>VIOLATION_COUNT=%{y}<extra></extra>",
         "legendgroup": "19.1",
         "marker": {
          "color": "#EF553B",
          "pattern": {
           "shape": ""
          }
         },
         "name": "19.1",
         "orientation": "v",
         "showlegend": true,
         "textposition": "auto",
         "type": "bar",
         "x": {
          "bdata": "1gcAANcHAADYBwAA2QcAANoHAADbBwAA3AcAAN0HAADeBwAA3wcAAOAHAADhBwAA4gcAAOMHAADkBwAA5QcAAOYHAADnBwAA",
          "dtype": "i4"
         },
         "xaxis": "x",
         "y": {
          "bdata": "3QBiA2MGtggSCJQHFQi7CIIINQlJCLEIfAirBkMGswUqBMUB",
          "dtype": "i2"
         },
         "yaxis": "y"
        },
        {
         "hovertemplate": "PRIMARY_RULE=19.4<br>VIOLATION_YEAR=%{x}<br>VIOLATION_COUNT=%{y}<extra></extra>",
         "legendgroup": "19.4",
         "marker": {
          "color": "#00cc96",
          "pattern": {
           "shape": ""
          }
         },
         "name": "19.4",
         "orientation": "v",
         "showlegend": true,
         "textposition": "auto",
         "type": "bar",
         "x": {
          "bdata": "1gcAANkHAADbBwAA3AcAAN0HAADeBwAA3wcAAOAHAADhBwAA4gcAAOMHAADkBwAA5QcAAOYHAADnBwAA",
          "dtype": "i4"
         },
         "xaxis": "x",
         "y": {
          "bdata": "mgAWBUYFawW0BWkFAQYIB+YGAQfDBQ4FHgVVA4QB",
          "dtype": "i2"
         },
         "yaxis": "y"
        },
        {
         "hovertemplate": "PRIMARY_RULE=18.1<br>VIOLATION_YEAR=%{x}<br>VIOLATION_COUNT=%{y}<extra></extra>",
         "legendgroup": "18.1",
         "marker": {
          "color": "#ab63fa",
          "pattern": {
           "shape": ""
          }
         },
         "name": "18.1",
         "orientation": "v",
         "showlegend": true,
         "textposition": "auto",
         "type": "bar",
         "x": {
          "bdata": "1wcAANgHAADaBwAA",
          "dtype": "i4"
         },
         "xaxis": "x",
         "y": {
          "bdata": "KgLbAyoF",
          "dtype": "i2"
         },
         "yaxis": "y"
        }
       ],
       "layout": {
        "barmode": "relative",
        "legend": {
         "title": {
          "text": "PRIMARY_RULE"
         },
         "tracegroupgap": 0
        },
        "margin": {
         "t": 60
        },
        "template": {
         "data": {
          "bar": [
           {
            "error_x": {
             "color": "#2a3f5f"
            },
            "error_y": {
             "color": "#2a3f5f"
            },
            "marker": {
             "line": {
              "color": "#E5ECF6",
              "width": 0.5
             },
             "pattern": {
              "fillmode": "overlay",
              "size": 10,
              "solidity": 0.2
             }
            },
            "type": "bar"
           }
          ],
          "barpolar": [
           {
            "marker": {
             "line": {
              "color": "#E5ECF6",
              "width": 0.5
             },
             "pattern": {
              "fillmode": "overlay",
              "size": 10,
              "solidity": 0.2
             }
            },
            "type": "barpolar"
           }
          ],
          "carpet": [
           {
            "aaxis": {
             "endlinecolor": "#2a3f5f",
             "gridcolor": "white",
             "linecolor": "white",
             "minorgridcolor": "white",
             "startlinecolor": "#2a3f5f"
            },
            "baxis": {
             "endlinecolor": "#2a3f5f",
             "gridcolor": "white",
             "linecolor": "white",
             "minorgridcolor": "white",
             "startlinecolor": "#2a3f5f"
            },
            "type": "carpet"
           }
          ],
          "choropleth": [
           {
            "colorbar": {
             "outlinewidth": 0,
             "ticks": ""
            },
            "type": "choropleth"
           }
          ],
          "contour": [
           {
            "colorbar": {
             "outlinewidth": 0,
             "ticks": ""
            },
            "colorscale": [
             [
              0,
              "#0d0887"
             ],
             [
              0.1111111111111111,
              "#46039f"
             ],
             [
              0.2222222222222222,
              "#7201a8"
             ],
             [
              0.3333333333333333,
              "#9c179e"
             ],
             [
              0.4444444444444444,
              "#bd3786"
             ],
             [
              0.5555555555555556,
              "#d8576b"
             ],
             [
              0.6666666666666666,
              "#ed7953"
             ],
             [
              0.7777777777777778,
              "#fb9f3a"
             ],
             [
              0.8888888888888888,
              "#fdca26"
             ],
             [
              1,
              "#f0f921"
             ]
            ],
            "type": "contour"
           }
          ],
          "contourcarpet": [
           {
            "colorbar": {
             "outlinewidth": 0,
             "ticks": ""
            },
            "type": "contourcarpet"
           }
          ],
          "heatmap": [
           {
            "colorbar": {
             "outlinewidth": 0,
             "ticks": ""
            },
            "colorscale": [
             [
              0,
              "#0d0887"
             ],
             [
              0.1111111111111111,
              "#46039f"
             ],
             [
              0.2222222222222222,
              "#7201a8"
             ],
             [
              0.3333333333333333,
              "#9c179e"
             ],
             [
              0.4444444444444444,
              "#bd3786"
             ],
             [
              0.5555555555555556,
              "#d8576b"
             ],
             [
              0.6666666666666666,
              "#ed7953"
             ],
             [
              0.7777777777777778,
              "#fb9f3a"
             ],
             [
              0.8888888888888888,
              "#fdca26"
             ],
             [
              1,
              "#f0f921"
             ]
            ],
            "type": "heatmap"
           }
          ],
          "histogram": [
           {
            "marker": {
             "pattern": {
              "fillmode": "overlay",
              "size": 10,
              "solidity": 0.2
             }
            },
            "type": "histogram"
           }
          ],
          "histogram2d": [
           {
            "colorbar": {
             "outlinewidth": 0,
             "ticks": ""
            },
            "colorscale": [
             [
              0,
              "#0d0887"
             ],
             [
              0.1111111111111111,
              "#46039f"
             ],
             [
              0.2222222222222222,
              "#7201a8"
             ],
             [
              0.3333333333333333,
              "#9c179e"
             ],
             [
              0.4444444444444444,
              "#bd3786"
             ],
             [
              0.5555555555555556,
              "#d8576b"
             ],
             [
              0.6666666666666666,
              "#ed7953"
             ],
             [
              0.7777777777777778,
              "#fb9f3a"
             ],
             [
              0.8888888888888888,
              "#fdca26"
             ],
             [
              1,
              "#f0f921"
             ]
            ],
            "type": "histogram2d"
           }
          ],
          "histogram2dcontour": [
           {
            "colorbar": {
             "outlinewidth": 0,
             "ticks": ""
            },
            "colorscale": [
             [
              0,
              "#0d0887"
             ],
             [
              0.1111111111111111,
              "#46039f"
             ],
             [
              0.2222222222222222,
              "#7201a8"
             ],
             [
              0.3333333333333333,
              "#9c179e"
             ],
             [
              0.4444444444444444,
              "#bd3786"
             ],
             [
              0.5555555555555556,
              "#d8576b"
             ],
             [
              0.6666666666666666,
              "#ed7953"
             ],
             [
              0.7777777777777778,
              "#fb9f3a"
             ],
             [
              0.8888888888888888,
              "#fdca26"
             ],
             [
              1,
              "#f0f921"
             ]
            ],
            "type": "histogram2dcontour"
           }
          ],
          "mesh3d": [
           {
            "colorbar": {
             "outlinewidth": 0,
             "ticks": ""
            },
            "type": "mesh3d"
           }
          ],
          "parcoords": [
           {
            "line": {
             "colorbar": {
              "outlinewidth": 0,
              "ticks": ""
             }
            },
            "type": "parcoords"
           }
          ],
          "pie": [
           {
            "automargin": true,
            "type": "pie"
           }
          ],
          "scatter": [
           {
            "fillpattern": {
             "fillmode": "overlay",
             "size": 10,
             "solidity": 0.2
            },
            "type": "scatter"
           }
          ],
          "scatter3d": [
           {
            "line": {
             "colorbar": {
              "outlinewidth": 0,
              "ticks": ""
             }
            },
            "marker": {
             "colorbar": {
              "outlinewidth": 0,
              "ticks": ""
             }
            },
            "type": "scatter3d"
           }
          ],
          "scattercarpet": [
           {
            "marker": {
             "colorbar": {
              "outlinewidth": 0,
              "ticks": ""
             }
            },
            "type": "scattercarpet"
           }
          ],
          "scattergeo": [
           {
            "marker": {
             "colorbar": {
              "outlinewidth": 0,
              "ticks": ""
             }
            },
            "type": "scattergeo"
           }
          ],
          "scattergl": [
           {
            "marker": {
             "colorbar": {
              "outlinewidth": 0,
              "ticks": ""
             }
            },
            "type": "scattergl"
           }
          ],
          "scattermap": [
           {
            "marker": {
             "colorbar": {
              "outlinewidth": 0,
              "ticks": ""
             }
            },
            "type": "scattermap"
           }
          ],
          "scattermapbox": [
           {
            "marker": {
             "colorbar": {
              "outlinewidth": 0,
              "ticks": ""
             }
            },
            "type": "scattermapbox"
           }
          ],
          "scatterpolar": [
           {
            "marker": {
             "colorbar": {
              "outlinewidth": 0,
              "ticks": ""
             }
            },
            "type": "scatterpolar"
           }
          ],
          "scatterpolargl": [
           {
            "marker": {
             "colorbar": {
              "outlinewidth": 0,
              "ticks": ""
             }
            },
            "type": "scatterpolargl"
           }
          ],
          "scatterternary": [
           {
            "marker": {
             "colorbar": {
              "outlinewidth": 0,
              "ticks": ""
             }
            },
            "type": "scatterternary"
           }
          ],
          "surface": [
           {
            "colorbar": {
             "outlinewidth": 0,
             "ticks": ""
            },
            "colorscale": [
             [
              0,
              "#0d0887"
             ],
             [
              0.1111111111111111,
              "#46039f"
             ],
             [
              0.2222222222222222,
              "#7201a8"
             ],
             [
              0.3333333333333333,
              "#9c179e"
             ],
             [
              0.4444444444444444,
              "#bd3786"
             ],
             [
              0.5555555555555556,
              "#d8576b"
             ],
             [
              0.6666666666666666,
              "#ed7953"
             ],
             [
              0.7777777777777778,
              "#fb9f3a"
             ],
             [
              0.8888888888888888,
              "#fdca26"
             ],
             [
              1,
              "#f0f921"
             ]
            ],
            "type": "surface"
           }
          ],
          "table": [
           {
            "cells": {
             "fill": {
              "color": "#EBF0F8"
             },
             "line": {
              "color": "white"
             }
            },
            "header": {
             "fill": {
              "color": "#C8D4E3"
             },
             "line": {
              "color": "white"
             }
            },
            "type": "table"
           }
          ]
         },
         "layout": {
          "annotationdefaults": {
           "arrowcolor": "#2a3f5f",
           "arrowhead": 0,
           "arrowwidth": 1
          },
          "autotypenumbers": "strict",
          "coloraxis": {
           "colorbar": {
            "outlinewidth": 0,
            "ticks": ""
           }
          },
          "colorscale": {
           "diverging": [
            [
             0,
             "#8e0152"
            ],
            [
             0.1,
             "#c51b7d"
            ],
            [
             0.2,
             "#de77ae"
            ],
            [
             0.3,
             "#f1b6da"
            ],
            [
             0.4,
             "#fde0ef"
            ],
            [
             0.5,
             "#f7f7f7"
            ],
            [
             0.6,
             "#e6f5d0"
            ],
            [
             0.7,
             "#b8e186"
            ],
            [
             0.8,
             "#7fbc41"
            ],
            [
             0.9,
             "#4d9221"
            ],
            [
             1,
             "#276419"
            ]
           ],
           "sequential": [
            [
             0,
             "#0d0887"
            ],
            [
             0.1111111111111111,
             "#46039f"
            ],
            [
             0.2222222222222222,
             "#7201a8"
            ],
            [
             0.3333333333333333,
             "#9c179e"
            ],
            [
             0.4444444444444444,
             "#bd3786"
            ],
            [
             0.5555555555555556,
             "#d8576b"
            ],
            [
             0.6666666666666666,
             "#ed7953"
            ],
            [
             0.7777777777777778,
             "#fb9f3a"
            ],
            [
             0.8888888888888888,
             "#fdca26"
            ],
            [
             1,
             "#f0f921"
            ]
           ],
           "sequentialminus": [
            [
             0,
             "#0d0887"
            ],
            [
             0.1111111111111111,
             "#46039f"
            ],
            [
             0.2222222222222222,
             "#7201a8"
            ],
            [
             0.3333333333333333,
             "#9c179e"
            ],
            [
             0.4444444444444444,
             "#bd3786"
            ],
            [
             0.5555555555555556,
             "#d8576b"
            ],
            [
             0.6666666666666666,
             "#ed7953"
            ],
            [
             0.7777777777777778,
             "#fb9f3a"
            ],
            [
             0.8888888888888888,
             "#fdca26"
            ],
            [
             1,
             "#f0f921"
            ]
           ]
          },
          "colorway": [
           "#636efa",
           "#EF553B",
           "#00cc96",
           "#ab63fa",
           "#FFA15A",
           "#19d3f3",
           "#FF6692",
           "#B6E880",
           "#FF97FF",
           "#FECB52"
          ],
          "font": {
           "color": "#2a3f5f"
          },
          "geo": {
           "bgcolor": "white",
           "lakecolor": "white",
           "landcolor": "#E5ECF6",
           "showlakes": true,
           "showland": true,
           "subunitcolor": "white"
          },
          "hoverlabel": {
           "align": "left"
          },
          "hovermode": "closest",
          "mapbox": {
           "style": "light"
          },
          "paper_bgcolor": "white",
          "plot_bgcolor": "#E5ECF6",
          "polar": {
           "angularaxis": {
            "gridcolor": "white",
            "linecolor": "white",
            "ticks": ""
           },
           "bgcolor": "#E5ECF6",
           "radialaxis": {
            "gridcolor": "white",
            "linecolor": "white",
            "ticks": ""
           }
          },
          "scene": {
           "xaxis": {
            "backgroundcolor": "#E5ECF6",
            "gridcolor": "white",
            "gridwidth": 2,
            "linecolor": "white",
            "showbackground": true,
            "ticks": "",
            "zerolinecolor": "white"
           },
           "yaxis": {
            "backgroundcolor": "#E5ECF6",
            "gridcolor": "white",
            "gridwidth": 2,
            "linecolor": "white",
            "showbackground": true,
            "ticks": "",
            "zerolinecolor": "white"
           },
           "zaxis": {
            "backgroundcolor": "#E5ECF6",
            "gridcolor": "white",
            "gridwidth": 2,
            "linecolor": "white",
            "showbackground": true,
            "ticks": "",
            "zerolinecolor": "white"
           }
          },
          "shapedefaults": {
           "line": {
            "color": "#2a3f5f"
           }
          },
          "ternary": {
           "aaxis": {
            "gridcolor": "white",
            "linecolor": "white",
            "ticks": ""
           },
           "baxis": {
            "gridcolor": "white",
            "linecolor": "white",
            "ticks": ""
           },
           "bgcolor": "#E5ECF6",
           "caxis": {
            "gridcolor": "white",
            "linecolor": "white",
            "ticks": ""
           }
          },
          "title": {
           "x": 0.05
          },
          "xaxis": {
           "automargin": true,
           "gridcolor": "white",
           "linecolor": "white",
           "ticks": "",
           "title": {
            "standoff": 15
           },
           "zerolinecolor": "white",
           "zerolinewidth": 2
          },
          "yaxis": {
           "automargin": true,
           "gridcolor": "white",
           "linecolor": "white",
           "ticks": "",
           "title": {
            "standoff": 15
           },
           "zerolinecolor": "white",
           "zerolinewidth": 2
          }
         }
        },
        "xaxis": {
         "anchor": "y",
         "domain": [
          0,
          1
         ],
         "title": {
          "text": "VIOLATION_YEAR"
         }
        },
        "yaxis": {
         "anchor": "x",
         "domain": [
          0,
          1
         ],
         "title": {
          "text": "VIOLATION_COUNT"
         }
        }
       }
      }
     },
     "metadata": {},
     "output_type": "display_data"
    }
   ],
   "source": [
    "fig = px.bar(top3_rules_per_year, x='VIOLATION_YEAR', y='VIOLATION_COUNT', color='PRIMARY_RULE')\n",
    "fig.show()  "
   ]
  },
  {
   "cell_type": "markdown",
   "id": "6b18880d",
   "metadata": {},
   "source": [
    "## Question 3 : What are the most popular classes? And, are the successful completions rates comparable between them?"
   ]
  },
  {
   "cell_type": "code",
   "execution_count": 76,
   "id": "e145d5e7",
   "metadata": {},
   "outputs": [
    {
     "data": {
      "text/html": [
       "<div>\n",
       "<style scoped>\n",
       "    .dataframe tbody tr th:only-of-type {\n",
       "        vertical-align: middle;\n",
       "    }\n",
       "\n",
       "    .dataframe tbody tr th {\n",
       "        vertical-align: top;\n",
       "    }\n",
       "\n",
       "    .dataframe thead th {\n",
       "        text-align: right;\n",
       "    }\n",
       "</style>\n",
       "<table border=\"1\" class=\"dataframe\">\n",
       "  <thead>\n",
       "    <tr style=\"text-align: right;\">\n",
       "      <th></th>\n",
       "      <th>PERSON_ID</th>\n",
       "      <th>CYCLE</th>\n",
       "      <th>PROGRAM_TITLE</th>\n",
       "      <th>CLASS_TITLE</th>\n",
       "      <th>START_DATE</th>\n",
       "      <th>STOP_DATE</th>\n",
       "      <th>EXIT_TYPE_CD</th>\n",
       "    </tr>\n",
       "  </thead>\n",
       "  <tbody>\n",
       "    <tr>\n",
       "      <th>0</th>\n",
       "      <td>97737218.0</td>\n",
       "      <td>2.0</td>\n",
       "      <td>ANGER</td>\n",
       "      <td>ANGER MANAGEMENT</td>\n",
       "      <td>2012-03-15</td>\n",
       "      <td>2012-06-21</td>\n",
       "      <td>SFL</td>\n",
       "    </tr>\n",
       "    <tr>\n",
       "      <th>1</th>\n",
       "      <td>80832089.0</td>\n",
       "      <td>3.0</td>\n",
       "      <td>COGNITIVE</td>\n",
       "      <td>PATHWAY TO CHANGE</td>\n",
       "      <td>2016-08-02</td>\n",
       "      <td>2016-08-18</td>\n",
       "      <td>SFL</td>\n",
       "    </tr>\n",
       "    <tr>\n",
       "      <th>2</th>\n",
       "      <td>80832089.0</td>\n",
       "      <td>3.0</td>\n",
       "      <td>INSTITUTIONAL TREATMENT</td>\n",
       "      <td>SHORT TERM (559.115, 217.785, BOARD)</td>\n",
       "      <td>2016-06-02</td>\n",
       "      <td>2016-09-08</td>\n",
       "      <td>SFL</td>\n",
       "    </tr>\n",
       "    <tr>\n",
       "      <th>3</th>\n",
       "      <td>68129888.0</td>\n",
       "      <td>2.0</td>\n",
       "      <td>LIFE SKILLS</td>\n",
       "      <td>EMPLOYABILITY SKILLS/LIFE SKILLS</td>\n",
       "      <td>2008-12-18</td>\n",
       "      <td>2009-02-25</td>\n",
       "      <td>SFL</td>\n",
       "    </tr>\n",
       "    <tr>\n",
       "      <th>4</th>\n",
       "      <td>78516984.0</td>\n",
       "      <td>2.0</td>\n",
       "      <td>ANGER</td>\n",
       "      <td>ANGER MANAGEMENT</td>\n",
       "      <td>2014-03-12</td>\n",
       "      <td>2014-05-28</td>\n",
       "      <td>SFL</td>\n",
       "    </tr>\n",
       "  </tbody>\n",
       "</table>\n",
       "</div>"
      ],
      "text/plain": [
       "    PERSON_ID  CYCLE            PROGRAM_TITLE  \\\n",
       "0  97737218.0    2.0                    ANGER   \n",
       "1  80832089.0    3.0                COGNITIVE   \n",
       "2  80832089.0    3.0  INSTITUTIONAL TREATMENT   \n",
       "3  68129888.0    2.0              LIFE SKILLS   \n",
       "4  78516984.0    2.0                    ANGER   \n",
       "\n",
       "                            CLASS_TITLE  START_DATE   STOP_DATE EXIT_TYPE_CD  \n",
       "0                      ANGER MANAGEMENT  2012-03-15  2012-06-21          SFL  \n",
       "1                     PATHWAY TO CHANGE  2016-08-02  2016-08-18          SFL  \n",
       "2  SHORT TERM (559.115, 217.785, BOARD)  2016-06-02  2016-09-08          SFL  \n",
       "3      EMPLOYABILITY SKILLS/LIFE SKILLS  2008-12-18  2009-02-25          SFL  \n",
       "4                      ANGER MANAGEMENT  2014-03-12  2014-05-28          SFL  "
      ]
     },
     "execution_count": 76,
     "metadata": {},
     "output_type": "execute_result"
    }
   ],
   "source": [
    "\n",
    "cla.head()"
   ]
  },
  {
   "cell_type": "code",
   "execution_count": 77,
   "id": "a37f564a",
   "metadata": {},
   "outputs": [
    {
     "name": "stdout",
     "output_type": "stream",
     "text": [
      "<class 'pandas.core.frame.DataFrame'>\n",
      "RangeIndex: 193202 entries, 0 to 193201\n",
      "Data columns (total 7 columns):\n",
      " #   Column         Non-Null Count   Dtype  \n",
      "---  ------         --------------   -----  \n",
      " 0   PERSON_ID      193192 non-null  float64\n",
      " 1   CYCLE          193192 non-null  float64\n",
      " 2   PROGRAM_TITLE  193202 non-null  object \n",
      " 3   CLASS_TITLE    193202 non-null  object \n",
      " 4   START_DATE     193202 non-null  object \n",
      " 5   STOP_DATE      193202 non-null  object \n",
      " 6   EXIT_TYPE_CD   193202 non-null  object \n",
      "dtypes: float64(2), object(5)\n",
      "memory usage: 10.3+ MB\n"
     ]
    }
   ],
   "source": [
    "cla.info()"
   ]
  },
  {
   "cell_type": "code",
   "execution_count": 79,
   "id": "7882913e",
   "metadata": {},
   "outputs": [],
   "source": [
    "# Ensure START_DATE is in datetime format\n",
    "cla['START_DATE'] = pd.to_datetime(cla['START_DATE'], errors='coerce')  \n",
    "# Extract year from each date and create a new column called 'START_YEAR'.\n",
    "cla['START_YEAR'] = cla['START_DATE'].dt.year\n"
   ]
  },
  {
   "cell_type": "code",
   "execution_count": 81,
   "id": "fefbee82",
   "metadata": {},
   "outputs": [
    {
     "data": {
      "text/html": [
       "<div>\n",
       "<style scoped>\n",
       "    .dataframe tbody tr th:only-of-type {\n",
       "        vertical-align: middle;\n",
       "    }\n",
       "\n",
       "    .dataframe tbody tr th {\n",
       "        vertical-align: top;\n",
       "    }\n",
       "\n",
       "    .dataframe thead th {\n",
       "        text-align: right;\n",
       "    }\n",
       "</style>\n",
       "<table border=\"1\" class=\"dataframe\">\n",
       "  <thead>\n",
       "    <tr style=\"text-align: right;\">\n",
       "      <th></th>\n",
       "      <th>PERSON_ID</th>\n",
       "      <th>CYCLE</th>\n",
       "      <th>PROGRAM_TITLE</th>\n",
       "      <th>CLASS_TITLE</th>\n",
       "      <th>START_DATE</th>\n",
       "      <th>STOP_DATE</th>\n",
       "      <th>EXIT_TYPE_CD</th>\n",
       "      <th>START_YEAR</th>\n",
       "    </tr>\n",
       "  </thead>\n",
       "  <tbody>\n",
       "    <tr>\n",
       "      <th>0</th>\n",
       "      <td>97737218.0</td>\n",
       "      <td>2.0</td>\n",
       "      <td>ANGER</td>\n",
       "      <td>ANGER MANAGEMENT</td>\n",
       "      <td>2012-03-15</td>\n",
       "      <td>2012-06-21</td>\n",
       "      <td>SFL</td>\n",
       "      <td>2012</td>\n",
       "    </tr>\n",
       "    <tr>\n",
       "      <th>1</th>\n",
       "      <td>80832089.0</td>\n",
       "      <td>3.0</td>\n",
       "      <td>COGNITIVE</td>\n",
       "      <td>PATHWAY TO CHANGE</td>\n",
       "      <td>2016-08-02</td>\n",
       "      <td>2016-08-18</td>\n",
       "      <td>SFL</td>\n",
       "      <td>2016</td>\n",
       "    </tr>\n",
       "    <tr>\n",
       "      <th>2</th>\n",
       "      <td>80832089.0</td>\n",
       "      <td>3.0</td>\n",
       "      <td>INSTITUTIONAL TREATMENT</td>\n",
       "      <td>SHORT TERM (559.115, 217.785, BOARD)</td>\n",
       "      <td>2016-06-02</td>\n",
       "      <td>2016-09-08</td>\n",
       "      <td>SFL</td>\n",
       "      <td>2016</td>\n",
       "    </tr>\n",
       "    <tr>\n",
       "      <th>3</th>\n",
       "      <td>68129888.0</td>\n",
       "      <td>2.0</td>\n",
       "      <td>LIFE SKILLS</td>\n",
       "      <td>EMPLOYABILITY SKILLS/LIFE SKILLS</td>\n",
       "      <td>2008-12-18</td>\n",
       "      <td>2009-02-25</td>\n",
       "      <td>SFL</td>\n",
       "      <td>2008</td>\n",
       "    </tr>\n",
       "    <tr>\n",
       "      <th>4</th>\n",
       "      <td>78516984.0</td>\n",
       "      <td>2.0</td>\n",
       "      <td>ANGER</td>\n",
       "      <td>ANGER MANAGEMENT</td>\n",
       "      <td>2014-03-12</td>\n",
       "      <td>2014-05-28</td>\n",
       "      <td>SFL</td>\n",
       "      <td>2014</td>\n",
       "    </tr>\n",
       "  </tbody>\n",
       "</table>\n",
       "</div>"
      ],
      "text/plain": [
       "    PERSON_ID  CYCLE            PROGRAM_TITLE  \\\n",
       "0  97737218.0    2.0                    ANGER   \n",
       "1  80832089.0    3.0                COGNITIVE   \n",
       "2  80832089.0    3.0  INSTITUTIONAL TREATMENT   \n",
       "3  68129888.0    2.0              LIFE SKILLS   \n",
       "4  78516984.0    2.0                    ANGER   \n",
       "\n",
       "                            CLASS_TITLE START_DATE   STOP_DATE EXIT_TYPE_CD  \\\n",
       "0                      ANGER MANAGEMENT 2012-03-15  2012-06-21          SFL   \n",
       "1                     PATHWAY TO CHANGE 2016-08-02  2016-08-18          SFL   \n",
       "2  SHORT TERM (559.115, 217.785, BOARD) 2016-06-02  2016-09-08          SFL   \n",
       "3      EMPLOYABILITY SKILLS/LIFE SKILLS 2008-12-18  2009-02-25          SFL   \n",
       "4                      ANGER MANAGEMENT 2014-03-12  2014-05-28          SFL   \n",
       "\n",
       "   START_YEAR  \n",
       "0        2012  \n",
       "1        2016  \n",
       "2        2016  \n",
       "3        2008  \n",
       "4        2014  "
      ]
     },
     "execution_count": 81,
     "metadata": {},
     "output_type": "execute_result"
    }
   ],
   "source": [
    "cla.head()"
   ]
  },
  {
   "cell_type": "code",
   "execution_count": 86,
   "id": "c7af0b44",
   "metadata": {},
   "outputs": [
    {
     "data": {
      "text/html": [
       "<div>\n",
       "<style scoped>\n",
       "    .dataframe tbody tr th:only-of-type {\n",
       "        vertical-align: middle;\n",
       "    }\n",
       "\n",
       "    .dataframe tbody tr th {\n",
       "        vertical-align: top;\n",
       "    }\n",
       "\n",
       "    .dataframe thead th {\n",
       "        text-align: right;\n",
       "    }\n",
       "</style>\n",
       "<table border=\"1\" class=\"dataframe\">\n",
       "  <thead>\n",
       "    <tr style=\"text-align: right;\">\n",
       "      <th></th>\n",
       "      <th>CLASS_TITLE</th>\n",
       "      <th>START_YEAR</th>\n",
       "      <th>ENROLLMENT_COUNT</th>\n",
       "    </tr>\n",
       "  </thead>\n",
       "  <tbody>\n",
       "    <tr>\n",
       "      <th>0</th>\n",
       "      <td>10 WEEK PARTIAL DAY TREATMENT</td>\n",
       "      <td>2009</td>\n",
       "      <td>1</td>\n",
       "    </tr>\n",
       "    <tr>\n",
       "      <th>1</th>\n",
       "      <td>10 WEEK PARTIAL DAY TREATMENT</td>\n",
       "      <td>2010</td>\n",
       "      <td>20</td>\n",
       "    </tr>\n",
       "    <tr>\n",
       "      <th>2</th>\n",
       "      <td>10 WEEK PARTIAL DAY TREATMENT</td>\n",
       "      <td>2011</td>\n",
       "      <td>19</td>\n",
       "    </tr>\n",
       "    <tr>\n",
       "      <th>3</th>\n",
       "      <td>10 WEEK PARTIAL DAY TREATMENT</td>\n",
       "      <td>2012</td>\n",
       "      <td>18</td>\n",
       "    </tr>\n",
       "    <tr>\n",
       "      <th>4</th>\n",
       "      <td>10 WEEK PARTIAL DAY TREATMENT</td>\n",
       "      <td>2013</td>\n",
       "      <td>22</td>\n",
       "    </tr>\n",
       "    <tr>\n",
       "      <th>...</th>\n",
       "      <td>...</td>\n",
       "      <td>...</td>\n",
       "      <td>...</td>\n",
       "    </tr>\n",
       "    <tr>\n",
       "      <th>1280</th>\n",
       "      <td>WORKING A PROGRAM I</td>\n",
       "      <td>2018</td>\n",
       "      <td>6</td>\n",
       "    </tr>\n",
       "    <tr>\n",
       "      <th>1281</th>\n",
       "      <td>WORKING A PROGRAM II</td>\n",
       "      <td>2003</td>\n",
       "      <td>2</td>\n",
       "    </tr>\n",
       "    <tr>\n",
       "      <th>1282</th>\n",
       "      <td>WORKPLACE ESSENTIAL SKILLS</td>\n",
       "      <td>2007</td>\n",
       "      <td>1</td>\n",
       "    </tr>\n",
       "    <tr>\n",
       "      <th>1283</th>\n",
       "      <td>WORKPLACE ESSENTIAL SKILLS</td>\n",
       "      <td>2008</td>\n",
       "      <td>12</td>\n",
       "    </tr>\n",
       "    <tr>\n",
       "      <th>1284</th>\n",
       "      <td>WORKPLACE ESSENTIAL SKILLS</td>\n",
       "      <td>2009</td>\n",
       "      <td>10</td>\n",
       "    </tr>\n",
       "  </tbody>\n",
       "</table>\n",
       "<p>1285 rows × 3 columns</p>\n",
       "</div>"
      ],
      "text/plain": [
       "                        CLASS_TITLE  START_YEAR  ENROLLMENT_COUNT\n",
       "0     10 WEEK PARTIAL DAY TREATMENT        2009                 1\n",
       "1     10 WEEK PARTIAL DAY TREATMENT        2010                20\n",
       "2     10 WEEK PARTIAL DAY TREATMENT        2011                19\n",
       "3     10 WEEK PARTIAL DAY TREATMENT        2012                18\n",
       "4     10 WEEK PARTIAL DAY TREATMENT        2013                22\n",
       "...                             ...         ...               ...\n",
       "1280            WORKING A PROGRAM I        2018                 6\n",
       "1281           WORKING A PROGRAM II        2003                 2\n",
       "1282     WORKPLACE ESSENTIAL SKILLS        2007                 1\n",
       "1283     WORKPLACE ESSENTIAL SKILLS        2008                12\n",
       "1284     WORKPLACE ESSENTIAL SKILLS        2009                10\n",
       "\n",
       "[1285 rows x 3 columns]"
      ]
     },
     "execution_count": 86,
     "metadata": {},
     "output_type": "execute_result"
    }
   ],
   "source": [
    "\n",
    "# Count how many people enrolled in each class\n",
    "class_enrollment_count = cla.groupby(['CLASS_TITLE','START_YEAR']).size().reset_index(name='ENROLLMENT_COUNT')\n",
    "# Display the class enrollment counts.\n",
    "class_enrollment_count"
   ]
  },
  {
   "cell_type": "code",
   "execution_count": 87,
   "id": "2101fa61",
   "metadata": {},
   "outputs": [
    {
     "data": {
      "text/html": [
       "<div>\n",
       "<style scoped>\n",
       "    .dataframe tbody tr th:only-of-type {\n",
       "        vertical-align: middle;\n",
       "    }\n",
       "\n",
       "    .dataframe tbody tr th {\n",
       "        vertical-align: top;\n",
       "    }\n",
       "\n",
       "    .dataframe thead th {\n",
       "        text-align: right;\n",
       "    }\n",
       "</style>\n",
       "<table border=\"1\" class=\"dataframe\">\n",
       "  <thead>\n",
       "    <tr style=\"text-align: right;\">\n",
       "      <th></th>\n",
       "      <th>START_YEAR</th>\n",
       "      <th>CLASS_TITLE</th>\n",
       "      <th>ENROLLMENT_COUNT</th>\n",
       "    </tr>\n",
       "  </thead>\n",
       "  <tbody>\n",
       "    <tr>\n",
       "      <th>0</th>\n",
       "      <td>1993</td>\n",
       "      <td>SHORT TERM (559.115, 217.785, BOARD)</td>\n",
       "      <td>1</td>\n",
       "    </tr>\n",
       "    <tr>\n",
       "      <th>1</th>\n",
       "      <td>1995</td>\n",
       "      <td>SHORT TERM (559.115, 217.785, BOARD)</td>\n",
       "      <td>2</td>\n",
       "    </tr>\n",
       "    <tr>\n",
       "      <th>2</th>\n",
       "      <td>1996</td>\n",
       "      <td>LONG TERM THERAPEUTIC COMMUNITY</td>\n",
       "      <td>1</td>\n",
       "    </tr>\n",
       "    <tr>\n",
       "      <th>5</th>\n",
       "      <td>1997</td>\n",
       "      <td>LONG TERM THERAPEUTIC COMMUNITY</td>\n",
       "      <td>3</td>\n",
       "    </tr>\n",
       "    <tr>\n",
       "      <th>11</th>\n",
       "      <td>1998</td>\n",
       "      <td>SHORT TERM (559.115, 217.785, BOARD)</td>\n",
       "      <td>5</td>\n",
       "    </tr>\n",
       "    <tr>\n",
       "      <th>14</th>\n",
       "      <td>1999</td>\n",
       "      <td>LONG TERM THERAPEUTIC COMMUNITY</td>\n",
       "      <td>5</td>\n",
       "    </tr>\n",
       "    <tr>\n",
       "      <th>33</th>\n",
       "      <td>2000</td>\n",
       "      <td>SUBSTANCE ABUSE EDUCATION</td>\n",
       "      <td>18</td>\n",
       "    </tr>\n",
       "    <tr>\n",
       "      <th>58</th>\n",
       "      <td>2001</td>\n",
       "      <td>SUBSTANCE ABUSE EDUCATION</td>\n",
       "      <td>107</td>\n",
       "    </tr>\n",
       "    <tr>\n",
       "      <th>84</th>\n",
       "      <td>2002</td>\n",
       "      <td>SUBSTANCE ABUSE EDUCATION</td>\n",
       "      <td>115</td>\n",
       "    </tr>\n",
       "    <tr>\n",
       "      <th>113</th>\n",
       "      <td>2003</td>\n",
       "      <td>SUBSTANCE ABUSE EDUCATION</td>\n",
       "      <td>90</td>\n",
       "    </tr>\n",
       "    <tr>\n",
       "      <th>140</th>\n",
       "      <td>2004</td>\n",
       "      <td>SUBSTANCE ABUSE EDUCATION</td>\n",
       "      <td>58</td>\n",
       "    </tr>\n",
       "    <tr>\n",
       "      <th>169</th>\n",
       "      <td>2005</td>\n",
       "      <td>SUBSTANCE ABUSE EDUCATION</td>\n",
       "      <td>66</td>\n",
       "    </tr>\n",
       "    <tr>\n",
       "      <th>189</th>\n",
       "      <td>2006</td>\n",
       "      <td>IMPACT OF CRIME ON VICTIMS</td>\n",
       "      <td>198</td>\n",
       "    </tr>\n",
       "    <tr>\n",
       "      <th>225</th>\n",
       "      <td>2007</td>\n",
       "      <td>IMPACT OF CRIME ON VICTIMS</td>\n",
       "      <td>263</td>\n",
       "    </tr>\n",
       "    <tr>\n",
       "      <th>282</th>\n",
       "      <td>2008</td>\n",
       "      <td>PATHWAY TO CHANGE</td>\n",
       "      <td>1320</td>\n",
       "    </tr>\n",
       "    <tr>\n",
       "      <th>333</th>\n",
       "      <td>2009</td>\n",
       "      <td>PATHWAY TO CHANGE</td>\n",
       "      <td>3640</td>\n",
       "    </tr>\n",
       "    <tr>\n",
       "      <th>382</th>\n",
       "      <td>2010</td>\n",
       "      <td>PATHWAY TO CHANGE</td>\n",
       "      <td>4194</td>\n",
       "    </tr>\n",
       "    <tr>\n",
       "      <th>430</th>\n",
       "      <td>2011</td>\n",
       "      <td>PATHWAY TO CHANGE</td>\n",
       "      <td>4451</td>\n",
       "    </tr>\n",
       "    <tr>\n",
       "      <th>478</th>\n",
       "      <td>2012</td>\n",
       "      <td>PATHWAY TO CHANGE</td>\n",
       "      <td>3620</td>\n",
       "    </tr>\n",
       "    <tr>\n",
       "      <th>525</th>\n",
       "      <td>2013</td>\n",
       "      <td>PATHWAY TO CHANGE</td>\n",
       "      <td>3616</td>\n",
       "    </tr>\n",
       "    <tr>\n",
       "      <th>576</th>\n",
       "      <td>2014</td>\n",
       "      <td>PATHWAY TO CHANGE</td>\n",
       "      <td>3695</td>\n",
       "    </tr>\n",
       "    <tr>\n",
       "      <th>638</th>\n",
       "      <td>2015</td>\n",
       "      <td>PATHWAY TO CHANGE</td>\n",
       "      <td>3995</td>\n",
       "    </tr>\n",
       "    <tr>\n",
       "      <th>704</th>\n",
       "      <td>2016</td>\n",
       "      <td>PATHWAY TO CHANGE</td>\n",
       "      <td>4304</td>\n",
       "    </tr>\n",
       "    <tr>\n",
       "      <th>765</th>\n",
       "      <td>2017</td>\n",
       "      <td>PATHWAY TO CHANGE</td>\n",
       "      <td>3975</td>\n",
       "    </tr>\n",
       "    <tr>\n",
       "      <th>835</th>\n",
       "      <td>2018</td>\n",
       "      <td>PATHWAY TO CHANGE</td>\n",
       "      <td>3592</td>\n",
       "    </tr>\n",
       "    <tr>\n",
       "      <th>905</th>\n",
       "      <td>2019</td>\n",
       "      <td>HIGH SCHOOL EQUIVALENCY DORS EDUCATION STAFF</td>\n",
       "      <td>3984</td>\n",
       "    </tr>\n",
       "    <tr>\n",
       "      <th>984</th>\n",
       "      <td>2020</td>\n",
       "      <td>HIGH SCHOOL EQUIVALENCY DORS EDUCATION STAFF</td>\n",
       "      <td>1985</td>\n",
       "    </tr>\n",
       "    <tr>\n",
       "      <th>1065</th>\n",
       "      <td>2021</td>\n",
       "      <td>HIGH SCHOOL EQUIVALENCY DORS EDUCATION STAFF</td>\n",
       "      <td>1596</td>\n",
       "    </tr>\n",
       "    <tr>\n",
       "      <th>1195</th>\n",
       "      <td>2022</td>\n",
       "      <td>SHORT TERM (559.115, 217.785, BOARD)</td>\n",
       "      <td>1435</td>\n",
       "    </tr>\n",
       "    <tr>\n",
       "      <th>1273</th>\n",
       "      <td>2023</td>\n",
       "      <td>SHORT TERM (559.115, 217.785, BOARD)</td>\n",
       "      <td>555</td>\n",
       "    </tr>\n",
       "  </tbody>\n",
       "</table>\n",
       "</div>"
      ],
      "text/plain": [
       "      START_YEAR                                   CLASS_TITLE  \\\n",
       "0           1993          SHORT TERM (559.115, 217.785, BOARD)   \n",
       "1           1995          SHORT TERM (559.115, 217.785, BOARD)   \n",
       "2           1996               LONG TERM THERAPEUTIC COMMUNITY   \n",
       "5           1997               LONG TERM THERAPEUTIC COMMUNITY   \n",
       "11          1998          SHORT TERM (559.115, 217.785, BOARD)   \n",
       "14          1999               LONG TERM THERAPEUTIC COMMUNITY   \n",
       "33          2000                     SUBSTANCE ABUSE EDUCATION   \n",
       "58          2001                     SUBSTANCE ABUSE EDUCATION   \n",
       "84          2002                     SUBSTANCE ABUSE EDUCATION   \n",
       "113         2003                     SUBSTANCE ABUSE EDUCATION   \n",
       "140         2004                     SUBSTANCE ABUSE EDUCATION   \n",
       "169         2005                     SUBSTANCE ABUSE EDUCATION   \n",
       "189         2006                    IMPACT OF CRIME ON VICTIMS   \n",
       "225         2007                    IMPACT OF CRIME ON VICTIMS   \n",
       "282         2008                             PATHWAY TO CHANGE   \n",
       "333         2009                             PATHWAY TO CHANGE   \n",
       "382         2010                             PATHWAY TO CHANGE   \n",
       "430         2011                             PATHWAY TO CHANGE   \n",
       "478         2012                             PATHWAY TO CHANGE   \n",
       "525         2013                             PATHWAY TO CHANGE   \n",
       "576         2014                             PATHWAY TO CHANGE   \n",
       "638         2015                             PATHWAY TO CHANGE   \n",
       "704         2016                             PATHWAY TO CHANGE   \n",
       "765         2017                             PATHWAY TO CHANGE   \n",
       "835         2018                             PATHWAY TO CHANGE   \n",
       "905         2019  HIGH SCHOOL EQUIVALENCY DORS EDUCATION STAFF   \n",
       "984         2020  HIGH SCHOOL EQUIVALENCY DORS EDUCATION STAFF   \n",
       "1065        2021  HIGH SCHOOL EQUIVALENCY DORS EDUCATION STAFF   \n",
       "1195        2022          SHORT TERM (559.115, 217.785, BOARD)   \n",
       "1273        2023          SHORT TERM (559.115, 217.785, BOARD)   \n",
       "\n",
       "      ENROLLMENT_COUNT  \n",
       "0                    1  \n",
       "1                    2  \n",
       "2                    1  \n",
       "5                    3  \n",
       "11                   5  \n",
       "14                   5  \n",
       "33                  18  \n",
       "58                 107  \n",
       "84                 115  \n",
       "113                 90  \n",
       "140                 58  \n",
       "169                 66  \n",
       "189                198  \n",
       "225                263  \n",
       "282               1320  \n",
       "333               3640  \n",
       "382               4194  \n",
       "430               4451  \n",
       "478               3620  \n",
       "525               3616  \n",
       "576               3695  \n",
       "638               3995  \n",
       "704               4304  \n",
       "765               3975  \n",
       "835               3592  \n",
       "905               3984  \n",
       "984               1985  \n",
       "1065              1596  \n",
       "1195              1435  \n",
       "1273               555  "
      ]
     },
     "execution_count": 87,
     "metadata": {},
     "output_type": "execute_result"
    }
   ],
   "source": [
    "# Group by CLASS_TITLE and START_YEAR to get enrollment counts\n",
    "class_enrollment_count = (\n",
    "    cla.groupby(['START_YEAR', 'CLASS_TITLE'])\n",
    "    .size()\n",
    "    .reset_index(name='ENROLLMENT_COUNT')\n",
    ")\n",
    "\n",
    "# Sort by year and enrollment count descending\n",
    "sorted_enrollments = class_enrollment_count.sort_values(\n",
    "    ['START_YEAR', 'ENROLLMENT_COUNT'], ascending=[True, False]\n",
    ")\n",
    "\n",
    "# Pick the top class per year\n",
    "most_popular_class_per_year = sorted_enrollments.drop_duplicates(subset=['START_YEAR'])\n",
    "\n",
    "# Display the result\n",
    "most_popular_class_per_year\n"
   ]
  },
  {
   "cell_type": "code",
   "execution_count": 94,
   "id": "df691c5a",
   "metadata": {},
   "outputs": [
    {
     "data": {
      "application/vnd.plotly.v1+json": {
       "config": {
        "plotlyServerURL": "https://plot.ly"
       },
       "data": [
        {
         "hovertemplate": "CLASS_TITLE=SUBSTANCE ABUSE EDUCATION<br>START_YEAR=%{x}<br>ENROLLMENT_COUNT=%{y}<extra></extra>",
         "legendgroup": "SUBSTANCE ABUSE EDUCATION",
         "marker": {
          "color": "#636efa",
          "pattern": {
           "shape": ""
          }
         },
         "name": "SUBSTANCE ABUSE EDUCATION",
         "orientation": "v",
         "showlegend": true,
         "textposition": "auto",
         "type": "bar",
         "x": {
          "bdata": "0AcAANEHAADSBwAA0wcAANQHAADVBwAA",
          "dtype": "i4"
         },
         "xaxis": "x",
         "y": {
          "bdata": "EmtzWjpC",
          "dtype": "i1"
         },
         "yaxis": "y"
        },
        {
         "hovertemplate": "CLASS_TITLE=IMPACT OF CRIME ON VICTIMS<br>START_YEAR=%{x}<br>ENROLLMENT_COUNT=%{y}<extra></extra>",
         "legendgroup": "IMPACT OF CRIME ON VICTIMS",
         "marker": {
          "color": "#EF553B",
          "pattern": {
           "shape": ""
          }
         },
         "name": "IMPACT OF CRIME ON VICTIMS",
         "orientation": "v",
         "showlegend": true,
         "textposition": "auto",
         "type": "bar",
         "x": {
          "bdata": "1gcAANcHAAA=",
          "dtype": "i4"
         },
         "xaxis": "x",
         "y": {
          "bdata": "xgAHAQ==",
          "dtype": "i2"
         },
         "yaxis": "y"
        },
        {
         "hovertemplate": "CLASS_TITLE=PATHWAY TO CHANGE<br>START_YEAR=%{x}<br>ENROLLMENT_COUNT=%{y}<extra></extra>",
         "legendgroup": "PATHWAY TO CHANGE",
         "marker": {
          "color": "#00cc96",
          "pattern": {
           "shape": ""
          }
         },
         "name": "PATHWAY TO CHANGE",
         "orientation": "v",
         "showlegend": true,
         "textposition": "auto",
         "type": "bar",
         "x": {
          "bdata": "2AcAANkHAADaBwAA2wcAANwHAADdBwAA3gcAAN8HAADgBwAA4QcAAOIHAAA=",
          "dtype": "i4"
         },
         "xaxis": "x",
         "y": {
          "bdata": "KAU4DmIQYxEkDiAObw6bD9AQhw8IDg==",
          "dtype": "i2"
         },
         "yaxis": "y"
        },
        {
         "hovertemplate": "CLASS_TITLE=HIGH SCHOOL EQUIVALENCY DORS EDUCATION STAFF<br>START_YEAR=%{x}<br>ENROLLMENT_COUNT=%{y}<extra></extra>",
         "legendgroup": "HIGH SCHOOL EQUIVALENCY DORS EDUCATION STAFF",
         "marker": {
          "color": "#ab63fa",
          "pattern": {
           "shape": ""
          }
         },
         "name": "HIGH SCHOOL EQUIVALENCY DORS EDUCATION STAFF",
         "orientation": "v",
         "showlegend": true,
         "textposition": "auto",
         "type": "bar",
         "x": {
          "bdata": "4wcAAOQHAADlBwAA",
          "dtype": "i4"
         },
         "xaxis": "x",
         "y": {
          "bdata": "kA/BBzwG",
          "dtype": "i2"
         },
         "yaxis": "y"
        },
        {
         "hovertemplate": "CLASS_TITLE=SHORT TERM (559.115, 217.785, BOARD)<br>START_YEAR=%{x}<br>ENROLLMENT_COUNT=%{y}<extra></extra>",
         "legendgroup": "SHORT TERM (559.115, 217.785, BOARD)",
         "marker": {
          "color": "#FFA15A",
          "pattern": {
           "shape": ""
          }
         },
         "name": "SHORT TERM (559.115, 217.785, BOARD)",
         "orientation": "v",
         "showlegend": true,
         "textposition": "auto",
         "type": "bar",
         "x": {
          "bdata": "5gcAAOcHAAA=",
          "dtype": "i4"
         },
         "xaxis": "x",
         "y": {
          "bdata": "mwUrAg==",
          "dtype": "i2"
         },
         "yaxis": "y"
        }
       ],
       "layout": {
        "barmode": "relative",
        "legend": {
         "title": {
          "text": "CLASS_TITLE"
         },
         "tracegroupgap": 0
        },
        "margin": {
         "t": 60
        },
        "template": {
         "data": {
          "bar": [
           {
            "error_x": {
             "color": "#2a3f5f"
            },
            "error_y": {
             "color": "#2a3f5f"
            },
            "marker": {
             "line": {
              "color": "#E5ECF6",
              "width": 0.5
             },
             "pattern": {
              "fillmode": "overlay",
              "size": 10,
              "solidity": 0.2
             }
            },
            "type": "bar"
           }
          ],
          "barpolar": [
           {
            "marker": {
             "line": {
              "color": "#E5ECF6",
              "width": 0.5
             },
             "pattern": {
              "fillmode": "overlay",
              "size": 10,
              "solidity": 0.2
             }
            },
            "type": "barpolar"
           }
          ],
          "carpet": [
           {
            "aaxis": {
             "endlinecolor": "#2a3f5f",
             "gridcolor": "white",
             "linecolor": "white",
             "minorgridcolor": "white",
             "startlinecolor": "#2a3f5f"
            },
            "baxis": {
             "endlinecolor": "#2a3f5f",
             "gridcolor": "white",
             "linecolor": "white",
             "minorgridcolor": "white",
             "startlinecolor": "#2a3f5f"
            },
            "type": "carpet"
           }
          ],
          "choropleth": [
           {
            "colorbar": {
             "outlinewidth": 0,
             "ticks": ""
            },
            "type": "choropleth"
           }
          ],
          "contour": [
           {
            "colorbar": {
             "outlinewidth": 0,
             "ticks": ""
            },
            "colorscale": [
             [
              0,
              "#0d0887"
             ],
             [
              0.1111111111111111,
              "#46039f"
             ],
             [
              0.2222222222222222,
              "#7201a8"
             ],
             [
              0.3333333333333333,
              "#9c179e"
             ],
             [
              0.4444444444444444,
              "#bd3786"
             ],
             [
              0.5555555555555556,
              "#d8576b"
             ],
             [
              0.6666666666666666,
              "#ed7953"
             ],
             [
              0.7777777777777778,
              "#fb9f3a"
             ],
             [
              0.8888888888888888,
              "#fdca26"
             ],
             [
              1,
              "#f0f921"
             ]
            ],
            "type": "contour"
           }
          ],
          "contourcarpet": [
           {
            "colorbar": {
             "outlinewidth": 0,
             "ticks": ""
            },
            "type": "contourcarpet"
           }
          ],
          "heatmap": [
           {
            "colorbar": {
             "outlinewidth": 0,
             "ticks": ""
            },
            "colorscale": [
             [
              0,
              "#0d0887"
             ],
             [
              0.1111111111111111,
              "#46039f"
             ],
             [
              0.2222222222222222,
              "#7201a8"
             ],
             [
              0.3333333333333333,
              "#9c179e"
             ],
             [
              0.4444444444444444,
              "#bd3786"
             ],
             [
              0.5555555555555556,
              "#d8576b"
             ],
             [
              0.6666666666666666,
              "#ed7953"
             ],
             [
              0.7777777777777778,
              "#fb9f3a"
             ],
             [
              0.8888888888888888,
              "#fdca26"
             ],
             [
              1,
              "#f0f921"
             ]
            ],
            "type": "heatmap"
           }
          ],
          "histogram": [
           {
            "marker": {
             "pattern": {
              "fillmode": "overlay",
              "size": 10,
              "solidity": 0.2
             }
            },
            "type": "histogram"
           }
          ],
          "histogram2d": [
           {
            "colorbar": {
             "outlinewidth": 0,
             "ticks": ""
            },
            "colorscale": [
             [
              0,
              "#0d0887"
             ],
             [
              0.1111111111111111,
              "#46039f"
             ],
             [
              0.2222222222222222,
              "#7201a8"
             ],
             [
              0.3333333333333333,
              "#9c179e"
             ],
             [
              0.4444444444444444,
              "#bd3786"
             ],
             [
              0.5555555555555556,
              "#d8576b"
             ],
             [
              0.6666666666666666,
              "#ed7953"
             ],
             [
              0.7777777777777778,
              "#fb9f3a"
             ],
             [
              0.8888888888888888,
              "#fdca26"
             ],
             [
              1,
              "#f0f921"
             ]
            ],
            "type": "histogram2d"
           }
          ],
          "histogram2dcontour": [
           {
            "colorbar": {
             "outlinewidth": 0,
             "ticks": ""
            },
            "colorscale": [
             [
              0,
              "#0d0887"
             ],
             [
              0.1111111111111111,
              "#46039f"
             ],
             [
              0.2222222222222222,
              "#7201a8"
             ],
             [
              0.3333333333333333,
              "#9c179e"
             ],
             [
              0.4444444444444444,
              "#bd3786"
             ],
             [
              0.5555555555555556,
              "#d8576b"
             ],
             [
              0.6666666666666666,
              "#ed7953"
             ],
             [
              0.7777777777777778,
              "#fb9f3a"
             ],
             [
              0.8888888888888888,
              "#fdca26"
             ],
             [
              1,
              "#f0f921"
             ]
            ],
            "type": "histogram2dcontour"
           }
          ],
          "mesh3d": [
           {
            "colorbar": {
             "outlinewidth": 0,
             "ticks": ""
            },
            "type": "mesh3d"
           }
          ],
          "parcoords": [
           {
            "line": {
             "colorbar": {
              "outlinewidth": 0,
              "ticks": ""
             }
            },
            "type": "parcoords"
           }
          ],
          "pie": [
           {
            "automargin": true,
            "type": "pie"
           }
          ],
          "scatter": [
           {
            "fillpattern": {
             "fillmode": "overlay",
             "size": 10,
             "solidity": 0.2
            },
            "type": "scatter"
           }
          ],
          "scatter3d": [
           {
            "line": {
             "colorbar": {
              "outlinewidth": 0,
              "ticks": ""
             }
            },
            "marker": {
             "colorbar": {
              "outlinewidth": 0,
              "ticks": ""
             }
            },
            "type": "scatter3d"
           }
          ],
          "scattercarpet": [
           {
            "marker": {
             "colorbar": {
              "outlinewidth": 0,
              "ticks": ""
             }
            },
            "type": "scattercarpet"
           }
          ],
          "scattergeo": [
           {
            "marker": {
             "colorbar": {
              "outlinewidth": 0,
              "ticks": ""
             }
            },
            "type": "scattergeo"
           }
          ],
          "scattergl": [
           {
            "marker": {
             "colorbar": {
              "outlinewidth": 0,
              "ticks": ""
             }
            },
            "type": "scattergl"
           }
          ],
          "scattermap": [
           {
            "marker": {
             "colorbar": {
              "outlinewidth": 0,
              "ticks": ""
             }
            },
            "type": "scattermap"
           }
          ],
          "scattermapbox": [
           {
            "marker": {
             "colorbar": {
              "outlinewidth": 0,
              "ticks": ""
             }
            },
            "type": "scattermapbox"
           }
          ],
          "scatterpolar": [
           {
            "marker": {
             "colorbar": {
              "outlinewidth": 0,
              "ticks": ""
             }
            },
            "type": "scatterpolar"
           }
          ],
          "scatterpolargl": [
           {
            "marker": {
             "colorbar": {
              "outlinewidth": 0,
              "ticks": ""
             }
            },
            "type": "scatterpolargl"
           }
          ],
          "scatterternary": [
           {
            "marker": {
             "colorbar": {
              "outlinewidth": 0,
              "ticks": ""
             }
            },
            "type": "scatterternary"
           }
          ],
          "surface": [
           {
            "colorbar": {
             "outlinewidth": 0,
             "ticks": ""
            },
            "colorscale": [
             [
              0,
              "#0d0887"
             ],
             [
              0.1111111111111111,
              "#46039f"
             ],
             [
              0.2222222222222222,
              "#7201a8"
             ],
             [
              0.3333333333333333,
              "#9c179e"
             ],
             [
              0.4444444444444444,
              "#bd3786"
             ],
             [
              0.5555555555555556,
              "#d8576b"
             ],
             [
              0.6666666666666666,
              "#ed7953"
             ],
             [
              0.7777777777777778,
              "#fb9f3a"
             ],
             [
              0.8888888888888888,
              "#fdca26"
             ],
             [
              1,
              "#f0f921"
             ]
            ],
            "type": "surface"
           }
          ],
          "table": [
           {
            "cells": {
             "fill": {
              "color": "#EBF0F8"
             },
             "line": {
              "color": "white"
             }
            },
            "header": {
             "fill": {
              "color": "#C8D4E3"
             },
             "line": {
              "color": "white"
             }
            },
            "type": "table"
           }
          ]
         },
         "layout": {
          "annotationdefaults": {
           "arrowcolor": "#2a3f5f",
           "arrowhead": 0,
           "arrowwidth": 1
          },
          "autotypenumbers": "strict",
          "coloraxis": {
           "colorbar": {
            "outlinewidth": 0,
            "ticks": ""
           }
          },
          "colorscale": {
           "diverging": [
            [
             0,
             "#8e0152"
            ],
            [
             0.1,
             "#c51b7d"
            ],
            [
             0.2,
             "#de77ae"
            ],
            [
             0.3,
             "#f1b6da"
            ],
            [
             0.4,
             "#fde0ef"
            ],
            [
             0.5,
             "#f7f7f7"
            ],
            [
             0.6,
             "#e6f5d0"
            ],
            [
             0.7,
             "#b8e186"
            ],
            [
             0.8,
             "#7fbc41"
            ],
            [
             0.9,
             "#4d9221"
            ],
            [
             1,
             "#276419"
            ]
           ],
           "sequential": [
            [
             0,
             "#0d0887"
            ],
            [
             0.1111111111111111,
             "#46039f"
            ],
            [
             0.2222222222222222,
             "#7201a8"
            ],
            [
             0.3333333333333333,
             "#9c179e"
            ],
            [
             0.4444444444444444,
             "#bd3786"
            ],
            [
             0.5555555555555556,
             "#d8576b"
            ],
            [
             0.6666666666666666,
             "#ed7953"
            ],
            [
             0.7777777777777778,
             "#fb9f3a"
            ],
            [
             0.8888888888888888,
             "#fdca26"
            ],
            [
             1,
             "#f0f921"
            ]
           ],
           "sequentialminus": [
            [
             0,
             "#0d0887"
            ],
            [
             0.1111111111111111,
             "#46039f"
            ],
            [
             0.2222222222222222,
             "#7201a8"
            ],
            [
             0.3333333333333333,
             "#9c179e"
            ],
            [
             0.4444444444444444,
             "#bd3786"
            ],
            [
             0.5555555555555556,
             "#d8576b"
            ],
            [
             0.6666666666666666,
             "#ed7953"
            ],
            [
             0.7777777777777778,
             "#fb9f3a"
            ],
            [
             0.8888888888888888,
             "#fdca26"
            ],
            [
             1,
             "#f0f921"
            ]
           ]
          },
          "colorway": [
           "#636efa",
           "#EF553B",
           "#00cc96",
           "#ab63fa",
           "#FFA15A",
           "#19d3f3",
           "#FF6692",
           "#B6E880",
           "#FF97FF",
           "#FECB52"
          ],
          "font": {
           "color": "#2a3f5f"
          },
          "geo": {
           "bgcolor": "white",
           "lakecolor": "white",
           "landcolor": "#E5ECF6",
           "showlakes": true,
           "showland": true,
           "subunitcolor": "white"
          },
          "hoverlabel": {
           "align": "left"
          },
          "hovermode": "closest",
          "mapbox": {
           "style": "light"
          },
          "paper_bgcolor": "white",
          "plot_bgcolor": "#E5ECF6",
          "polar": {
           "angularaxis": {
            "gridcolor": "white",
            "linecolor": "white",
            "ticks": ""
           },
           "bgcolor": "#E5ECF6",
           "radialaxis": {
            "gridcolor": "white",
            "linecolor": "white",
            "ticks": ""
           }
          },
          "scene": {
           "xaxis": {
            "backgroundcolor": "#E5ECF6",
            "gridcolor": "white",
            "gridwidth": 2,
            "linecolor": "white",
            "showbackground": true,
            "ticks": "",
            "zerolinecolor": "white"
           },
           "yaxis": {
            "backgroundcolor": "#E5ECF6",
            "gridcolor": "white",
            "gridwidth": 2,
            "linecolor": "white",
            "showbackground": true,
            "ticks": "",
            "zerolinecolor": "white"
           },
           "zaxis": {
            "backgroundcolor": "#E5ECF6",
            "gridcolor": "white",
            "gridwidth": 2,
            "linecolor": "white",
            "showbackground": true,
            "ticks": "",
            "zerolinecolor": "white"
           }
          },
          "shapedefaults": {
           "line": {
            "color": "#2a3f5f"
           }
          },
          "ternary": {
           "aaxis": {
            "gridcolor": "white",
            "linecolor": "white",
            "ticks": ""
           },
           "baxis": {
            "gridcolor": "white",
            "linecolor": "white",
            "ticks": ""
           },
           "bgcolor": "#E5ECF6",
           "caxis": {
            "gridcolor": "white",
            "linecolor": "white",
            "ticks": ""
           }
          },
          "title": {
           "x": 0.05
          },
          "xaxis": {
           "automargin": true,
           "gridcolor": "white",
           "linecolor": "white",
           "ticks": "",
           "title": {
            "standoff": 15
           },
           "zerolinecolor": "white",
           "zerolinewidth": 2
          },
          "yaxis": {
           "automargin": true,
           "gridcolor": "white",
           "linecolor": "white",
           "ticks": "",
           "title": {
            "standoff": 15
           },
           "zerolinecolor": "white",
           "zerolinewidth": 2
          }
         }
        },
        "xaxis": {
         "anchor": "y",
         "domain": [
          0,
          1
         ],
         "title": {
          "text": "START_YEAR"
         }
        },
        "yaxis": {
         "anchor": "x",
         "domain": [
          0,
          1
         ],
         "title": {
          "text": "ENROLLMENT_COUNT"
         }
        }
       }
      }
     },
     "metadata": {},
     "output_type": "display_data"
    }
   ],
   "source": [
    "most_popular_class_per_year = most_popular_class_per_year[most_popular_class_per_year['START_YEAR'] >= 2000]\n",
    "fig = px.bar(most_popular_class_per_year, x='START_YEAR', y='ENROLLMENT_COUNT', color='CLASS_TITLE')\n",
    "fig.show()  "
   ]
  },
  {
   "cell_type": "code",
   "execution_count": 91,
   "id": "1b564801",
   "metadata": {},
   "outputs": [
    {
     "data": {
      "text/html": [
       "<div>\n",
       "<style scoped>\n",
       "    .dataframe tbody tr th:only-of-type {\n",
       "        vertical-align: middle;\n",
       "    }\n",
       "\n",
       "    .dataframe tbody tr th {\n",
       "        vertical-align: top;\n",
       "    }\n",
       "\n",
       "    .dataframe thead th {\n",
       "        text-align: right;\n",
       "    }\n",
       "</style>\n",
       "<table border=\"1\" class=\"dataframe\">\n",
       "  <thead>\n",
       "    <tr style=\"text-align: right;\">\n",
       "      <th></th>\n",
       "      <th>START_YEAR</th>\n",
       "      <th>CLASS_TITLE</th>\n",
       "      <th>TOTAL_ENROLLMENTS</th>\n",
       "      <th>SFL_COMPLETIONS</th>\n",
       "      <th>SFL_RATE (%)</th>\n",
       "    </tr>\n",
       "  </thead>\n",
       "  <tbody>\n",
       "    <tr>\n",
       "      <th>0</th>\n",
       "      <td>1993</td>\n",
       "      <td>SHORT TERM (559.115, 217.785, BOARD)</td>\n",
       "      <td>1</td>\n",
       "      <td>0</td>\n",
       "      <td>0.0</td>\n",
       "    </tr>\n",
       "    <tr>\n",
       "      <th>1</th>\n",
       "      <td>1995</td>\n",
       "      <td>SHORT TERM (559.115, 217.785, BOARD)</td>\n",
       "      <td>2</td>\n",
       "      <td>0</td>\n",
       "      <td>0.0</td>\n",
       "    </tr>\n",
       "    <tr>\n",
       "      <th>2</th>\n",
       "      <td>1996</td>\n",
       "      <td>LONG TERM THERAPEUTIC COMMUNITY</td>\n",
       "      <td>1</td>\n",
       "      <td>0</td>\n",
       "      <td>0.0</td>\n",
       "    </tr>\n",
       "    <tr>\n",
       "      <th>3</th>\n",
       "      <td>1997</td>\n",
       "      <td>LONG TERM THERAPEUTIC COMMUNITY</td>\n",
       "      <td>3</td>\n",
       "      <td>3</td>\n",
       "      <td>100.0</td>\n",
       "    </tr>\n",
       "    <tr>\n",
       "      <th>4</th>\n",
       "      <td>1998</td>\n",
       "      <td>SHORT TERM (559.115, 217.785, BOARD)</td>\n",
       "      <td>5</td>\n",
       "      <td>0</td>\n",
       "      <td>0.0</td>\n",
       "    </tr>\n",
       "  </tbody>\n",
       "</table>\n",
       "</div>"
      ],
      "text/plain": [
       "   START_YEAR                           CLASS_TITLE  TOTAL_ENROLLMENTS  \\\n",
       "0        1993  SHORT TERM (559.115, 217.785, BOARD)                  1   \n",
       "1        1995  SHORT TERM (559.115, 217.785, BOARD)                  2   \n",
       "2        1996       LONG TERM THERAPEUTIC COMMUNITY                  1   \n",
       "3        1997       LONG TERM THERAPEUTIC COMMUNITY                  3   \n",
       "4        1998  SHORT TERM (559.115, 217.785, BOARD)                  5   \n",
       "\n",
       "   SFL_COMPLETIONS  SFL_RATE (%)  \n",
       "0                0           0.0  \n",
       "1                0           0.0  \n",
       "2                0           0.0  \n",
       "3                3         100.0  \n",
       "4                0           0.0  "
      ]
     },
     "execution_count": 91,
     "metadata": {},
     "output_type": "execute_result"
    }
   ],
   "source": [
    "#  Get most popular class per year\n",
    "class_enrollment_count = (\n",
    "    cla.groupby(['START_YEAR', 'CLASS_TITLE'])\n",
    "    .size()\n",
    "    .reset_index(name='ENROLLMENT_COUNT')\n",
    ")\n",
    "\n",
    "# Sort and get top class per year\n",
    "most_popular_class_per_year = (\n",
    "    class_enrollment_count\n",
    "    .sort_values(['START_YEAR', 'ENROLLMENT_COUNT'], ascending=[True, False])\n",
    "    .drop_duplicates(subset=['START_YEAR'])\n",
    ")\n",
    "\n",
    "#  Merge with original cla to get EXIT_TYPE_CD\n",
    "# This filters only the rows that match the popular class per year\n",
    "cla[\"START_YEAR\"] = pd.to_datetime(cla[\"START_DATE\"], errors='coerce').dt.year  # Ensure correct year format\n",
    "merged = pd.merge(cla, most_popular_class_per_year, on=[\"START_YEAR\", \"CLASS_TITLE\"], how=\"inner\")\n",
    "\n",
    "#  Calculate SFL rate\n",
    "sfl_stats = (\n",
    "    merged.groupby([\"START_YEAR\", \"CLASS_TITLE\"])\n",
    "    .agg(\n",
    "        TOTAL_ENROLLMENTS=('PERSON_ID', 'count'),\n",
    "        SFL_COMPLETIONS=('EXIT_TYPE_CD', lambda x: (x == 'SFL').sum())\n",
    "    )\n",
    "    .reset_index()\n",
    ")\n",
    "\n",
    "# Add SFL rate column\n",
    "sfl_stats[\"SFL_RATE (%)\"] = (sfl_stats[\"SFL_COMPLETIONS\"] / sfl_stats[\"TOTAL_ENROLLMENTS\"] * 100).round(2)\n",
    "\n",
    "# Show results\n",
    "sfl_stats.head()\n"
   ]
  },
  {
   "cell_type": "code",
   "execution_count": 93,
   "id": "bd5163ff",
   "metadata": {},
   "outputs": [
    {
     "data": {
      "application/vnd.plotly.v1+json": {
       "config": {
        "plotlyServerURL": "https://plot.ly"
       },
       "data": [
        {
         "hovertemplate": "CLASS_TITLE=SUBSTANCE ABUSE EDUCATION<br>Year=%{x}<br>SFL Completion Rate (%)=%{y}<extra></extra>",
         "legendgroup": "SUBSTANCE ABUSE EDUCATION",
         "line": {
          "color": "#636efa",
          "dash": "solid"
         },
         "marker": {
          "symbol": "circle"
         },
         "mode": "lines+markers",
         "name": "SUBSTANCE ABUSE EDUCATION",
         "orientation": "v",
         "showlegend": true,
         "type": "scatter",
         "x": {
          "bdata": "0AcAANEHAADSBwAA0wcAANQHAADVBwAA",
          "dtype": "i4"
         },
         "xaxis": "x",
         "y": {
          "bdata": "CtejcD2qQEApXI/C9SgqQKRwPQrXIyNAXI/C9SgcNUApXI/C9Wg2QD0K16NwPUhA",
          "dtype": "f8"
         },
         "yaxis": "y"
        },
        {
         "hovertemplate": "CLASS_TITLE=IMPACT OF CRIME ON VICTIMS<br>Year=%{x}<br>SFL Completion Rate (%)=%{y}<extra></extra>",
         "legendgroup": "IMPACT OF CRIME ON VICTIMS",
         "line": {
          "color": "#EF553B",
          "dash": "solid"
         },
         "marker": {
          "symbol": "circle"
         },
         "mode": "lines+markers",
         "name": "IMPACT OF CRIME ON VICTIMS",
         "orientation": "v",
         "showlegend": true,
         "type": "scatter",
         "x": {
          "bdata": "1gcAANcHAAA=",
          "dtype": "i4"
         },
         "xaxis": "x",
         "y": {
          "bdata": "XI/C9SgsUUAK16NwPQpOQA==",
          "dtype": "f8"
         },
         "yaxis": "y"
        },
        {
         "hovertemplate": "CLASS_TITLE=PATHWAY TO CHANGE<br>Year=%{x}<br>SFL Completion Rate (%)=%{y}<extra></extra>",
         "legendgroup": "PATHWAY TO CHANGE",
         "line": {
          "color": "#00cc96",
          "dash": "solid"
         },
         "marker": {
          "symbol": "circle"
         },
         "mode": "lines+markers",
         "name": "PATHWAY TO CHANGE",
         "orientation": "v",
         "showlegend": true,
         "type": "scatter",
         "x": {
          "bdata": "2AcAANkHAADaBwAA2wcAANwHAADdBwAA3gcAAN8HAADgBwAA4QcAAOIHAAA=",
          "dtype": "i4"
         },
         "xaxis": "x",
         "y": {
          "bdata": "UrgeheuRTkAzMzMzMzNQQLgehetR2FFA7FG4HoXLUUCkcD0K13NRQNejcD0K91JAexSuR+H6VEAfhetRuJ5VQHE9CtejsFVAAAAAAADwVUCF61G4HrVVQA==",
          "dtype": "f8"
         },
         "yaxis": "y"
        },
        {
         "hovertemplate": "CLASS_TITLE=HIGH SCHOOL EQUIVALENCY DORS EDUCATION STAFF<br>Year=%{x}<br>SFL Completion Rate (%)=%{y}<extra></extra>",
         "legendgroup": "HIGH SCHOOL EQUIVALENCY DORS EDUCATION STAFF",
         "line": {
          "color": "#ab63fa",
          "dash": "solid"
         },
         "marker": {
          "symbol": "circle"
         },
         "mode": "lines+markers",
         "name": "HIGH SCHOOL EQUIVALENCY DORS EDUCATION STAFF",
         "orientation": "v",
         "showlegend": true,
         "type": "scatter",
         "x": {
          "bdata": "4wcAAOQHAADlBwAA",
          "dtype": "i4"
         },
         "xaxis": "x",
         "y": {
          "bdata": "ZmZmZmZmGUBxPQrXo3AhQK5H4XoULiRA",
          "dtype": "f8"
         },
         "yaxis": "y"
        },
        {
         "hovertemplate": "CLASS_TITLE=SHORT TERM (559.115, 217.785, BOARD)<br>Year=%{x}<br>SFL Completion Rate (%)=%{y}<extra></extra>",
         "legendgroup": "SHORT TERM (559.115, 217.785, BOARD)",
         "line": {
          "color": "#FFA15A",
          "dash": "solid"
         },
         "marker": {
          "symbol": "circle"
         },
         "mode": "lines+markers",
         "name": "SHORT TERM (559.115, 217.785, BOARD)",
         "orientation": "v",
         "showlegend": true,
         "type": "scatter",
         "x": {
          "bdata": "5gcAAOcHAAA=",
          "dtype": "i4"
         },
         "xaxis": "x",
         "y": {
          "bdata": "w/UoXI/SVkB7FK5H4cpWQA==",
          "dtype": "f8"
         },
         "yaxis": "y"
        }
       ],
       "layout": {
        "hovermode": "x unified",
        "legend": {
         "title": {
          "text": "Class Title"
         },
         "tracegroupgap": 0
        },
        "template": {
         "data": {
          "bar": [
           {
            "error_x": {
             "color": "#2a3f5f"
            },
            "error_y": {
             "color": "#2a3f5f"
            },
            "marker": {
             "line": {
              "color": "#E5ECF6",
              "width": 0.5
             },
             "pattern": {
              "fillmode": "overlay",
              "size": 10,
              "solidity": 0.2
             }
            },
            "type": "bar"
           }
          ],
          "barpolar": [
           {
            "marker": {
             "line": {
              "color": "#E5ECF6",
              "width": 0.5
             },
             "pattern": {
              "fillmode": "overlay",
              "size": 10,
              "solidity": 0.2
             }
            },
            "type": "barpolar"
           }
          ],
          "carpet": [
           {
            "aaxis": {
             "endlinecolor": "#2a3f5f",
             "gridcolor": "white",
             "linecolor": "white",
             "minorgridcolor": "white",
             "startlinecolor": "#2a3f5f"
            },
            "baxis": {
             "endlinecolor": "#2a3f5f",
             "gridcolor": "white",
             "linecolor": "white",
             "minorgridcolor": "white",
             "startlinecolor": "#2a3f5f"
            },
            "type": "carpet"
           }
          ],
          "choropleth": [
           {
            "colorbar": {
             "outlinewidth": 0,
             "ticks": ""
            },
            "type": "choropleth"
           }
          ],
          "contour": [
           {
            "colorbar": {
             "outlinewidth": 0,
             "ticks": ""
            },
            "colorscale": [
             [
              0,
              "#0d0887"
             ],
             [
              0.1111111111111111,
              "#46039f"
             ],
             [
              0.2222222222222222,
              "#7201a8"
             ],
             [
              0.3333333333333333,
              "#9c179e"
             ],
             [
              0.4444444444444444,
              "#bd3786"
             ],
             [
              0.5555555555555556,
              "#d8576b"
             ],
             [
              0.6666666666666666,
              "#ed7953"
             ],
             [
              0.7777777777777778,
              "#fb9f3a"
             ],
             [
              0.8888888888888888,
              "#fdca26"
             ],
             [
              1,
              "#f0f921"
             ]
            ],
            "type": "contour"
           }
          ],
          "contourcarpet": [
           {
            "colorbar": {
             "outlinewidth": 0,
             "ticks": ""
            },
            "type": "contourcarpet"
           }
          ],
          "heatmap": [
           {
            "colorbar": {
             "outlinewidth": 0,
             "ticks": ""
            },
            "colorscale": [
             [
              0,
              "#0d0887"
             ],
             [
              0.1111111111111111,
              "#46039f"
             ],
             [
              0.2222222222222222,
              "#7201a8"
             ],
             [
              0.3333333333333333,
              "#9c179e"
             ],
             [
              0.4444444444444444,
              "#bd3786"
             ],
             [
              0.5555555555555556,
              "#d8576b"
             ],
             [
              0.6666666666666666,
              "#ed7953"
             ],
             [
              0.7777777777777778,
              "#fb9f3a"
             ],
             [
              0.8888888888888888,
              "#fdca26"
             ],
             [
              1,
              "#f0f921"
             ]
            ],
            "type": "heatmap"
           }
          ],
          "histogram": [
           {
            "marker": {
             "pattern": {
              "fillmode": "overlay",
              "size": 10,
              "solidity": 0.2
             }
            },
            "type": "histogram"
           }
          ],
          "histogram2d": [
           {
            "colorbar": {
             "outlinewidth": 0,
             "ticks": ""
            },
            "colorscale": [
             [
              0,
              "#0d0887"
             ],
             [
              0.1111111111111111,
              "#46039f"
             ],
             [
              0.2222222222222222,
              "#7201a8"
             ],
             [
              0.3333333333333333,
              "#9c179e"
             ],
             [
              0.4444444444444444,
              "#bd3786"
             ],
             [
              0.5555555555555556,
              "#d8576b"
             ],
             [
              0.6666666666666666,
              "#ed7953"
             ],
             [
              0.7777777777777778,
              "#fb9f3a"
             ],
             [
              0.8888888888888888,
              "#fdca26"
             ],
             [
              1,
              "#f0f921"
             ]
            ],
            "type": "histogram2d"
           }
          ],
          "histogram2dcontour": [
           {
            "colorbar": {
             "outlinewidth": 0,
             "ticks": ""
            },
            "colorscale": [
             [
              0,
              "#0d0887"
             ],
             [
              0.1111111111111111,
              "#46039f"
             ],
             [
              0.2222222222222222,
              "#7201a8"
             ],
             [
              0.3333333333333333,
              "#9c179e"
             ],
             [
              0.4444444444444444,
              "#bd3786"
             ],
             [
              0.5555555555555556,
              "#d8576b"
             ],
             [
              0.6666666666666666,
              "#ed7953"
             ],
             [
              0.7777777777777778,
              "#fb9f3a"
             ],
             [
              0.8888888888888888,
              "#fdca26"
             ],
             [
              1,
              "#f0f921"
             ]
            ],
            "type": "histogram2dcontour"
           }
          ],
          "mesh3d": [
           {
            "colorbar": {
             "outlinewidth": 0,
             "ticks": ""
            },
            "type": "mesh3d"
           }
          ],
          "parcoords": [
           {
            "line": {
             "colorbar": {
              "outlinewidth": 0,
              "ticks": ""
             }
            },
            "type": "parcoords"
           }
          ],
          "pie": [
           {
            "automargin": true,
            "type": "pie"
           }
          ],
          "scatter": [
           {
            "fillpattern": {
             "fillmode": "overlay",
             "size": 10,
             "solidity": 0.2
            },
            "type": "scatter"
           }
          ],
          "scatter3d": [
           {
            "line": {
             "colorbar": {
              "outlinewidth": 0,
              "ticks": ""
             }
            },
            "marker": {
             "colorbar": {
              "outlinewidth": 0,
              "ticks": ""
             }
            },
            "type": "scatter3d"
           }
          ],
          "scattercarpet": [
           {
            "marker": {
             "colorbar": {
              "outlinewidth": 0,
              "ticks": ""
             }
            },
            "type": "scattercarpet"
           }
          ],
          "scattergeo": [
           {
            "marker": {
             "colorbar": {
              "outlinewidth": 0,
              "ticks": ""
             }
            },
            "type": "scattergeo"
           }
          ],
          "scattergl": [
           {
            "marker": {
             "colorbar": {
              "outlinewidth": 0,
              "ticks": ""
             }
            },
            "type": "scattergl"
           }
          ],
          "scattermap": [
           {
            "marker": {
             "colorbar": {
              "outlinewidth": 0,
              "ticks": ""
             }
            },
            "type": "scattermap"
           }
          ],
          "scattermapbox": [
           {
            "marker": {
             "colorbar": {
              "outlinewidth": 0,
              "ticks": ""
             }
            },
            "type": "scattermapbox"
           }
          ],
          "scatterpolar": [
           {
            "marker": {
             "colorbar": {
              "outlinewidth": 0,
              "ticks": ""
             }
            },
            "type": "scatterpolar"
           }
          ],
          "scatterpolargl": [
           {
            "marker": {
             "colorbar": {
              "outlinewidth": 0,
              "ticks": ""
             }
            },
            "type": "scatterpolargl"
           }
          ],
          "scatterternary": [
           {
            "marker": {
             "colorbar": {
              "outlinewidth": 0,
              "ticks": ""
             }
            },
            "type": "scatterternary"
           }
          ],
          "surface": [
           {
            "colorbar": {
             "outlinewidth": 0,
             "ticks": ""
            },
            "colorscale": [
             [
              0,
              "#0d0887"
             ],
             [
              0.1111111111111111,
              "#46039f"
             ],
             [
              0.2222222222222222,
              "#7201a8"
             ],
             [
              0.3333333333333333,
              "#9c179e"
             ],
             [
              0.4444444444444444,
              "#bd3786"
             ],
             [
              0.5555555555555556,
              "#d8576b"
             ],
             [
              0.6666666666666666,
              "#ed7953"
             ],
             [
              0.7777777777777778,
              "#fb9f3a"
             ],
             [
              0.8888888888888888,
              "#fdca26"
             ],
             [
              1,
              "#f0f921"
             ]
            ],
            "type": "surface"
           }
          ],
          "table": [
           {
            "cells": {
             "fill": {
              "color": "#EBF0F8"
             },
             "line": {
              "color": "white"
             }
            },
            "header": {
             "fill": {
              "color": "#C8D4E3"
             },
             "line": {
              "color": "white"
             }
            },
            "type": "table"
           }
          ]
         },
         "layout": {
          "annotationdefaults": {
           "arrowcolor": "#2a3f5f",
           "arrowhead": 0,
           "arrowwidth": 1
          },
          "autotypenumbers": "strict",
          "coloraxis": {
           "colorbar": {
            "outlinewidth": 0,
            "ticks": ""
           }
          },
          "colorscale": {
           "diverging": [
            [
             0,
             "#8e0152"
            ],
            [
             0.1,
             "#c51b7d"
            ],
            [
             0.2,
             "#de77ae"
            ],
            [
             0.3,
             "#f1b6da"
            ],
            [
             0.4,
             "#fde0ef"
            ],
            [
             0.5,
             "#f7f7f7"
            ],
            [
             0.6,
             "#e6f5d0"
            ],
            [
             0.7,
             "#b8e186"
            ],
            [
             0.8,
             "#7fbc41"
            ],
            [
             0.9,
             "#4d9221"
            ],
            [
             1,
             "#276419"
            ]
           ],
           "sequential": [
            [
             0,
             "#0d0887"
            ],
            [
             0.1111111111111111,
             "#46039f"
            ],
            [
             0.2222222222222222,
             "#7201a8"
            ],
            [
             0.3333333333333333,
             "#9c179e"
            ],
            [
             0.4444444444444444,
             "#bd3786"
            ],
            [
             0.5555555555555556,
             "#d8576b"
            ],
            [
             0.6666666666666666,
             "#ed7953"
            ],
            [
             0.7777777777777778,
             "#fb9f3a"
            ],
            [
             0.8888888888888888,
             "#fdca26"
            ],
            [
             1,
             "#f0f921"
            ]
           ],
           "sequentialminus": [
            [
             0,
             "#0d0887"
            ],
            [
             0.1111111111111111,
             "#46039f"
            ],
            [
             0.2222222222222222,
             "#7201a8"
            ],
            [
             0.3333333333333333,
             "#9c179e"
            ],
            [
             0.4444444444444444,
             "#bd3786"
            ],
            [
             0.5555555555555556,
             "#d8576b"
            ],
            [
             0.6666666666666666,
             "#ed7953"
            ],
            [
             0.7777777777777778,
             "#fb9f3a"
            ],
            [
             0.8888888888888888,
             "#fdca26"
            ],
            [
             1,
             "#f0f921"
            ]
           ]
          },
          "colorway": [
           "#636efa",
           "#EF553B",
           "#00cc96",
           "#ab63fa",
           "#FFA15A",
           "#19d3f3",
           "#FF6692",
           "#B6E880",
           "#FF97FF",
           "#FECB52"
          ],
          "font": {
           "color": "#2a3f5f"
          },
          "geo": {
           "bgcolor": "white",
           "lakecolor": "white",
           "landcolor": "#E5ECF6",
           "showlakes": true,
           "showland": true,
           "subunitcolor": "white"
          },
          "hoverlabel": {
           "align": "left"
          },
          "hovermode": "closest",
          "mapbox": {
           "style": "light"
          },
          "paper_bgcolor": "white",
          "plot_bgcolor": "#E5ECF6",
          "polar": {
           "angularaxis": {
            "gridcolor": "white",
            "linecolor": "white",
            "ticks": ""
           },
           "bgcolor": "#E5ECF6",
           "radialaxis": {
            "gridcolor": "white",
            "linecolor": "white",
            "ticks": ""
           }
          },
          "scene": {
           "xaxis": {
            "backgroundcolor": "#E5ECF6",
            "gridcolor": "white",
            "gridwidth": 2,
            "linecolor": "white",
            "showbackground": true,
            "ticks": "",
            "zerolinecolor": "white"
           },
           "yaxis": {
            "backgroundcolor": "#E5ECF6",
            "gridcolor": "white",
            "gridwidth": 2,
            "linecolor": "white",
            "showbackground": true,
            "ticks": "",
            "zerolinecolor": "white"
           },
           "zaxis": {
            "backgroundcolor": "#E5ECF6",
            "gridcolor": "white",
            "gridwidth": 2,
            "linecolor": "white",
            "showbackground": true,
            "ticks": "",
            "zerolinecolor": "white"
           }
          },
          "shapedefaults": {
           "line": {
            "color": "#2a3f5f"
           }
          },
          "ternary": {
           "aaxis": {
            "gridcolor": "white",
            "linecolor": "white",
            "ticks": ""
           },
           "baxis": {
            "gridcolor": "white",
            "linecolor": "white",
            "ticks": ""
           },
           "bgcolor": "#E5ECF6",
           "caxis": {
            "gridcolor": "white",
            "linecolor": "white",
            "ticks": ""
           }
          },
          "title": {
           "x": 0.05
          },
          "xaxis": {
           "automargin": true,
           "gridcolor": "white",
           "linecolor": "white",
           "ticks": "",
           "title": {
            "standoff": 15
           },
           "zerolinecolor": "white",
           "zerolinewidth": 2
          },
          "yaxis": {
           "automargin": true,
           "gridcolor": "white",
           "linecolor": "white",
           "ticks": "",
           "title": {
            "standoff": 15
           },
           "zerolinecolor": "white",
           "zerolinewidth": 2
          }
         }
        },
        "title": {
         "text": " Successful Completion Rate for Most Popular Class Each Year"
        },
        "xaxis": {
         "anchor": "y",
         "domain": [
          0,
          1
         ],
         "dtick": 1,
         "title": {
          "text": "Year"
         }
        },
        "yaxis": {
         "anchor": "x",
         "domain": [
          0,
          1
         ],
         "range": [
          0,
          100
         ],
         "title": {
          "text": "SFL Completion Rate (%)"
         }
        }
       }
      }
     },
     "metadata": {},
     "output_type": "display_data"
    }
   ],
   "source": [
    "sfl_stats = sfl_stats[sfl_stats['START_YEAR']>=2000]\n",
    "# Create line chart\n",
    "fig = px.line(\n",
    "    sfl_stats,\n",
    "    x=\"START_YEAR\",\n",
    "    y=\"SFL_RATE (%)\",\n",
    "    color=\"CLASS_TITLE\",\n",
    "    markers=True,\n",
    "    title=\" Successful Completion Rate for Most Popular Class Each Year\",\n",
    "    labels={\"START_YEAR\": \"Year\", \"SFL_RATE (%)\": \"SFL Completion Rate (%)\"},\n",
    ")\n",
    "\n",
    "fig.update_layout(\n",
    "    xaxis=dict(dtick=1),\n",
    "    yaxis=dict(range=[0, 100]),\n",
    "    hovermode=\"x unified\",\n",
    "    legend_title=\"Class Title\"\n",
    ")\n",
    "\n",
    "fig.show()\n"
   ]
  },
  {
   "cell_type": "markdown",
   "id": "2320c430",
   "metadata": {},
   "source": [
    "## Question 4: Are there correlates between institutional work assignments and other variables, like conduct violations?"
   ]
  },
  {
   "cell_type": "code",
   "execution_count": 98,
   "id": "27b2fade",
   "metadata": {},
   "outputs": [
    {
     "data": {
      "text/html": [
       "<div>\n",
       "<style scoped>\n",
       "    .dataframe tbody tr th:only-of-type {\n",
       "        vertical-align: middle;\n",
       "    }\n",
       "\n",
       "    .dataframe tbody tr th {\n",
       "        vertical-align: top;\n",
       "    }\n",
       "\n",
       "    .dataframe thead th {\n",
       "        text-align: right;\n",
       "    }\n",
       "</style>\n",
       "<table border=\"1\" class=\"dataframe\">\n",
       "  <thead>\n",
       "    <tr style=\"text-align: right;\">\n",
       "      <th></th>\n",
       "      <th>PERSON_ID</th>\n",
       "      <th>CYCLE</th>\n",
       "      <th>START_DATE</th>\n",
       "      <th>STOP_DATE</th>\n",
       "      <th>JOB_DESCRIPTION</th>\n",
       "    </tr>\n",
       "  </thead>\n",
       "  <tbody>\n",
       "    <tr>\n",
       "      <th>0</th>\n",
       "      <td>97737218.0</td>\n",
       "      <td>2.0</td>\n",
       "      <td>2011-07-01</td>\n",
       "      <td>2012-07-19</td>\n",
       "      <td>Landscaping</td>\n",
       "    </tr>\n",
       "    <tr>\n",
       "      <th>1</th>\n",
       "      <td>97737218.0</td>\n",
       "      <td>2.0</td>\n",
       "      <td>2012-07-19</td>\n",
       "      <td>2012-11-02</td>\n",
       "      <td>Building Maintenance</td>\n",
       "    </tr>\n",
       "    <tr>\n",
       "      <th>2</th>\n",
       "      <td>88054449.0</td>\n",
       "      <td>2.0</td>\n",
       "      <td>2013-07-31</td>\n",
       "      <td>2013-10-15</td>\n",
       "      <td>Laundering/Dry Cleaning</td>\n",
       "    </tr>\n",
       "    <tr>\n",
       "      <th>3</th>\n",
       "      <td>88054449.0</td>\n",
       "      <td>2.0</td>\n",
       "      <td>2013-10-16</td>\n",
       "      <td>2014-01-21</td>\n",
       "      <td>Janitorial Services</td>\n",
       "    </tr>\n",
       "    <tr>\n",
       "      <th>4</th>\n",
       "      <td>68129888.0</td>\n",
       "      <td>2.0</td>\n",
       "      <td>2007-12-06</td>\n",
       "      <td>2008-03-25</td>\n",
       "      <td>Non-Food Handler</td>\n",
       "    </tr>\n",
       "  </tbody>\n",
       "</table>\n",
       "</div>"
      ],
      "text/plain": [
       "    PERSON_ID  CYCLE  START_DATE   STOP_DATE                 JOB_DESCRIPTION\n",
       "0  97737218.0    2.0  2011-07-01  2012-07-19  Landscaping                   \n",
       "1  97737218.0    2.0  2012-07-19  2012-11-02  Building Maintenance          \n",
       "2  88054449.0    2.0  2013-07-31  2013-10-15  Laundering/Dry Cleaning       \n",
       "3  88054449.0    2.0  2013-10-16  2014-01-21  Janitorial Services           \n",
       "4  68129888.0    2.0  2007-12-06  2008-03-25  Non-Food Handler              "
      ]
     },
     "execution_count": 98,
     "metadata": {},
     "output_type": "execute_result"
    }
   ],
   "source": [
    "\n",
    "# display entire institutional work data\n",
    "institutional.head()"
   ]
  },
  {
   "cell_type": "code",
   "execution_count": 99,
   "id": "8531a23d",
   "metadata": {},
   "outputs": [
    {
     "name": "stdout",
     "output_type": "stream",
     "text": [
      "<class 'pandas.core.frame.DataFrame'>\n",
      "RangeIndex: 358597 entries, 0 to 358596\n",
      "Data columns (total 5 columns):\n",
      " #   Column           Non-Null Count   Dtype  \n",
      "---  ------           --------------   -----  \n",
      " 0   PERSON_ID        358584 non-null  float64\n",
      " 1   CYCLE            358584 non-null  float64\n",
      " 2   START_DATE       358597 non-null  object \n",
      " 3   STOP_DATE        358597 non-null  object \n",
      " 4   JOB_DESCRIPTION  358597 non-null  object \n",
      "dtypes: float64(2), object(3)\n",
      "memory usage: 13.7+ MB\n"
     ]
    }
   ],
   "source": [
    "institutional.info()\n"
   ]
  },
  {
   "cell_type": "code",
   "execution_count": 108,
   "id": "ae66638a",
   "metadata": {},
   "outputs": [
    {
     "name": "stdout",
     "output_type": "stream",
     "text": [
      "<class 'pandas.core.frame.DataFrame'>\n",
      "Index: 222645 entries, 0 to 222645\n",
      "Data columns (total 7 columns):\n",
      " #   Column          Non-Null Count   Dtype         \n",
      "---  ------          --------------   -----         \n",
      " 0   PERSON_ID       222604 non-null  float64       \n",
      " 1   CYCLE           222604 non-null  float64       \n",
      " 2   SEQUENCE_NO     222645 non-null  int64         \n",
      " 3   VIOLATION_DATE  222645 non-null  datetime64[ns]\n",
      " 4   PRIMARY_RULE    222645 non-null  float64       \n",
      " 5   SECONDARY_RULE  222645 non-null  float64       \n",
      " 6   VIOLATION_YEAR  222645 non-null  int32         \n",
      "dtypes: datetime64[ns](1), float64(4), int32(1), int64(1)\n",
      "memory usage: 12.7 MB\n"
     ]
    }
   ],
   "source": [
    "violation.info()"
   ]
  },
  {
   "cell_type": "code",
   "execution_count": 103,
   "id": "41c8609f",
   "metadata": {},
   "outputs": [],
   "source": [
    "# Create a flag for those who participated in institutional work\n",
    "institutional_flag = institutional.copy()\n",
    "institutional_flag[\"WORKED\"] = True"
   ]
  },
  {
   "cell_type": "code",
   "execution_count": 109,
   "id": "630fd7cf",
   "metadata": {},
   "outputs": [
    {
     "data": {
      "text/html": [
       "<div>\n",
       "<style scoped>\n",
       "    .dataframe tbody tr th:only-of-type {\n",
       "        vertical-align: middle;\n",
       "    }\n",
       "\n",
       "    .dataframe tbody tr th {\n",
       "        vertical-align: top;\n",
       "    }\n",
       "\n",
       "    .dataframe thead th {\n",
       "        text-align: right;\n",
       "    }\n",
       "</style>\n",
       "<table border=\"1\" class=\"dataframe\">\n",
       "  <thead>\n",
       "    <tr style=\"text-align: right;\">\n",
       "      <th></th>\n",
       "      <th>PERSON_ID</th>\n",
       "      <th>CYCLE</th>\n",
       "      <th>START_DATE</th>\n",
       "      <th>STOP_DATE</th>\n",
       "      <th>JOB_DESCRIPTION</th>\n",
       "      <th>WORKED</th>\n",
       "      <th>VIOLATION_COUNT</th>\n",
       "    </tr>\n",
       "  </thead>\n",
       "  <tbody>\n",
       "    <tr>\n",
       "      <th>0</th>\n",
       "      <td>97737218.0</td>\n",
       "      <td>2.0</td>\n",
       "      <td>2011-07-01</td>\n",
       "      <td>2012-07-19</td>\n",
       "      <td>Landscaping</td>\n",
       "      <td>True</td>\n",
       "      <td>NaN</td>\n",
       "    </tr>\n",
       "    <tr>\n",
       "      <th>1</th>\n",
       "      <td>97737218.0</td>\n",
       "      <td>2.0</td>\n",
       "      <td>2012-07-19</td>\n",
       "      <td>2012-11-02</td>\n",
       "      <td>Building Maintenance</td>\n",
       "      <td>True</td>\n",
       "      <td>NaN</td>\n",
       "    </tr>\n",
       "    <tr>\n",
       "      <th>2</th>\n",
       "      <td>88054449.0</td>\n",
       "      <td>2.0</td>\n",
       "      <td>2013-07-31</td>\n",
       "      <td>2013-10-15</td>\n",
       "      <td>Laundering/Dry Cleaning</td>\n",
       "      <td>True</td>\n",
       "      <td>NaN</td>\n",
       "    </tr>\n",
       "    <tr>\n",
       "      <th>3</th>\n",
       "      <td>88054449.0</td>\n",
       "      <td>2.0</td>\n",
       "      <td>2013-10-16</td>\n",
       "      <td>2014-01-21</td>\n",
       "      <td>Janitorial Services</td>\n",
       "      <td>True</td>\n",
       "      <td>NaN</td>\n",
       "    </tr>\n",
       "    <tr>\n",
       "      <th>4</th>\n",
       "      <td>68129888.0</td>\n",
       "      <td>2.0</td>\n",
       "      <td>2007-12-06</td>\n",
       "      <td>2008-03-25</td>\n",
       "      <td>Non-Food Handler</td>\n",
       "      <td>True</td>\n",
       "      <td>NaN</td>\n",
       "    </tr>\n",
       "  </tbody>\n",
       "</table>\n",
       "</div>"
      ],
      "text/plain": [
       "    PERSON_ID  CYCLE  START_DATE   STOP_DATE                 JOB_DESCRIPTION  \\\n",
       "0  97737218.0    2.0  2011-07-01  2012-07-19  Landscaping                      \n",
       "1  97737218.0    2.0  2012-07-19  2012-11-02  Building Maintenance             \n",
       "2  88054449.0    2.0  2013-07-31  2013-10-15  Laundering/Dry Cleaning          \n",
       "3  88054449.0    2.0  2013-10-16  2014-01-21  Janitorial Services              \n",
       "4  68129888.0    2.0  2007-12-06  2008-03-25  Non-Food Handler                 \n",
       "\n",
       "   WORKED  VIOLATION_COUNT  \n",
       "0    True              NaN  \n",
       "1    True              NaN  \n",
       "2    True              NaN  \n",
       "3    True              NaN  \n",
       "4    True              NaN  "
      ]
     },
     "execution_count": 109,
     "metadata": {},
     "output_type": "execute_result"
    }
   ],
   "source": [
    "# Count number of violations per person\n",
    "violations_count = violation.groupby(['PERSON_ID','CYCLE']).size().reset_index(name='VIOLATION_COUNT')\n",
    "# Merge the institutional work data with the violations count   \n",
    "institutional_with_violations = pd.merge(institutional_flag, violations_count, on=('PERSON_ID','CYCLE'), how='left')\n",
    "# Display the first few rows of the merged data.\n",
    "institutional_with_violations.head()"
   ]
  },
  {
   "cell_type": "code",
   "execution_count": 112,
   "id": "9bfce8d1",
   "metadata": {},
   "outputs": [
    {
     "data": {
      "text/html": [
       "<div>\n",
       "<style scoped>\n",
       "    .dataframe tbody tr th:only-of-type {\n",
       "        vertical-align: middle;\n",
       "    }\n",
       "\n",
       "    .dataframe tbody tr th {\n",
       "        vertical-align: top;\n",
       "    }\n",
       "\n",
       "    .dataframe thead th {\n",
       "        text-align: right;\n",
       "    }\n",
       "</style>\n",
       "<table border=\"1\" class=\"dataframe\">\n",
       "  <thead>\n",
       "    <tr style=\"text-align: right;\">\n",
       "      <th></th>\n",
       "      <th>PERSON_ID</th>\n",
       "      <th>CYCLE</th>\n",
       "      <th>START_DATE</th>\n",
       "      <th>STOP_DATE</th>\n",
       "      <th>JOB_DESCRIPTION</th>\n",
       "      <th>WORKED</th>\n",
       "      <th>VIOLATION_COUNT</th>\n",
       "    </tr>\n",
       "  </thead>\n",
       "  <tbody>\n",
       "    <tr>\n",
       "      <th>10</th>\n",
       "      <td>78516984.0</td>\n",
       "      <td>2.0</td>\n",
       "      <td>2011-10-04</td>\n",
       "      <td>2011-10-18</td>\n",
       "      <td>Janitorial Services</td>\n",
       "      <td>True</td>\n",
       "      <td>1.0</td>\n",
       "    </tr>\n",
       "    <tr>\n",
       "      <th>11</th>\n",
       "      <td>78516984.0</td>\n",
       "      <td>2.0</td>\n",
       "      <td>2011-10-18</td>\n",
       "      <td>2011-10-28</td>\n",
       "      <td>Janitorial Services</td>\n",
       "      <td>True</td>\n",
       "      <td>1.0</td>\n",
       "    </tr>\n",
       "    <tr>\n",
       "      <th>12</th>\n",
       "      <td>78516984.0</td>\n",
       "      <td>2.0</td>\n",
       "      <td>2011-10-28</td>\n",
       "      <td>2012-09-27</td>\n",
       "      <td>Instructor/Tutor</td>\n",
       "      <td>True</td>\n",
       "      <td>1.0</td>\n",
       "    </tr>\n",
       "    <tr>\n",
       "      <th>13</th>\n",
       "      <td>78516984.0</td>\n",
       "      <td>2.0</td>\n",
       "      <td>2012-10-03</td>\n",
       "      <td>2013-01-11</td>\n",
       "      <td>Instructor/Tutor</td>\n",
       "      <td>True</td>\n",
       "      <td>1.0</td>\n",
       "    </tr>\n",
       "    <tr>\n",
       "      <th>14</th>\n",
       "      <td>78516984.0</td>\n",
       "      <td>2.0</td>\n",
       "      <td>2013-12-18</td>\n",
       "      <td>2014-05-27</td>\n",
       "      <td>Instructor/Tutor</td>\n",
       "      <td>True</td>\n",
       "      <td>1.0</td>\n",
       "    </tr>\n",
       "  </tbody>\n",
       "</table>\n",
       "</div>"
      ],
      "text/plain": [
       "     PERSON_ID  CYCLE  START_DATE   STOP_DATE                 JOB_DESCRIPTION  \\\n",
       "10  78516984.0    2.0  2011-10-04  2011-10-18  Janitorial Services              \n",
       "11  78516984.0    2.0  2011-10-18  2011-10-28  Janitorial Services              \n",
       "12  78516984.0    2.0  2011-10-28  2012-09-27  Instructor/Tutor                 \n",
       "13  78516984.0    2.0  2012-10-03  2013-01-11  Instructor/Tutor                 \n",
       "14  78516984.0    2.0  2013-12-18  2014-05-27  Instructor/Tutor                 \n",
       "\n",
       "    WORKED  VIOLATION_COUNT  \n",
       "10    True              1.0  \n",
       "11    True              1.0  \n",
       "12    True              1.0  \n",
       "13    True              1.0  \n",
       "14    True              1.0  "
      ]
     },
     "execution_count": 112,
     "metadata": {},
     "output_type": "execute_result"
    }
   ],
   "source": [
    "#filter rows where VIOLATION_COUNT  not NaN\n",
    "institutional_with_violations = institutional_with_violations[institutional_with_violations['VIOLATION_COUNT']>0]\n",
    "institutional_with_violations.head()"
   ]
  },
  {
   "cell_type": "code",
   "execution_count": null,
   "id": "3429c413",
   "metadata": {},
   "outputs": [],
   "source": []
  },
  {
   "cell_type": "code",
   "execution_count": null,
   "id": "c383d69b",
   "metadata": {},
   "outputs": [],
   "source": [
    "violations = violations.drop_duplicates(subset=\"PERSON_ID\")\n",
    "institutional = institutional.drop_duplicates(subset=\"PERSON_ID\")"
   ]
  },
  {
   "cell_type": "code",
   "execution_count": null,
   "id": "9e5d77cf",
   "metadata": {},
   "outputs": [
    {
     "data": {
      "text/html": [
       "<div>\n",
       "<style scoped>\n",
       "    .dataframe tbody tr th:only-of-type {\n",
       "        vertical-align: middle;\n",
       "    }\n",
       "\n",
       "    .dataframe tbody tr th {\n",
       "        vertical-align: top;\n",
       "    }\n",
       "\n",
       "    .dataframe thead th {\n",
       "        text-align: right;\n",
       "    }\n",
       "</style>\n",
       "<table border=\"1\" class=\"dataframe\">\n",
       "  <thead>\n",
       "    <tr style=\"text-align: right;\">\n",
       "      <th></th>\n",
       "      <th>PERSON_ID</th>\n",
       "      <th>CYCLE</th>\n",
       "      <th>START_DATE</th>\n",
       "      <th>STOP_DATE</th>\n",
       "      <th>JOB_DESCRIPTION</th>\n",
       "      <th>WORKED</th>\n",
       "      <th>VIOLATION_COUNT</th>\n",
       "    </tr>\n",
       "  </thead>\n",
       "  <tbody>\n",
       "    <tr>\n",
       "      <th>0</th>\n",
       "      <td>97737218.0</td>\n",
       "      <td>2.0</td>\n",
       "      <td>2011-07-01</td>\n",
       "      <td>2012-07-19</td>\n",
       "      <td>Landscaping</td>\n",
       "      <td>True</td>\n",
       "      <td>NaN</td>\n",
       "    </tr>\n",
       "    <tr>\n",
       "      <th>1</th>\n",
       "      <td>97737218.0</td>\n",
       "      <td>2.0</td>\n",
       "      <td>2012-07-19</td>\n",
       "      <td>2012-11-02</td>\n",
       "      <td>Building Maintenance</td>\n",
       "      <td>True</td>\n",
       "      <td>NaN</td>\n",
       "    </tr>\n",
       "    <tr>\n",
       "      <th>2</th>\n",
       "      <td>88054449.0</td>\n",
       "      <td>2.0</td>\n",
       "      <td>2013-07-31</td>\n",
       "      <td>2013-10-15</td>\n",
       "      <td>Laundering/Dry Cleaning</td>\n",
       "      <td>True</td>\n",
       "      <td>NaN</td>\n",
       "    </tr>\n",
       "    <tr>\n",
       "      <th>3</th>\n",
       "      <td>88054449.0</td>\n",
       "      <td>2.0</td>\n",
       "      <td>2013-10-16</td>\n",
       "      <td>2014-01-21</td>\n",
       "      <td>Janitorial Services</td>\n",
       "      <td>True</td>\n",
       "      <td>NaN</td>\n",
       "    </tr>\n",
       "    <tr>\n",
       "      <th>4</th>\n",
       "      <td>68129888.0</td>\n",
       "      <td>2.0</td>\n",
       "      <td>2007-12-06</td>\n",
       "      <td>2008-03-25</td>\n",
       "      <td>Non-Food Handler</td>\n",
       "      <td>True</td>\n",
       "      <td>NaN</td>\n",
       "    </tr>\n",
       "  </tbody>\n",
       "</table>\n",
       "</div>"
      ],
      "text/plain": [
       "    PERSON_ID  CYCLE  START_DATE   STOP_DATE                 JOB_DESCRIPTION  \\\n",
       "0  97737218.0    2.0  2011-07-01  2012-07-19  Landscaping                      \n",
       "1  97737218.0    2.0  2012-07-19  2012-11-02  Building Maintenance             \n",
       "2  88054449.0    2.0  2013-07-31  2013-10-15  Laundering/Dry Cleaning          \n",
       "3  88054449.0    2.0  2013-10-16  2014-01-21  Janitorial Services              \n",
       "4  68129888.0    2.0  2007-12-06  2008-03-25  Non-Food Handler                 \n",
       "\n",
       "   WORKED  VIOLATION_COUNT  \n",
       "0    True              NaN  \n",
       "1    True              NaN  \n",
       "2    True              NaN  \n",
       "3    True              NaN  \n",
       "4    True              NaN  "
      ]
     },
     "execution_count": 55,
     "metadata": {},
     "output_type": "execute_result"
    }
   ],
   "source": [
    "# Merge work flag into the violation count table\n",
    "institutional_with_violations['WORKED'] = institutional_with_violations['WORKED'].fillna(False)\n",
    "# Display the first few rows of the final merged data.\n",
    "\n",
    "institutional_with_violations.head()"
   ]
  },
  {
   "cell_type": "code",
   "execution_count": null,
   "id": "4cc51f78",
   "metadata": {},
   "outputs": [
    {
     "name": "stdout",
     "output_type": "stream",
     "text": [
      "work_summary\n",
      "   WORKED   count        sum      mean\n",
      "0    True  268022  2555290.0  9.533882\n"
     ]
    }
   ],
   "source": [
    "\n",
    "# Group by work status and summarize the number of violations\n",
    "work_summary = institutional_with_violations.groupby('WORKED')['VIOLATION_COUNT'].agg(['count', 'sum', 'mean']).reset_index()\n",
    "# Display results\n",
    "print(\"work_summary\")\n",
    "print(work_summary)"
   ]
  },
  {
   "cell_type": "markdown",
   "id": "afad872b",
   "metadata": {},
   "source": [
    "## Question 5 :How many people return to prison within two years of release?"
   ]
  },
  {
   "cell_type": "code",
   "execution_count": null,
   "id": "6e6cdf3a",
   "metadata": {},
   "outputs": [
    {
     "name": "stdout",
     "output_type": "stream",
     "text": [
      "15370 out of 81953 people returned to prison within 2 years. That's a 18.75% recidivism rate.\n"
     ]
    }
   ],
   "source": [
    "\n",
    "df.columns = df.columns.str.strip().str.upper()\n",
    "\n",
    "# Convert dates to datetime format\n",
    "df['ADMISSION_DATE'] = pd.to_datetime(df['ADMISSION_DATE'])\n",
    "df['RELEASE_DATE'] = pd.to_datetime(df['RELEASE_DATE'])\n",
    "\n",
    "# Sort by person and admission date\n",
    "df = df.sort_values(by=['PERSON_ID', 'ADMISSION_DATE'])\n",
    "\n",
    "# Shift admission date to next row to detect return\n",
    "df['NEXT_ADMISSION_DATE'] = df.groupby('PERSON_ID')['ADMISSION_DATE'].shift(-1)\n",
    "\n",
    "# Calculate days between release and next admission\n",
    "df['DAYS_BETWEEN'] = (df['NEXT_ADMISSION_DATE'] - df['RELEASE_DATE']).dt.days\n",
    "\n",
    "# Flag returns within 730 days (2 years)\n",
    "df['RETURN_WITHIN_2YRS'] = (df['DAYS_BETWEEN'] > 0) & (df['DAYS_BETWEEN'] <= 730)\n",
    "\n",
    "# Count how many unique people returned within 2 years\n",
    "returned_ids = df[df['RETURN_WITHIN_2YRS'] == True]['PERSON_ID'].nunique()\n",
    "total_ids = df['PERSON_ID'].nunique()\n",
    "\n",
    "# Calculate and print percentage\n",
    "recidivism_rate = round((returned_ids / total_ids) * 100, 2)\n",
    "\n",
    "print(f\"{returned_ids} out of {total_ids} people returned to prison within 2 years. That's a {recidivism_rate}% recidivism rate.\")\n"
   ]
  },
  {
   "cell_type": "code",
   "execution_count": null,
   "id": "22f513a7",
   "metadata": {},
   "outputs": [
    {
     "name": "stdout",
     "output_type": "stream",
     "text": [
      "{'Demographics': {'Missing Values': PERSON_ID    2\n",
      "dtype: int64, 'Duplicate Rows': 0, 'Total Rows': 81955}, 'Releases': {'Missing Values': PERSON_ID          5\n",
      "CYCLE              5\n",
      "DEATH_DATE    106078\n",
      "dtype: int64, 'Duplicate Rows': 0, 'Total Rows': 111089}, 'Violations': {'Missing Values': PERSON_ID    41\n",
      "CYCLE        41\n",
      "dtype: int64, 'Duplicate Rows': 1, 'Total Rows': 222646}, 'Classes': {'Missing Values': PERSON_ID    10\n",
      "CYCLE        10\n",
      "dtype: int64, 'Duplicate Rows': 0, 'Total Rows': 193202}, 'Institutional Work': {'Missing Values': PERSON_ID    13\n",
      "CYCLE        13\n",
      "dtype: int64, 'Duplicate Rows': 0, 'Total Rows': 358597}}\n"
     ]
    }
   ],
   "source": [
    "import pandas as pd\n",
    "\n",
    "# Load sample rows from each file\n",
    "demographics = pd.read_excel(\"demographics.xlsx\")\n",
    "releases = pd.read_excel(\"releases.xlsx\")\n",
    "violations = pd.read_excel(\"violations.xlsx\")\n",
    "classes = pd.read_excel(\"classes.xlsx\")\n",
    "institutional_work = pd.read_excel(\"institutional_work.xlsx\")\n",
    "\n",
    "# Check for missing values and duplicates\n",
    "datasets = {\n",
    "    \"Demographics\": demographics,\n",
    "    \"Releases\": releases,\n",
    "    \"Violations\": violations,\n",
    "    \"Classes\": classes,\n",
    "    \"Institutional Work\": institutional_work\n",
    "}\n",
    "\n",
    "quality_report = {}\n",
    "for name, df in datasets.items():\n",
    "    df.columns = df.columns.str.upper().str.strip()\n",
    "    missing = df.isnull().sum()\n",
    "    duplicate_rows = df.duplicated().sum()\n",
    "    quality_report[name] = {\n",
    "        \"Missing Values\": missing[missing > 0],\n",
    "        \"Duplicate Rows\": duplicate_rows,\n",
    "        \"Total Rows\": len(df)\n",
    "    }\n",
    "\n",
    "print(quality_report)\n"
   ]
  },
  {
   "cell_type": "code",
   "execution_count": null,
   "id": "a391da21",
   "metadata": {},
   "outputs": [
    {
     "name": "stdout",
     "output_type": "stream",
     "text": [
      "Index(['PERSON_ID', 'CYCLE', 'PROGRAM_TITLE', 'CLASS_TITLE', 'START_DATE',\n",
      "       'STOP_DATE', 'EXIT_TYPE_CD'],\n",
      "      dtype='object')\n"
     ]
    }
   ],
   "source": [
    "import pandas as pd\n",
    "\n",
    "# Load the top few rows to see all columns\n",
    "df = pd.read_excel(\"classes.xlsx\")\n",
    "print(df.columns)\n"
   ]
  },
  {
   "cell_type": "code",
   "execution_count": null,
   "id": "0bdf5b83",
   "metadata": {},
   "outputs": [
    {
     "data": {
      "image/png": "[encoded data removed]",
      "text/plain": [
       "<Figure size 1000x500 with 1 Axes>"
      ]
     },
     "metadata": {},
     "output_type": "display_data"
    }
   ],
   "source": [
    "import pandas as pd\n",
    "import matplotlib.pyplot as plt\n",
    "\n",
    "# Load data\n",
    "df = pd.read_excel(\"classes.xlsx\")\n",
    "\n",
    "# Convert start date to datetime and extract year\n",
    "df[\"START_DATE\"] = pd.to_datetime(df[\"START_DATE\"], errors=\"coerce\")\n",
    "df[\"YEAR\"] = df[\"START_DATE\"].dt.year\n",
    "\n",
    "# Clean and normalize EXIT_TYPE_CD\n",
    "df[\"EXIT_TYPE_CD\"] = df[\"EXIT_TYPE_CD\"].astype(str).str.lower().str.strip()\n",
    "\n",
    "# Flag successful completions (you can adjust this condition based on actual values)\n",
    "df[\"SUCCESS\"] = df[\"EXIT_TYPE_CD\"].apply(lambda x: 1 if \"complete\" in x or \"success\" in x else 0)\n",
    "\n",
    "# Group by year to compute average success rate\n",
    "completion_rate = df.groupby(\"YEAR\")[\"SUCCESS\"].mean().reset_index()\n",
    "\n",
    "# Plot\n",
    "plt.figure(figsize=(10, 5))\n",
    "plt.plot(completion_rate[\"YEAR\"], completion_rate[\"SUCCESS\"], marker=\"o\")\n",
    "plt.title(\"Successful Class Completion Rate Over Time\")\n",
    "plt.xlabel(\"Year\")\n",
    "plt.ylabel(\"Average Completion Rate\")\n",
    "plt.grid(True)\n",
    "plt.tight_layout()\n",
    "plt.show()\n"
   ]
  },
  {
   "cell_type": "code",
   "execution_count": 14,
   "id": "8423c4e3",
   "metadata": {},
   "outputs": [
    {
     "data": {
      "text/html": [
       "<div>\n",
       "<style scoped>\n",
       "    .dataframe tbody tr th:only-of-type {\n",
       "        vertical-align: middle;\n",
       "    }\n",
       "\n",
       "    .dataframe tbody tr th {\n",
       "        vertical-align: top;\n",
       "    }\n",
       "\n",
       "    .dataframe thead th {\n",
       "        text-align: right;\n",
       "    }\n",
       "</style>\n",
       "<table border=\"1\" class=\"dataframe\">\n",
       "  <thead>\n",
       "    <tr style=\"text-align: right;\">\n",
       "      <th></th>\n",
       "      <th>PERSON_ID</th>\n",
       "      <th>CYCLE</th>\n",
       "      <th>PROGRAM_TITLE</th>\n",
       "      <th>CLASS_TITLE</th>\n",
       "      <th>START_DATE</th>\n",
       "      <th>STOP_DATE</th>\n",
       "      <th>EXIT_TYPE_CD</th>\n",
       "    </tr>\n",
       "  </thead>\n",
       "  <tbody>\n",
       "    <tr>\n",
       "      <th>0</th>\n",
       "      <td>97737218.0</td>\n",
       "      <td>2.0</td>\n",
       "      <td>ANGER</td>\n",
       "      <td>ANGER MANAGEMENT</td>\n",
       "      <td>2012-03-15</td>\n",
       "      <td>2012-06-21</td>\n",
       "      <td>SFL</td>\n",
       "    </tr>\n",
       "    <tr>\n",
       "      <th>1</th>\n",
       "      <td>80832089.0</td>\n",
       "      <td>3.0</td>\n",
       "      <td>COGNITIVE</td>\n",
       "      <td>PATHWAY TO CHANGE</td>\n",
       "      <td>2016-08-02</td>\n",
       "      <td>2016-08-18</td>\n",
       "      <td>SFL</td>\n",
       "    </tr>\n",
       "    <tr>\n",
       "      <th>2</th>\n",
       "      <td>80832089.0</td>\n",
       "      <td>3.0</td>\n",
       "      <td>INSTITUTIONAL TREATMENT</td>\n",
       "      <td>SHORT TERM (559.115, 217.785, BOARD)</td>\n",
       "      <td>2016-06-02</td>\n",
       "      <td>2016-09-08</td>\n",
       "      <td>SFL</td>\n",
       "    </tr>\n",
       "    <tr>\n",
       "      <th>3</th>\n",
       "      <td>68129888.0</td>\n",
       "      <td>2.0</td>\n",
       "      <td>LIFE SKILLS</td>\n",
       "      <td>EMPLOYABILITY SKILLS/LIFE SKILLS</td>\n",
       "      <td>2008-12-18</td>\n",
       "      <td>2009-02-25</td>\n",
       "      <td>SFL</td>\n",
       "    </tr>\n",
       "    <tr>\n",
       "      <th>4</th>\n",
       "      <td>78516984.0</td>\n",
       "      <td>2.0</td>\n",
       "      <td>ANGER</td>\n",
       "      <td>ANGER MANAGEMENT</td>\n",
       "      <td>2014-03-12</td>\n",
       "      <td>2014-05-28</td>\n",
       "      <td>SFL</td>\n",
       "    </tr>\n",
       "  </tbody>\n",
       "</table>\n",
       "</div>"
      ],
      "text/plain": [
       "    PERSON_ID  CYCLE            PROGRAM_TITLE  \\\n",
       "0  97737218.0    2.0                    ANGER   \n",
       "1  80832089.0    3.0                COGNITIVE   \n",
       "2  80832089.0    3.0  INSTITUTIONAL TREATMENT   \n",
       "3  68129888.0    2.0              LIFE SKILLS   \n",
       "4  78516984.0    2.0                    ANGER   \n",
       "\n",
       "                            CLASS_TITLE  START_DATE   STOP_DATE EXIT_TYPE_CD  \n",
       "0                      ANGER MANAGEMENT  2012-03-15  2012-06-21          SFL  \n",
       "1                     PATHWAY TO CHANGE  2016-08-02  2016-08-18          SFL  \n",
       "2  SHORT TERM (559.115, 217.785, BOARD)  2016-06-02  2016-09-08          SFL  \n",
       "3      EMPLOYABILITY SKILLS/LIFE SKILLS  2008-12-18  2009-02-25          SFL  \n",
       "4                      ANGER MANAGEMENT  2014-03-12  2014-05-28          SFL  "
      ]
     },
     "execution_count": 14,
     "metadata": {},
     "output_type": "execute_result"
    }
   ],
   "source": [
    "# read data from classes\n",
    "classes = pd.read_excel(\"classes.xlsx\")\n",
    "# Display the first few rows of the classes data.\n",
    "classes.head()"
   ]
  },
  {
   "cell_type": "markdown",
   "id": "88a0fdfb",
   "metadata": {},
   "source": [
    " Filter Family-Oriented Programs"
   ]
  },
  {
   "cell_type": "code",
   "execution_count": 20,
   "id": "914367a7",
   "metadata": {},
   "outputs": [
    {
     "name": "stdout",
     "output_type": "stream",
     "text": [
      "✅ Total family-related class enrollments found: 5068\n",
      "    PERSON_ID PROGRAM_TITLE     CLASS_TITLE EXIT_TYPE_CD\n",
      "0   4030732.0     parenting  inside out dad          SFL\n",
      "1  32279263.0     parenting  inside out dad          SFL\n",
      "2  31135857.0     parenting  inside out dad          SFL\n",
      "3    544779.0     parenting  inside out dad          SFL\n",
      "4  96700411.0   life skills   relationships          SFL\n"
     ]
    }
   ],
   "source": [
    "import pandas as pd\n",
    "\n",
    "# Load the dataset\n",
    "classes_df = pd.read_excel(\"classes.xlsx\")\n",
    "\n",
    "# Drop rows with missing essential values\n",
    "classes_df.dropna(subset=[\"PERSON_ID\", \"PROGRAM_TITLE\", \"CLASS_TITLE\", \"EXIT_TYPE_CD\", \"START_DATE\"], inplace=True)\n",
    "\n",
    "# Normalize text for filtering\n",
    "classes_df['PROGRAM_TITLE'] = classes_df['PROGRAM_TITLE'].astype(str).str.lower()\n",
    "classes_df['CLASS_TITLE'] = classes_df['CLASS_TITLE'].astype(str).str.lower()\n",
    "\n",
    "# Define keywords for family-oriented programs\n",
    "keywords = ['family', 'parenting', 'reunification', 'relationship', 'fatherhood', 'motherhood']\n",
    "\n",
    "# Filter based on keywords\n",
    "family_classes = classes_df[\n",
    "    classes_df['PROGRAM_TITLE'].str.contains('|'.join(keywords), na=False) |\n",
    "    classes_df['CLASS_TITLE'].str.contains('|'.join(keywords), na=False)\n",
    "]\n",
    "\n",
    "# Reset index for cleanliness\n",
    "family_classes.reset_index(drop=True, inplace=True)\n",
    "\n",
    "# Preview\n",
    "print(f\"✅ Total family-related class enrollments found: {len(family_classes)}\")\n",
    "print(family_classes[['PERSON_ID', 'PROGRAM_TITLE', 'CLASS_TITLE', 'EXIT_TYPE_CD']].head())\n"
   ]
  },
  {
   "cell_type": "markdown",
   "id": "3829ddda",
   "metadata": {},
   "source": [
    "Calculate Completion Rate"
   ]
  },
  {
   "cell_type": "code",
   "execution_count": 19,
   "id": "6a7b4f8f",
   "metadata": {},
   "outputs": [
    {
     "name": "stdout",
     "output_type": "stream",
     "text": [
      "🎯 Completion Rate: 69.05%\n"
     ]
    }
   ],
   "source": [
    "# Filter for valid completions (e.g., 'SFL' = Successful)\n",
    "completed = family_classes[family_classes['EXIT_TYPE_CD'].str.upper() == 'SFL']\n",
    "incomplete = family_classes[family_classes['EXIT_TYPE_CD'].str.upper() != 'SFL']\n",
    "\n",
    "# Avoid division by zero\n",
    "if len(family_classes) > 0:\n",
    "    completion_rate = len(completed) / len(family_classes) * 100\n",
    "    print(f\"🎯 Completion Rate: {completion_rate:.2f}%\")\n",
    "else:\n",
    "    print(\"⚠️ No family-related classes found to calculate completion rate.\")"
   ]
  },
  {
   "cell_type": "markdown",
   "id": "c9d29853",
   "metadata": {},
   "source": [
    "Trends over time"
   ]
  },
  {
   "cell_type": "code",
   "execution_count": 18,
   "id": "dfefbc8f",
   "metadata": {},
   "outputs": [
    {
     "name": "stderr",
     "output_type": "stream",
     "text": [
      "C:\\Users\\cheth\\AppData\\Local\\Temp\\ipykernel_16880\\4089117122.py:4: SettingWithCopyWarning: \n",
      "A value is trying to be set on a copy of a slice from a DataFrame.\n",
      "Try using .loc[row_indexer,col_indexer] = value instead\n",
      "\n",
      "See the caveats in the documentation: https://pandas.pydata.org/pandas-docs/stable/user_guide/indexing.html#returning-a-view-versus-a-copy\n",
      "  family_classes['START_DATE'] = pd.to_datetime(family_classes['START_DATE'], errors='coerce')\n",
      "C:\\Users\\cheth\\AppData\\Local\\Temp\\ipykernel_16880\\4089117122.py:20: UserWarning: Glyph 128202 (\\N{BAR CHART}) missing from font(s) DejaVu Sans.\n",
      "  plt.tight_layout()\n",
      "c:\\Users\\cheth\\miniconda3\\lib\\site-packages\\IPython\\core\\pylabtools.py:152: UserWarning: Glyph 128202 (\\N{BAR CHART}) missing from font(s) DejaVu Sans.\n",
      "  fig.canvas.print_figure(bytes_io, **kw)\n"
     ]
    },
    {
     "data": {
      "image/png": "[encoded data removed]",
      "text/plain": [
       "<Figure size 1000x500 with 1 Axes>"
      ]
     },
     "metadata": {},
     "output_type": "display_data"
    }
   ],
   "source": [
    "import matplotlib.pyplot as plt\n",
    "\n",
    "# Convert START_DATE to datetime, drop rows with invalid dates\n",
    "family_classes['START_DATE'] = pd.to_datetime(family_classes['START_DATE'], errors='coerce')\n",
    "family_classes = family_classes.dropna(subset=['START_DATE'])\n",
    "\n",
    "# Extract year from START_DATE\n",
    "family_classes['YEAR'] = family_classes['START_DATE'].dt.year\n",
    "\n",
    "# Group by year and count\n",
    "enrollments_by_year = family_classes.groupby('YEAR').size()\n",
    "\n",
    "# Plot the trend\n",
    "plt.figure(figsize=(10, 5))\n",
    "enrollments_by_year.plot(kind='line', marker='o', color='blue')\n",
    "plt.title(\"📊 Family Program Enrollments Over Time\")\n",
    "plt.xlabel(\"Year\")\n",
    "plt.ylabel(\"Number of Enrollments\")\n",
    "plt.grid(True)\n",
    "plt.tight_layout()\n",
    "plt.show()\n"
   ]
  },
  {
   "cell_type": "markdown",
   "id": "5b9fc2a3",
   "metadata": {},
   "source": [
    "Prograam of Inside out dad and parenting "
   ]
  },
  {
   "cell_type": "code",
   "execution_count": 21,
   "id": "821a8cff",
   "metadata": {},
   "outputs": [
    {
     "name": "stdout",
     "output_type": "stream",
     "text": [
      "🧔 Inside Out Dad participants: 4001\n",
      "      PERSON_ID PROGRAM_TITLE     CLASS_TITLE  START_DATE EXIT_TYPE_CD\n",
      "109   4030732.0     parenting  inside out dad  2017-07-25          SFL\n",
      "235  32279263.0     parenting  inside out dad  2016-11-15          SFL\n",
      "250  31135857.0     parenting  inside out dad  2018-08-24          SFL\n",
      "277    544779.0     parenting  inside out dad  2017-04-12          SFL\n",
      "319  38449904.0     parenting  inside out dad  2017-11-15          SFL\n",
      "\n",
      "👨‍👩‍👧 Parenting program participants: 4865\n",
      "      PERSON_ID PROGRAM_TITLE     CLASS_TITLE  START_DATE EXIT_TYPE_CD\n",
      "109   4030732.0     parenting  inside out dad  2017-07-25          SFL\n",
      "235  32279263.0     parenting  inside out dad  2016-11-15          SFL\n",
      "250  31135857.0     parenting  inside out dad  2018-08-24          SFL\n",
      "277    544779.0     parenting  inside out dad  2017-04-12          SFL\n",
      "319  38449904.0     parenting  inside out dad  2017-11-15          SFL\n",
      "\n",
      "💬 Relationships class participants: 193\n",
      "      PERSON_ID PROGRAM_TITLE    CLASS_TITLE  START_DATE EXIT_TYPE_CD\n",
      "313  96700411.0   life skills  relationships  2000-09-11          SFL\n",
      "360  19719540.0   life skills  relationships  2002-04-11          SFL\n",
      "387  32206216.0   life skills  relationships  2014-04-04          SFL\n",
      "392  75507667.0   life skills  relationships  2009-06-30          SFL\n",
      "594  66538082.0   life skills  relationships  2008-01-15          UNS\n"
     ]
    }
   ],
   "source": [
    "import pandas as pd\n",
    "\n",
    "# Load your dataset\n",
    "classes_df = pd.read_excel(\"classes.xlsx\")\n",
    "\n",
    "# Drop rows with missing relevant fields\n",
    "classes_df.dropna(subset=[\"PROGRAM_TITLE\", \"CLASS_TITLE\", \"EXIT_TYPE_CD\"], inplace=True)\n",
    "\n",
    "# Normalize text for reliable filtering\n",
    "classes_df['PROGRAM_TITLE'] = classes_df['PROGRAM_TITLE'].astype(str).str.lower()\n",
    "classes_df['CLASS_TITLE'] = classes_df['CLASS_TITLE'].astype(str).str.lower()\n",
    "\n",
    "# Define the search terms\n",
    "keywords = {\n",
    "    \"inside_out_dad\": \"inside out dad\",\n",
    "    \"parenting\": \"parenting\",\n",
    "    \"relationships\": \"relationships\"\n",
    "}\n",
    "\n",
    "# Create filtered DataFrames for each program\n",
    "inside_out_dad_df = classes_df[\n",
    "    classes_df['CLASS_TITLE'].str.contains(keywords[\"inside_out_dad\"], na=False)\n",
    "]\n",
    "\n",
    "parenting_df = classes_df[\n",
    "    classes_df['PROGRAM_TITLE'].str.contains(keywords[\"parenting\"], na=False)\n",
    "]\n",
    "\n",
    "relationships_df = classes_df[\n",
    "    classes_df['CLASS_TITLE'].str.contains(keywords[\"relationships\"], na=False)\n",
    "]\n",
    "\n",
    "# Print summaries\n",
    "print(f\"🧔 Inside Out Dad participants: {len(inside_out_dad_df)}\")\n",
    "print(inside_out_dad_df[['PERSON_ID', 'PROGRAM_TITLE', 'CLASS_TITLE', 'START_DATE', 'EXIT_TYPE_CD']].head())\n",
    "\n",
    "print(f\"\\n👨‍👩‍👧 Parenting program participants: {len(parenting_df)}\")\n",
    "print(parenting_df[['PERSON_ID', 'PROGRAM_TITLE', 'CLASS_TITLE', 'START_DATE', 'EXIT_TYPE_CD']].head())\n",
    "\n",
    "print(f\"\\n💬 Relationships class participants: {len(relationships_df)}\")\n",
    "print(relationships_df[['PERSON_ID', 'PROGRAM_TITLE', 'CLASS_TITLE', 'START_DATE', 'EXIT_TYPE_CD']].head())\n",
    "\n",
    "\n"
   ]
  },
  {
   "cell_type": "markdown",
   "id": "054137d3",
   "metadata": {},
   "source": [
    "Completion Rate by Program Type"
   ]
  },
  {
   "cell_type": "code",
   "execution_count": 22,
   "id": "d35d3c50",
   "metadata": {},
   "outputs": [
    {
     "name": "stdout",
     "output_type": "stream",
     "text": [
      "EXIT_TYPE_CD    NOF   SFL  UNS  Total  CompletionRate\n",
      "PROGRAM_TYPE                                         \n",
      "Inside Out Dad  644  2747  610   4001           68.66\n",
      "Parenting       845  3386  634   4865           69.60\n",
      "Relationships    17   114   62    193           59.07\n"
     ]
    }
   ],
   "source": [
    "import pandas as pd\n",
    "\n",
    "# Load dataset\n",
    "classes_df = pd.read_excel(\"classes.xlsx\")\n",
    "\n",
    "# Clean & normalize\n",
    "classes_df.dropna(subset=[\"PROGRAM_TITLE\", \"CLASS_TITLE\", \"EXIT_TYPE_CD\"], inplace=True)\n",
    "classes_df['PROGRAM_TITLE'] = classes_df['PROGRAM_TITLE'].astype(str).str.lower()\n",
    "classes_df['CLASS_TITLE'] = classes_df['CLASS_TITLE'].astype(str).str.lower()\n",
    "\n",
    "# Define program filters\n",
    "keywords = {\n",
    "    \"inside_out_dad\": \"inside out dad\",\n",
    "    \"parenting\": \"parenting\",\n",
    "    \"relationships\": \"relationships\"\n",
    "}\n",
    "\n",
    "# Filter data\n",
    "inside_out_dad_df = classes_df[classes_df['CLASS_TITLE'].str.contains(keywords['inside_out_dad'])]\n",
    "parenting_df = classes_df[classes_df['PROGRAM_TITLE'].str.contains(keywords['parenting'])]\n",
    "relationships_df = classes_df[classes_df['CLASS_TITLE'].str.contains(keywords['relationships'])]\n",
    "\n",
    "# Combine all\n",
    "combined_df = pd.concat([\n",
    "    inside_out_dad_df.assign(PROGRAM_TYPE=\"Inside Out Dad\"),\n",
    "    parenting_df.assign(PROGRAM_TYPE=\"Parenting\"),\n",
    "    relationships_df.assign(PROGRAM_TYPE=\"Relationships\")\n",
    "])\n",
    "combined_df['EXIT_TYPE_CD'] = combined_df['EXIT_TYPE_CD'].str.upper()\n",
    "\n",
    "# Calculate completion rates\n",
    "summary = (\n",
    "    combined_df.groupby(\"PROGRAM_TYPE\")[\"EXIT_TYPE_CD\"]\n",
    "    .value_counts().unstack(fill_value=0)\n",
    "    .assign(Total=lambda df: df.sum(axis=1))\n",
    "    .assign(CompletionRate=lambda df: round(df.get('SFL', 0) / df['Total'] * 100, 2))\n",
    ")\n",
    "\n",
    "print(summary)\n"
   ]
  },
  {
   "cell_type": "markdown",
   "id": "676b7c20",
   "metadata": {},
   "source": [
    "Merge with Violations and Calculate Violation Rate"
   ]
  },
  {
   "cell_type": "code",
   "execution_count": 23,
   "id": "9c7c1c21",
   "metadata": {},
   "outputs": [
    {
     "name": "stdout",
     "output_type": "stream",
     "text": [
      "                With_Violation  Total_Enrolled  ViolationRate (%)\n",
      "PROGRAM_TYPE                                                     \n",
      "Inside Out Dad           21399           22459              95.28\n",
      "Parenting                25418           26736              95.07\n",
      "Relationships              639             716              89.25\n"
     ]
    }
   ],
   "source": [
    "# Load violations file\n",
    "violations_df = pd.read_excel(\"violations.xlsx\")\n",
    "\n",
    "# Drop nulls and normalize\n",
    "violations_df.dropna(subset=[\"PERSON_ID\", \"VIOLATION_DATE\"], inplace=True)\n",
    "violations_df[\"PERSON_ID\"] = violations_df[\"PERSON_ID\"].astype(str).str.strip()\n",
    "combined_df[\"PERSON_ID\"] = combined_df[\"PERSON_ID\"].astype(str).str.strip()\n",
    "\n",
    "# Merge on PERSON_ID\n",
    "merged_df = pd.merge(combined_df, violations_df, on=\"PERSON_ID\", how=\"left\", indicator=True)\n",
    "\n",
    "# Add flag for violation existence\n",
    "merged_df[\"Has_Violation\"] = merged_df[\"_merge\"] == \"both\"\n",
    "\n",
    "# Violation rate summary\n",
    "violation_summary = (\n",
    "    merged_df.groupby(\"PROGRAM_TYPE\")[\"Has_Violation\"]\n",
    "    .agg([\"sum\", \"count\"])\n",
    "    .rename(columns={\"sum\": \"With_Violation\", \"count\": \"Total_Enrolled\"})\n",
    ")\n",
    "violation_summary[\"ViolationRate (%)\"] = round((violation_summary[\"With_Violation\"] / violation_summary[\"Total_Enrolled\"]) * 100, 2)\n",
    "print(violation_summary)\n"
   ]
  },
  {
   "cell_type": "markdown",
   "id": "3950c84f",
   "metadata": {},
   "source": [
    ". Graph: Yearly Enrollment Trends"
   ]
  },
  {
   "cell_type": "code",
   "execution_count": 24,
   "id": "995dd5e9",
   "metadata": {},
   "outputs": [
    {
     "data": {
      "text/plain": [
       "<Figure size 1200x600 with 0 Axes>"
      ]
     },
     "metadata": {},
     "output_type": "display_data"
    },
    {
     "data": {
      "image/png": "[encoded data removed]",
      "text/plain": [
       "<Figure size 640x480 with 1 Axes>"
      ]
     },
     "metadata": {},
     "output_type": "display_data"
    }
   ],
   "source": [
    "import matplotlib.pyplot as plt\n",
    "\n",
    "# Parse and clean date\n",
    "combined_df['START_DATE'] = pd.to_datetime(combined_df['START_DATE'], errors='coerce')\n",
    "combined_df.dropna(subset=['START_DATE'], inplace=True)\n",
    "\n",
    "# Extract year and group\n",
    "combined_df['YEAR'] = combined_df['START_DATE'].dt.year\n",
    "yearly_counts = combined_df.groupby(['YEAR', 'PROGRAM_TYPE']).size().unstack(fill_value=0)\n",
    "\n",
    "# Plot\n",
    "plt.figure(figsize=(12, 6))\n",
    "yearly_counts.plot(marker='o')\n",
    "plt.title(\"Enrollment Trends for Family-Oriented Programs (2000–2023)\")\n",
    "plt.xlabel(\"Year\")\n",
    "plt.ylabel(\"Enrollments\")\n",
    "plt.grid(True)\n",
    "plt.tight_layout()\n",
    "plt.legend(title=\"Program Type\")\n",
    "plt.show()\n"
   ]
  },
  {
   "cell_type": "code",
   "execution_count": 25,
   "id": "b9102e48",
   "metadata": {},
   "outputs": [
    {
     "name": "stdout",
     "output_type": "stream",
     "text": [
      "Top 10 Most Popular Classes with Completion Rates:\n",
      "EXIT_TYPE_CD                                   CLASS_TITLE    NOF    SFL  \\\n",
      "0                                        pathway to change   6496  33939   \n",
      "1                     short term (559.115, 217.785, board)   1488  30552   \n",
      "2             high school equivalency dors education staff  17255   1979   \n",
      "3                               impact of crime on victims   1972  12992   \n",
      "4                                         anger management   1600   7908   \n",
      "5                           6 month intermediate treatment    390   8194   \n",
      "6                   high school equivalency contracted/mou   6077   1730   \n",
      "7                               long term (217.362, board)    325   5344   \n",
      "8                         employability skills/life skills    724   4933   \n",
      "9                                           inside out dad    644   2747   \n",
      "\n",
      "EXIT_TYPE_CD   UNS  Total  CompletionRate  \n",
      "0             2933  43368           78.26  \n",
      "1             2010  34050           89.73  \n",
      "2              407  19641           10.08  \n",
      "3             1427  16391           79.26  \n",
      "4             1207  10715           73.80  \n",
      "5             1453  10037           81.64  \n",
      "6              359   8166           21.19  \n",
      "7              902   6571           81.33  \n",
      "8              499   6156           80.13  \n",
      "9              610   4001           68.66  \n"
     ]
    }
   ],
   "source": [
    "import pandas as pd\n",
    "\n",
    "# Step 1: Load your DOC class data\n",
    "classes_df = pd.read_excel(\"classes.xlsx\")\n",
    "\n",
    "# Step 2: Remove rows with missing class title or completion status\n",
    "classes_df.dropna(subset=[\"CLASS_TITLE\", \"EXIT_TYPE_CD\"], inplace=True)\n",
    "\n",
    "# Step 3: Normalize class titles and exit codes for consistency\n",
    "classes_df['CLASS_TITLE'] = classes_df['CLASS_TITLE'].astype(str).str.strip().str.lower()\n",
    "classes_df['EXIT_TYPE_CD'] = classes_df['EXIT_TYPE_CD'].astype(str).str.upper()\n",
    "\n",
    "# Step 4: Group by class title and count exit types (e.g., SFL = successful completion)\n",
    "class_summary = (\n",
    "    classes_df.groupby(\"CLASS_TITLE\")[\"EXIT_TYPE_CD\"]\n",
    "    .value_counts()\n",
    "    .unstack(fill_value=0)\n",
    "    .assign(Total=lambda df: df.sum(axis=1))  # Add total enrollments\n",
    "    .assign(CompletionRate=lambda df: round(df.get(\"SFL\", 0) / df[\"Total\"] * 100, 2))  # Calculate % completed\n",
    "    .sort_values(by=\"Total\", ascending=False)  # Sort by most popular\n",
    ")\n",
    "\n",
    "# Step 5: Show top 10 most enrolled classes\n",
    "class_summary = class_summary.reset_index().head(10)\n",
    "\n",
    "# Step 6: Display result\n",
    "print(\"Top 10 Most Popular Classes with Completion Rates:\")\n",
    "print(class_summary)\n"
   ]
  }
 ],
 "metadata": {
  "kernelspec": {
   "display_name": "base",
   "language": "python",
   "name": "python3"
  },
  "language_info": {
   "codemirror_mode": {
    "name": "ipython",
    "version": 3
   },
   "file_extension": ".py",
   "mimetype": "text/x-python",
   "name": "python",
   "nbconvert_exporter": "python",
   "pygments_lexer": "ipython3",
   "version": "3.10.10"
  }
 },
 "nbformat": 4,
 "nbformat_minor": 5
}
